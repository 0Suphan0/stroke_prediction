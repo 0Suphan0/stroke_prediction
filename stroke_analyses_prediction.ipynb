{
 "cells": [
  {
   "cell_type": "markdown",
   "metadata": {},
   "source": [
    "# Stroke Analysis & Prediction"
   ]
  },
  {
   "cell_type": "markdown",
   "metadata": {},
   "source": [
    "### Project Overview\n",
    "The Stroke Analysis & Prediction project aims to analyze and predict the likelihood of a patient experiencing a stroke based on various input parameters such as gender, age, presence of hypertension, heart disease, marital status, work type, residence type, average glucose level, body mass index (BMI), and smoking status. The project utilizes exploratory data analysis (EDA), missing value analysis, and employs machine learning and deep learning models for prediction."
   ]
  },
  {
   "cell_type": "markdown",
   "metadata": {},
   "source": [
    "# Introduction\n",
    "* According to the World Health Organization (WHO) stroke is the 2nd leading cause of death globally, responsible for approximately 11% of total deaths.\n",
    "* This dataset is used to predict whether a patient is likely to get stroke based on the input parameters like gender, age, various diseases, and smoking status. Each row in the data provides relavant information about the patient"
   ]
  },
  {
   "cell_type": "markdown",
   "metadata": {},
   "source": [
    "![Stroke Image](images/Stroke-Signs-Men-Women-medium.jpg)\n"
   ]
  },
  {
   "cell_type": "markdown",
   "metadata": {},
   "source": [
    "# Analysis Content\n",
    "1. [Python Libraries: Import essential libraries for data manipulation, visualization, and machine learning.](#1)\n",
    "2. [Data Content: Description of the dataset, including each attribute and its significance.](#2)\n",
    "3. [Data Loading and Exploration: Read the data from the CSV file, display the first few rows, and provide basic statistics and information about the dataset.](#3)\n",
    "4. [Handling Missing Values: Identify and impute missing values in the dataset, especially focusing on BMI.](#4)\n",
    "5. [Unique Value Examination: Analyze the unique values in each column to understand the diversity of the data.](#5)\n",
    "6. [Categorical Data Analysis: Visual and statistical analysis of categorical features like gender, hypertension, heart disease, etc., with respect to stroke occurrence.](#6)\n",
    "7. [Numerical Data Analysis: Explore numerical features like age, average glucose level, and BMI using scatter plots and pair plots.](#7)\n",
    "8. [Feature Engineering: <br><b>Standardization:</b> Standardize numerical features to have a mean of 0 and a standard deviation of 1.<br><b>Normalization:</b> Apply Min-Max scaling to transform features by scaling each feature to a given range.<br><b>Outlier Detection and Handling:</b> Detect and handle outliers in the data using methods like IQR.<br><b>Encoding Categorical Variables:</b>Convert categorical variables into a form that could be provided to ML algorithms.](#8)\n",
    "9. [Exploratory Data Analysis (EDA):<br><b>Box Plot Analysis:</b> Understand the distribution and identify outliers in the data.<br><b>Swarm Plot Analysis:</b> Visualize the distribution of data points.<br><b>Cat Plot Analysis:</b> Detailed analysis of categorical data.<br><b>Correlation Analysis:</b> Evaluate the correlation between different numerical features.](#9)<br>\n",
    "10. [Machine Learning Models:<br><b>Logistic Regression:</b> Base model for comparison, including performance metrics like accuracy, precision, recall, and F1 score.<br><b>Decision Tree:</b> Analyze the decision tree model and its performance.<br><b>Random Forest: </b>Explore random forest model effectiveness in prediction.<br><b>Support Vector </b>Machine (SVM): Evaluate the SVM model's performance.<br><b>Ensemble Learning: </b>Combine different models and analyze their collective performance](#10)\n",
    "11. [Deep Learning Models:<br><b>CNN-1D:</b> Implement and evaluate a 1D Convolutional Neural Network.<br><b>LSTM and BiLSTM:</b> Use LSTM and BiLSTM models for prediction and compare their performance.<br><b>Hybrid Models:</b> Create and evaluate hybrid models combining CNN-1D with LSTM and BiLSTM.<br><b>Deep Learning Ensemble:</b> Combine different deep learning models using ensemble techniques.](#11)\n",
    "12. [Model Comparison and Selection: Compare all models based on their performance metrics and select the best performing model.](#12)\n",
    "13. [Conclusion and Recommendations](#13)\n",
    "\n"
   ]
  },
  {
   "cell_type": "markdown",
   "metadata": {},
   "source": [
    "<a id=\"1\"> </a>\n",
    "# Python Libraries\n",
    "* In this section we import used pyhton libraries.\n"
   ]
  },
  {
   "cell_type": "code",
   "execution_count": 93,
   "metadata": {},
   "outputs": [],
   "source": [
    "\n",
    "\n",
    "import numpy as np # linear algebra\n",
    "import pandas as pd # data processing, CSV file I/O (e.g. pd.read_csv)\n",
    "import matplotlib.pyplot as plt\n",
    "import seaborn as sns\n",
    "\n",
    "\n",
    "from sklearn.linear_model import LogisticRegression\n",
    "from sklearn.preprocessing import StandardScaler\n",
    "from sklearn.model_selection import train_test_split, GridSearchCV\n",
    "from sklearn.metrics import accuracy_score, roc_curve, precision_score,recall_score, f1_score\n",
    "from sklearn.tree import DecisionTreeClassifier\n",
    "from sklearn.ensemble import RandomForestClassifier\n",
    "from sklearn.ensemble import VotingClassifier\n",
    "from sklearn.svm import SVC\n",
    "from sklearn.preprocessing import MinMaxScaler\n",
    "from sklearn.linear_model import Lasso\n",
    "\n",
    "\n",
    "\n",
    "\n",
    "import warnings\n",
    "warnings.filterwarnings(\"ignore\")"
   ]
  },
  {
   "cell_type": "markdown",
   "metadata": {},
   "source": [
    "<a id=\"2\"> </a>\n",
    "# Data Content\n",
    "1) id: unique identifier\n",
    "2) gender: \"Male\", \"Female\" or \"Other\"\n",
    "3) age: age of the patient\n",
    "4) hypertension: 0 if the patient doesn't have hypertension, 1 if the patient has hypertension\n",
    "5) heart_disease: 0 if the patient doesn't have any heart diseases, 1 if the patient has a heart disease\n",
    "6) ever_married: \"No\" or \"Yes\"\n",
    "7) work_type: \"children\", \"Govt_jov\", \"Never_worked\", \"Private\" or \"Self-employed\"\n",
    "8) Residence_type: \"Rural\" or \"Urban\"\n",
    "9) avg_glucose_level: average glucose level in blood\n",
    "10) bmi: body mass index\n",
    "11) smoking_status: \"formerly smoked\", \"never smoked\", \"smokes\" or \"Unknown\"*\n",
    "12) stroke: 1 if the patient had a stroke or 0 if not\n",
    "*Note: \"Unknown\" in smoking_status means that the information is unavailable for this patient"
   ]
  },
  {
   "cell_type": "markdown",
   "metadata": {},
   "source": [
    "<a id=\"3\"> </a>\n",
    "\n",
    "# Read and Analyse Data\n",
    "* In this section we read healthcare-dataset-stroke-data.csv"
   ]
  },
  {
   "cell_type": "code",
   "execution_count": 94,
   "metadata": {},
   "outputs": [],
   "source": [
    "# read data \n",
    "df = pd.read_csv(\"healthcare-dataset-stroke-data.csv\")"
   ]
  },
  {
   "cell_type": "code",
   "execution_count": 95,
   "metadata": {},
   "outputs": [
    {
     "data": {
      "text/html": [
       "<div>\n",
       "<style scoped>\n",
       "    .dataframe tbody tr th:only-of-type {\n",
       "        vertical-align: middle;\n",
       "    }\n",
       "\n",
       "    .dataframe tbody tr th {\n",
       "        vertical-align: top;\n",
       "    }\n",
       "\n",
       "    .dataframe thead th {\n",
       "        text-align: right;\n",
       "    }\n",
       "</style>\n",
       "<table border=\"1\" class=\"dataframe\">\n",
       "  <thead>\n",
       "    <tr style=\"text-align: right;\">\n",
       "      <th></th>\n",
       "      <th>id</th>\n",
       "      <th>gender</th>\n",
       "      <th>age</th>\n",
       "      <th>hypertension</th>\n",
       "      <th>heart_disease</th>\n",
       "      <th>ever_married</th>\n",
       "      <th>work_type</th>\n",
       "      <th>Residence_type</th>\n",
       "      <th>avg_glucose_level</th>\n",
       "      <th>bmi</th>\n",
       "      <th>smoking_status</th>\n",
       "      <th>stroke</th>\n",
       "    </tr>\n",
       "  </thead>\n",
       "  <tbody>\n",
       "    <tr>\n",
       "      <th>0</th>\n",
       "      <td>9046</td>\n",
       "      <td>Male</td>\n",
       "      <td>67.0</td>\n",
       "      <td>0</td>\n",
       "      <td>1</td>\n",
       "      <td>Yes</td>\n",
       "      <td>Private</td>\n",
       "      <td>Urban</td>\n",
       "      <td>228.69</td>\n",
       "      <td>36.6</td>\n",
       "      <td>formerly smoked</td>\n",
       "      <td>1</td>\n",
       "    </tr>\n",
       "    <tr>\n",
       "      <th>1</th>\n",
       "      <td>51676</td>\n",
       "      <td>Female</td>\n",
       "      <td>61.0</td>\n",
       "      <td>0</td>\n",
       "      <td>0</td>\n",
       "      <td>Yes</td>\n",
       "      <td>Self-employed</td>\n",
       "      <td>Rural</td>\n",
       "      <td>202.21</td>\n",
       "      <td>NaN</td>\n",
       "      <td>never smoked</td>\n",
       "      <td>1</td>\n",
       "    </tr>\n",
       "    <tr>\n",
       "      <th>2</th>\n",
       "      <td>31112</td>\n",
       "      <td>Male</td>\n",
       "      <td>80.0</td>\n",
       "      <td>0</td>\n",
       "      <td>1</td>\n",
       "      <td>Yes</td>\n",
       "      <td>Private</td>\n",
       "      <td>Rural</td>\n",
       "      <td>105.92</td>\n",
       "      <td>32.5</td>\n",
       "      <td>never smoked</td>\n",
       "      <td>1</td>\n",
       "    </tr>\n",
       "    <tr>\n",
       "      <th>3</th>\n",
       "      <td>60182</td>\n",
       "      <td>Female</td>\n",
       "      <td>49.0</td>\n",
       "      <td>0</td>\n",
       "      <td>0</td>\n",
       "      <td>Yes</td>\n",
       "      <td>Private</td>\n",
       "      <td>Urban</td>\n",
       "      <td>171.23</td>\n",
       "      <td>34.4</td>\n",
       "      <td>smokes</td>\n",
       "      <td>1</td>\n",
       "    </tr>\n",
       "    <tr>\n",
       "      <th>4</th>\n",
       "      <td>1665</td>\n",
       "      <td>Female</td>\n",
       "      <td>79.0</td>\n",
       "      <td>1</td>\n",
       "      <td>0</td>\n",
       "      <td>Yes</td>\n",
       "      <td>Self-employed</td>\n",
       "      <td>Rural</td>\n",
       "      <td>174.12</td>\n",
       "      <td>24.0</td>\n",
       "      <td>never smoked</td>\n",
       "      <td>1</td>\n",
       "    </tr>\n",
       "  </tbody>\n",
       "</table>\n",
       "</div>"
      ],
      "text/plain": [
       "      id  gender   age  hypertension  heart_disease ever_married  \\\n",
       "0   9046    Male  67.0             0              1          Yes   \n",
       "1  51676  Female  61.0             0              0          Yes   \n",
       "2  31112    Male  80.0             0              1          Yes   \n",
       "3  60182  Female  49.0             0              0          Yes   \n",
       "4   1665  Female  79.0             1              0          Yes   \n",
       "\n",
       "       work_type Residence_type  avg_glucose_level   bmi   smoking_status  \\\n",
       "0        Private          Urban             228.69  36.6  formerly smoked   \n",
       "1  Self-employed          Rural             202.21   NaN     never smoked   \n",
       "2        Private          Rural             105.92  32.5     never smoked   \n",
       "3        Private          Urban             171.23  34.4           smokes   \n",
       "4  Self-employed          Rural             174.12  24.0     never smoked   \n",
       "\n",
       "   stroke  \n",
       "0       1  \n",
       "1       1  \n",
       "2       1  \n",
       "3       1  \n",
       "4       1  "
      ]
     },
     "execution_count": 95,
     "metadata": {},
     "output_type": "execute_result"
    }
   ],
   "source": [
    "df.head()"
   ]
  },
  {
   "cell_type": "code",
   "execution_count": 96,
   "metadata": {},
   "outputs": [
    {
     "data": {
      "text/html": [
       "<div>\n",
       "<style scoped>\n",
       "    .dataframe tbody tr th:only-of-type {\n",
       "        vertical-align: middle;\n",
       "    }\n",
       "\n",
       "    .dataframe tbody tr th {\n",
       "        vertical-align: top;\n",
       "    }\n",
       "\n",
       "    .dataframe thead th {\n",
       "        text-align: right;\n",
       "    }\n",
       "</style>\n",
       "<table border=\"1\" class=\"dataframe\">\n",
       "  <thead>\n",
       "    <tr style=\"text-align: right;\">\n",
       "      <th></th>\n",
       "      <th>id</th>\n",
       "      <th>age</th>\n",
       "      <th>hypertension</th>\n",
       "      <th>heart_disease</th>\n",
       "      <th>avg_glucose_level</th>\n",
       "      <th>bmi</th>\n",
       "      <th>stroke</th>\n",
       "    </tr>\n",
       "  </thead>\n",
       "  <tbody>\n",
       "    <tr>\n",
       "      <th>count</th>\n",
       "      <td>5110.000000</td>\n",
       "      <td>5110.000000</td>\n",
       "      <td>5110.000000</td>\n",
       "      <td>5110.000000</td>\n",
       "      <td>5110.000000</td>\n",
       "      <td>4909.000000</td>\n",
       "      <td>5110.000000</td>\n",
       "    </tr>\n",
       "    <tr>\n",
       "      <th>mean</th>\n",
       "      <td>36517.829354</td>\n",
       "      <td>43.226614</td>\n",
       "      <td>0.097456</td>\n",
       "      <td>0.054012</td>\n",
       "      <td>106.147677</td>\n",
       "      <td>28.893237</td>\n",
       "      <td>0.048728</td>\n",
       "    </tr>\n",
       "    <tr>\n",
       "      <th>std</th>\n",
       "      <td>21161.721625</td>\n",
       "      <td>22.612647</td>\n",
       "      <td>0.296607</td>\n",
       "      <td>0.226063</td>\n",
       "      <td>45.283560</td>\n",
       "      <td>7.854067</td>\n",
       "      <td>0.215320</td>\n",
       "    </tr>\n",
       "    <tr>\n",
       "      <th>min</th>\n",
       "      <td>67.000000</td>\n",
       "      <td>0.080000</td>\n",
       "      <td>0.000000</td>\n",
       "      <td>0.000000</td>\n",
       "      <td>55.120000</td>\n",
       "      <td>10.300000</td>\n",
       "      <td>0.000000</td>\n",
       "    </tr>\n",
       "    <tr>\n",
       "      <th>25%</th>\n",
       "      <td>17741.250000</td>\n",
       "      <td>25.000000</td>\n",
       "      <td>0.000000</td>\n",
       "      <td>0.000000</td>\n",
       "      <td>77.245000</td>\n",
       "      <td>23.500000</td>\n",
       "      <td>0.000000</td>\n",
       "    </tr>\n",
       "    <tr>\n",
       "      <th>50%</th>\n",
       "      <td>36932.000000</td>\n",
       "      <td>45.000000</td>\n",
       "      <td>0.000000</td>\n",
       "      <td>0.000000</td>\n",
       "      <td>91.885000</td>\n",
       "      <td>28.100000</td>\n",
       "      <td>0.000000</td>\n",
       "    </tr>\n",
       "    <tr>\n",
       "      <th>75%</th>\n",
       "      <td>54682.000000</td>\n",
       "      <td>61.000000</td>\n",
       "      <td>0.000000</td>\n",
       "      <td>0.000000</td>\n",
       "      <td>114.090000</td>\n",
       "      <td>33.100000</td>\n",
       "      <td>0.000000</td>\n",
       "    </tr>\n",
       "    <tr>\n",
       "      <th>max</th>\n",
       "      <td>72940.000000</td>\n",
       "      <td>82.000000</td>\n",
       "      <td>1.000000</td>\n",
       "      <td>1.000000</td>\n",
       "      <td>271.740000</td>\n",
       "      <td>97.600000</td>\n",
       "      <td>1.000000</td>\n",
       "    </tr>\n",
       "  </tbody>\n",
       "</table>\n",
       "</div>"
      ],
      "text/plain": [
       "                 id          age  hypertension  heart_disease  \\\n",
       "count   5110.000000  5110.000000   5110.000000    5110.000000   \n",
       "mean   36517.829354    43.226614      0.097456       0.054012   \n",
       "std    21161.721625    22.612647      0.296607       0.226063   \n",
       "min       67.000000     0.080000      0.000000       0.000000   \n",
       "25%    17741.250000    25.000000      0.000000       0.000000   \n",
       "50%    36932.000000    45.000000      0.000000       0.000000   \n",
       "75%    54682.000000    61.000000      0.000000       0.000000   \n",
       "max    72940.000000    82.000000      1.000000       1.000000   \n",
       "\n",
       "       avg_glucose_level          bmi       stroke  \n",
       "count        5110.000000  4909.000000  5110.000000  \n",
       "mean          106.147677    28.893237     0.048728  \n",
       "std            45.283560     7.854067     0.215320  \n",
       "min            55.120000    10.300000     0.000000  \n",
       "25%            77.245000    23.500000     0.000000  \n",
       "50%            91.885000    28.100000     0.000000  \n",
       "75%           114.090000    33.100000     0.000000  \n",
       "max           271.740000    97.600000     1.000000  "
      ]
     },
     "execution_count": 96,
     "metadata": {},
     "output_type": "execute_result"
    }
   ],
   "source": [
    "# describe basic statistic of data\n",
    "df.describe()"
   ]
  },
  {
   "cell_type": "code",
   "execution_count": 97,
   "metadata": {},
   "outputs": [
    {
     "name": "stdout",
     "output_type": "stream",
     "text": [
      "<class 'pandas.core.frame.DataFrame'>\n",
      "RangeIndex: 5110 entries, 0 to 5109\n",
      "Data columns (total 12 columns):\n",
      " #   Column             Non-Null Count  Dtype  \n",
      "---  ------             --------------  -----  \n",
      " 0   id                 5110 non-null   int64  \n",
      " 1   gender             5110 non-null   object \n",
      " 2   age                5110 non-null   float64\n",
      " 3   hypertension       5110 non-null   int64  \n",
      " 4   heart_disease      5110 non-null   int64  \n",
      " 5   ever_married       5110 non-null   object \n",
      " 6   work_type          5110 non-null   object \n",
      " 7   Residence_type     5110 non-null   object \n",
      " 8   avg_glucose_level  5110 non-null   float64\n",
      " 9   bmi                4909 non-null   float64\n",
      " 10  smoking_status     5110 non-null   object \n",
      " 11  stroke             5110 non-null   int64  \n",
      "dtypes: float64(3), int64(4), object(5)\n",
      "memory usage: 479.2+ KB\n"
     ]
    }
   ],
   "source": [
    "# information of dataframe\n",
    "df.info()"
   ]
  },
  {
   "cell_type": "markdown",
   "metadata": {},
   "source": [
    "<a id=\"4\"> </a>\n",
    "# Missing Value Analyses\n",
    "\n"
   ]
  },
  {
   "cell_type": "code",
   "execution_count": 98,
   "metadata": {},
   "outputs": [
    {
     "data": {
      "text/plain": [
       "id                     0\n",
       "gender                 0\n",
       "age                    0\n",
       "hypertension           0\n",
       "heart_disease          0\n",
       "ever_married           0\n",
       "work_type              0\n",
       "Residence_type         0\n",
       "avg_glucose_level      0\n",
       "bmi                  201\n",
       "smoking_status         0\n",
       "stroke                 0\n",
       "dtype: int64"
      ]
     },
     "execution_count": 98,
     "metadata": {},
     "output_type": "execute_result"
    }
   ],
   "source": [
    "df.isnull().sum()\n"
   ]
  },
  {
   "cell_type": "code",
   "execution_count": 99,
   "metadata": {},
   "outputs": [],
   "source": [
    "mean_bmi = df['bmi'].mean()\n",
    "df['bmi'].fillna(mean_bmi, inplace=True)\n"
   ]
  },
  {
   "cell_type": "code",
   "execution_count": 100,
   "metadata": {},
   "outputs": [
    {
     "data": {
      "text/plain": [
       "id                   0\n",
       "gender               0\n",
       "age                  0\n",
       "hypertension         0\n",
       "heart_disease        0\n",
       "ever_married         0\n",
       "work_type            0\n",
       "Residence_type       0\n",
       "avg_glucose_level    0\n",
       "bmi                  0\n",
       "smoking_status       0\n",
       "stroke               0\n",
       "dtype: int64"
      ]
     },
     "execution_count": 100,
     "metadata": {},
     "output_type": "execute_result"
    }
   ],
   "source": [
    "df.isnull().sum()\n"
   ]
  },
  {
   "cell_type": "markdown",
   "metadata": {},
   "source": [
    "<a id=\"5\"> </a>\n",
    "# Unique Value Analyses\n"
   ]
  },
  {
   "cell_type": "code",
   "execution_count": 101,
   "metadata": {},
   "outputs": [
    {
     "name": "stdout",
     "output_type": "stream",
     "text": [
      "id---5110\n",
      "gender---3\n",
      "age---104\n",
      "hypertension---2\n",
      "heart_disease---2\n",
      "ever_married---2\n",
      "work_type---5\n",
      "Residence_type---2\n",
      "avg_glucose_level---3979\n",
      "bmi---419\n",
      "smoking_status---4\n",
      "stroke---2\n"
     ]
    }
   ],
   "source": [
    "for i in list(df.columns):\n",
    "    print(\"{}---{}\".format(i , df[i].value_counts().shape[0]))"
   ]
  },
  {
   "cell_type": "markdown",
   "metadata": {},
   "source": [
    "<a id=\"6\"> </a>\n",
    "\n",
    "# Categorical Feature Analyses"
   ]
  },
  {
   "cell_type": "code",
   "execution_count": 102,
   "metadata": {},
   "outputs": [],
   "source": [
    "categorical_list = [\"gender\",\"hypertension\",\"heart_disease\",\"ever_married\",\"work_type\",\"Residence_type\",\"smoking_status\",\"stroke\"]"
   ]
  },
  {
   "cell_type": "code",
   "execution_count": 103,
   "metadata": {},
   "outputs": [
    {
     "data": {
      "image/png": "[encoded data removed]",
      "text/plain": [
       "<Figure size 640x480 with 1 Axes>"
      ]
     },
     "metadata": {},
     "output_type": "display_data"
    },
    {
     "data": {
      "image/png": "[encoded data removed]",
      "text/plain": [
       "<Figure size 640x480 with 1 Axes>"
      ]
     },
     "metadata": {},
     "output_type": "display_data"
    },
    {
     "data": {
      "image/png": "[encoded data removed]",
      "text/plain": [
       "<Figure size 640x480 with 1 Axes>"
      ]
     },
     "metadata": {},
     "output_type": "display_data"
    },
    {
     "data": {
      "image/png": "[encoded data removed]",
      "text/plain": [
       "<Figure size 640x480 with 1 Axes>"
      ]
     },
     "metadata": {},
     "output_type": "display_data"
    },
    {
     "data": {
      "image/png": "[encoded data removed]",
      "text/plain": [
       "<Figure size 640x480 with 1 Axes>"
      ]
     },
     "metadata": {},
     "output_type": "display_data"
    },
    {
     "data": {
      "image/png": "[encoded data removed]",
      "text/plain": [
       "<Figure size 640x480 with 1 Axes>"
      ]
     },
     "metadata": {},
     "output_type": "display_data"
    },
    {
     "data": {
      "image/png": "[encoded data removed]",
      "text/plain": [
       "<Figure size 640x480 with 1 Axes>"
      ]
     },
     "metadata": {},
     "output_type": "display_data"
    },
    {
     "data": {
      "image/png": "[encoded data removed]",
      "text/plain": [
       "<Figure size 640x480 with 1 Axes>"
      ]
     },
     "metadata": {},
     "output_type": "display_data"
    }
   ],
   "source": [
    "df_categoric= df.loc[:, categorical_list].astype(str)\n",
    "for i in categorical_list:\n",
    "        plt.figure()\n",
    "        sns.countplot(x=i, data=df_categoric, hue=\"stroke\")\n",
    "        plt.title(i)"
   ]
  },
  {
   "cell_type": "markdown",
   "metadata": {},
   "source": [
    "<a id=\"7\"> </a>\n",
    "\n",
    "# Numeric Feature Analyses\n",
    "* Bivariate data analysis with scatter plot."
   ]
  },
  {
   "cell_type": "code",
   "execution_count": 104,
   "metadata": {},
   "outputs": [],
   "source": [
    "numeric_list = [\"age\",\"avg_glucose_level\",\"bmi\",\"stroke\"]"
   ]
  },
  {
   "cell_type": "code",
   "execution_count": 105,
   "metadata": {},
   "outputs": [],
   "source": [
    "# df_numeric = df.loc[:,numeric_list]\n",
    "# sns.pairplot(df_numeric, hue=\"stroke\",diag_kind=\"kde\")\n",
    "# plt.show()"
   ]
  },
  {
   "cell_type": "markdown",
   "metadata": {},
   "source": [
    "<a id=\"8\"> </a>\n",
    "\n",
    "# FEATURE ENGINEERING\n"
   ]
  },
  {
   "cell_type": "markdown",
   "metadata": {},
   "source": [
    "## Standardization"
   ]
  },
  {
   "cell_type": "code",
   "execution_count": 106,
   "metadata": {},
   "outputs": [],
   "source": [
    "# scaler = StandardScaler()\n",
    "# scaler"
   ]
  },
  {
   "cell_type": "code",
   "execution_count": 107,
   "metadata": {},
   "outputs": [],
   "source": [
    "# scaled_array = scaler.fit_transform(df[numeric_list[:-1]])"
   ]
  },
  {
   "cell_type": "code",
   "execution_count": 108,
   "metadata": {},
   "outputs": [],
   "source": [
    "# scaled_array"
   ]
  },
  {
   "cell_type": "code",
   "execution_count": 109,
   "metadata": {},
   "outputs": [],
   "source": [
    "# pd.DataFrame(scaled_array).describe()"
   ]
  },
  {
   "cell_type": "markdown",
   "metadata": {},
   "source": [
    "\n",
    "# Normalization"
   ]
  },
  {
   "cell_type": "code",
   "execution_count": 110,
   "metadata": {},
   "outputs": [],
   "source": [
    "# Min-Max Scaler nesnesini oluşturuldu\n",
    "scaler = MinMaxScaler()"
   ]
  },
  {
   "cell_type": "code",
   "execution_count": 111,
   "metadata": {},
   "outputs": [],
   "source": [
    "# Veri setindeki sütunları normalizasyon işlemine tabi tutuldu\n",
    "scaled_array = scaler.fit_transform(df[numeric_list[:-1]])"
   ]
  },
  {
   "cell_type": "code",
   "execution_count": 112,
   "metadata": {},
   "outputs": [
    {
     "data": {
      "text/plain": [
       "array([[0.81689453, 0.80126489, 0.30126002],\n",
       "       [0.74365234, 0.67902317, 0.21298095],\n",
       "       [0.97558594, 0.23451205, 0.25429553],\n",
       "       ...,\n",
       "       [0.42626953, 0.12865848, 0.2325315 ],\n",
       "       [0.62158203, 0.51320284, 0.17525773],\n",
       "       [0.53613281, 0.13922999, 0.18213058]])"
      ]
     },
     "execution_count": 112,
     "metadata": {},
     "output_type": "execute_result"
    }
   ],
   "source": [
    "scaled_array"
   ]
  },
  {
   "cell_type": "markdown",
   "metadata": {},
   "source": [
    "<a id=\"9\"> </a>\n",
    "\n",
    "# Box Plot Analyses"
   ]
  },
  {
   "cell_type": "code",
   "execution_count": 113,
   "metadata": {},
   "outputs": [
    {
     "data": {
      "text/html": [
       "<div>\n",
       "<style scoped>\n",
       "    .dataframe tbody tr th:only-of-type {\n",
       "        vertical-align: middle;\n",
       "    }\n",
       "\n",
       "    .dataframe tbody tr th {\n",
       "        vertical-align: top;\n",
       "    }\n",
       "\n",
       "    .dataframe thead th {\n",
       "        text-align: right;\n",
       "    }\n",
       "</style>\n",
       "<table border=\"1\" class=\"dataframe\">\n",
       "  <thead>\n",
       "    <tr style=\"text-align: right;\">\n",
       "      <th></th>\n",
       "      <th>age</th>\n",
       "      <th>avg_glucose_level</th>\n",
       "      <th>bmi</th>\n",
       "    </tr>\n",
       "  </thead>\n",
       "  <tbody>\n",
       "    <tr>\n",
       "      <th>0</th>\n",
       "      <td>0.816895</td>\n",
       "      <td>0.801265</td>\n",
       "      <td>0.301260</td>\n",
       "    </tr>\n",
       "    <tr>\n",
       "      <th>1</th>\n",
       "      <td>0.743652</td>\n",
       "      <td>0.679023</td>\n",
       "      <td>0.212981</td>\n",
       "    </tr>\n",
       "    <tr>\n",
       "      <th>2</th>\n",
       "      <td>0.975586</td>\n",
       "      <td>0.234512</td>\n",
       "      <td>0.254296</td>\n",
       "    </tr>\n",
       "    <tr>\n",
       "      <th>3</th>\n",
       "      <td>0.597168</td>\n",
       "      <td>0.536008</td>\n",
       "      <td>0.276060</td>\n",
       "    </tr>\n",
       "    <tr>\n",
       "      <th>4</th>\n",
       "      <td>0.963379</td>\n",
       "      <td>0.549349</td>\n",
       "      <td>0.156930</td>\n",
       "    </tr>\n",
       "  </tbody>\n",
       "</table>\n",
       "</div>"
      ],
      "text/plain": [
       "        age  avg_glucose_level       bmi\n",
       "0  0.816895           0.801265  0.301260\n",
       "1  0.743652           0.679023  0.212981\n",
       "2  0.975586           0.234512  0.254296\n",
       "3  0.597168           0.536008  0.276060\n",
       "4  0.963379           0.549349  0.156930"
      ]
     },
     "execution_count": 113,
     "metadata": {},
     "output_type": "execute_result"
    }
   ],
   "source": [
    "df_dummy = pd.DataFrame(scaled_array, columns=numeric_list[:-1])\n",
    "df_dummy.head()"
   ]
  },
  {
   "cell_type": "code",
   "execution_count": 114,
   "metadata": {},
   "outputs": [
    {
     "data": {
      "text/html": [
       "<div>\n",
       "<style scoped>\n",
       "    .dataframe tbody tr th:only-of-type {\n",
       "        vertical-align: middle;\n",
       "    }\n",
       "\n",
       "    .dataframe tbody tr th {\n",
       "        vertical-align: top;\n",
       "    }\n",
       "\n",
       "    .dataframe thead th {\n",
       "        text-align: right;\n",
       "    }\n",
       "</style>\n",
       "<table border=\"1\" class=\"dataframe\">\n",
       "  <thead>\n",
       "    <tr style=\"text-align: right;\">\n",
       "      <th></th>\n",
       "      <th>age</th>\n",
       "      <th>avg_glucose_level</th>\n",
       "      <th>bmi</th>\n",
       "      <th>stroke</th>\n",
       "    </tr>\n",
       "  </thead>\n",
       "  <tbody>\n",
       "    <tr>\n",
       "      <th>0</th>\n",
       "      <td>0.816895</td>\n",
       "      <td>0.801265</td>\n",
       "      <td>0.301260</td>\n",
       "      <td>1</td>\n",
       "    </tr>\n",
       "    <tr>\n",
       "      <th>1</th>\n",
       "      <td>0.743652</td>\n",
       "      <td>0.679023</td>\n",
       "      <td>0.212981</td>\n",
       "      <td>1</td>\n",
       "    </tr>\n",
       "    <tr>\n",
       "      <th>2</th>\n",
       "      <td>0.975586</td>\n",
       "      <td>0.234512</td>\n",
       "      <td>0.254296</td>\n",
       "      <td>1</td>\n",
       "    </tr>\n",
       "    <tr>\n",
       "      <th>3</th>\n",
       "      <td>0.597168</td>\n",
       "      <td>0.536008</td>\n",
       "      <td>0.276060</td>\n",
       "      <td>1</td>\n",
       "    </tr>\n",
       "    <tr>\n",
       "      <th>4</th>\n",
       "      <td>0.963379</td>\n",
       "      <td>0.549349</td>\n",
       "      <td>0.156930</td>\n",
       "      <td>1</td>\n",
       "    </tr>\n",
       "  </tbody>\n",
       "</table>\n",
       "</div>"
      ],
      "text/plain": [
       "        age  avg_glucose_level       bmi  stroke\n",
       "0  0.816895           0.801265  0.301260       1\n",
       "1  0.743652           0.679023  0.212981       1\n",
       "2  0.975586           0.234512  0.254296       1\n",
       "3  0.597168           0.536008  0.276060       1\n",
       "4  0.963379           0.549349  0.156930       1"
      ]
     },
     "execution_count": 114,
     "metadata": {},
     "output_type": "execute_result"
    }
   ],
   "source": [
    "df_dummy = pd.concat([df_dummy, df.loc[:,\"stroke\"]],axis=1)\n",
    "df_dummy.head()"
   ]
  },
  {
   "cell_type": "code",
   "execution_count": 115,
   "metadata": {},
   "outputs": [
    {
     "data": {
      "text/html": [
       "<div>\n",
       "<style scoped>\n",
       "    .dataframe tbody tr th:only-of-type {\n",
       "        vertical-align: middle;\n",
       "    }\n",
       "\n",
       "    .dataframe tbody tr th {\n",
       "        vertical-align: top;\n",
       "    }\n",
       "\n",
       "    .dataframe thead th {\n",
       "        text-align: right;\n",
       "    }\n",
       "</style>\n",
       "<table border=\"1\" class=\"dataframe\">\n",
       "  <thead>\n",
       "    <tr style=\"text-align: right;\">\n",
       "      <th></th>\n",
       "      <th>stroke</th>\n",
       "      <th>features</th>\n",
       "      <th>value</th>\n",
       "    </tr>\n",
       "  </thead>\n",
       "  <tbody>\n",
       "    <tr>\n",
       "      <th>0</th>\n",
       "      <td>1</td>\n",
       "      <td>age</td>\n",
       "      <td>0.816895</td>\n",
       "    </tr>\n",
       "    <tr>\n",
       "      <th>1</th>\n",
       "      <td>1</td>\n",
       "      <td>age</td>\n",
       "      <td>0.743652</td>\n",
       "    </tr>\n",
       "    <tr>\n",
       "      <th>2</th>\n",
       "      <td>1</td>\n",
       "      <td>age</td>\n",
       "      <td>0.975586</td>\n",
       "    </tr>\n",
       "    <tr>\n",
       "      <th>3</th>\n",
       "      <td>1</td>\n",
       "      <td>age</td>\n",
       "      <td>0.597168</td>\n",
       "    </tr>\n",
       "    <tr>\n",
       "      <th>4</th>\n",
       "      <td>1</td>\n",
       "      <td>age</td>\n",
       "      <td>0.963379</td>\n",
       "    </tr>\n",
       "    <tr>\n",
       "      <th>5</th>\n",
       "      <td>1</td>\n",
       "      <td>age</td>\n",
       "      <td>0.987793</td>\n",
       "    </tr>\n",
       "    <tr>\n",
       "      <th>6</th>\n",
       "      <td>1</td>\n",
       "      <td>age</td>\n",
       "      <td>0.902344</td>\n",
       "    </tr>\n",
       "    <tr>\n",
       "      <th>7</th>\n",
       "      <td>1</td>\n",
       "      <td>age</td>\n",
       "      <td>0.841309</td>\n",
       "    </tr>\n",
       "    <tr>\n",
       "      <th>8</th>\n",
       "      <td>1</td>\n",
       "      <td>age</td>\n",
       "      <td>0.719238</td>\n",
       "    </tr>\n",
       "    <tr>\n",
       "      <th>9</th>\n",
       "      <td>1</td>\n",
       "      <td>age</td>\n",
       "      <td>0.951172</td>\n",
       "    </tr>\n",
       "    <tr>\n",
       "      <th>10</th>\n",
       "      <td>1</td>\n",
       "      <td>age</td>\n",
       "      <td>0.987793</td>\n",
       "    </tr>\n",
       "    <tr>\n",
       "      <th>11</th>\n",
       "      <td>1</td>\n",
       "      <td>age</td>\n",
       "      <td>0.743652</td>\n",
       "    </tr>\n",
       "    <tr>\n",
       "      <th>12</th>\n",
       "      <td>1</td>\n",
       "      <td>age</td>\n",
       "      <td>0.658203</td>\n",
       "    </tr>\n",
       "    <tr>\n",
       "      <th>13</th>\n",
       "      <td>1</td>\n",
       "      <td>age</td>\n",
       "      <td>0.951172</td>\n",
       "    </tr>\n",
       "    <tr>\n",
       "      <th>14</th>\n",
       "      <td>1</td>\n",
       "      <td>age</td>\n",
       "      <td>0.963379</td>\n",
       "    </tr>\n",
       "    <tr>\n",
       "      <th>15</th>\n",
       "      <td>1</td>\n",
       "      <td>age</td>\n",
       "      <td>0.609375</td>\n",
       "    </tr>\n",
       "    <tr>\n",
       "      <th>16</th>\n",
       "      <td>1</td>\n",
       "      <td>age</td>\n",
       "      <td>0.780273</td>\n",
       "    </tr>\n",
       "    <tr>\n",
       "      <th>17</th>\n",
       "      <td>1</td>\n",
       "      <td>age</td>\n",
       "      <td>0.914551</td>\n",
       "    </tr>\n",
       "    <tr>\n",
       "      <th>18</th>\n",
       "      <td>1</td>\n",
       "      <td>age</td>\n",
       "      <td>0.731445</td>\n",
       "    </tr>\n",
       "    <tr>\n",
       "      <th>19</th>\n",
       "      <td>1</td>\n",
       "      <td>age</td>\n",
       "      <td>0.694824</td>\n",
       "    </tr>\n",
       "  </tbody>\n",
       "</table>\n",
       "</div>"
      ],
      "text/plain": [
       "    stroke features     value\n",
       "0        1      age  0.816895\n",
       "1        1      age  0.743652\n",
       "2        1      age  0.975586\n",
       "3        1      age  0.597168\n",
       "4        1      age  0.963379\n",
       "5        1      age  0.987793\n",
       "6        1      age  0.902344\n",
       "7        1      age  0.841309\n",
       "8        1      age  0.719238\n",
       "9        1      age  0.951172\n",
       "10       1      age  0.987793\n",
       "11       1      age  0.743652\n",
       "12       1      age  0.658203\n",
       "13       1      age  0.951172\n",
       "14       1      age  0.963379\n",
       "15       1      age  0.609375\n",
       "16       1      age  0.780273\n",
       "17       1      age  0.914551\n",
       "18       1      age  0.731445\n",
       "19       1      age  0.694824"
      ]
     },
     "execution_count": 115,
     "metadata": {},
     "output_type": "execute_result"
    }
   ],
   "source": [
    "data_melted=pd.melt(df_dummy,id_vars=\"stroke\",var_name=\"features\",value_name=\"value\")\n",
    "data_melted.head(20)"
   ]
  },
  {
   "cell_type": "code",
   "execution_count": 116,
   "metadata": {},
   "outputs": [
    {
     "data": {
      "image/png": "[encoded data removed]",
      "text/plain": [
       "<Figure size 640x480 with 1 Axes>"
      ]
     },
     "metadata": {},
     "output_type": "display_data"
    }
   ],
   "source": [
    "# box plot\n",
    "plt.figure()\n",
    "sns.boxplot(x=\"features\",y=\"value\",hue=\"stroke\",data=data_melted)\n",
    "plt.show()"
   ]
  },
  {
   "cell_type": "markdown",
   "metadata": {},
   "source": [
    "\n",
    "# Swarm Plot Analyses\n"
   ]
  },
  {
   "cell_type": "code",
   "execution_count": 117,
   "metadata": {},
   "outputs": [],
   "source": [
    "# swarm-plot\n",
    "#plt.figure()\n",
    "#sns.swarmplot(x=\"features\",y=\"value\",hue=\"stroke\",data=data_melted)\n",
    "#plt.show()"
   ]
  },
  {
   "cell_type": "markdown",
   "metadata": {},
   "source": [
    "\n",
    "# Cat Plot Analyses"
   ]
  },
  {
   "cell_type": "code",
   "execution_count": 118,
   "metadata": {},
   "outputs": [],
   "source": [
    "# sns.catplot(x=\"hypertension\", y=\"age\", hue=\"stroke\",col=\"gender\",kind=\"swarm\",data=df)\n",
    "# plt.show"
   ]
  },
  {
   "cell_type": "markdown",
   "metadata": {},
   "source": [
    "<a id=\"13\"> </a>\n",
    "# Correlation Analyses"
   ]
  },
  {
   "cell_type": "code",
   "execution_count": 119,
   "metadata": {},
   "outputs": [],
   "source": [
    "# # Select only numeric columns from the DataFrame\n",
    "# numeric_columns = df.select_dtypes(include=[np.number])\n",
    "\n",
    "# # Plot the correlation matrix for numeric columns\n",
    "# plt.figure(figsize=(14, 10))\n",
    "# sns.heatmap(numeric_columns.corr(), annot=True, fmt=\".1f\", linewidths=.7)\n",
    "# plt.show()\n"
   ]
  },
  {
   "cell_type": "markdown",
   "metadata": {},
   "source": [
    "<a id=\"14\"> </a>\n",
    "# Outlier Detection\n",
    "* Outliers can disrupt ML process <br> <br>\n",
    "![Outliers Image](images/outliers.png)\n"
   ]
  },
  {
   "cell_type": "code",
   "execution_count": 120,
   "metadata": {},
   "outputs": [
    {
     "data": {
      "text/html": [
       "<div>\n",
       "<style scoped>\n",
       "    .dataframe tbody tr th:only-of-type {\n",
       "        vertical-align: middle;\n",
       "    }\n",
       "\n",
       "    .dataframe tbody tr th {\n",
       "        vertical-align: top;\n",
       "    }\n",
       "\n",
       "    .dataframe thead th {\n",
       "        text-align: right;\n",
       "    }\n",
       "</style>\n",
       "<table border=\"1\" class=\"dataframe\">\n",
       "  <thead>\n",
       "    <tr style=\"text-align: right;\">\n",
       "      <th></th>\n",
       "      <th>age</th>\n",
       "      <th>avg_glucose_level</th>\n",
       "      <th>bmi</th>\n",
       "      <th>stroke</th>\n",
       "    </tr>\n",
       "  </thead>\n",
       "  <tbody>\n",
       "    <tr>\n",
       "      <th>0</th>\n",
       "      <td>67.0</td>\n",
       "      <td>228.69</td>\n",
       "      <td>36.600000</td>\n",
       "      <td>1</td>\n",
       "    </tr>\n",
       "    <tr>\n",
       "      <th>1</th>\n",
       "      <td>61.0</td>\n",
       "      <td>202.21</td>\n",
       "      <td>28.893237</td>\n",
       "      <td>1</td>\n",
       "    </tr>\n",
       "    <tr>\n",
       "      <th>2</th>\n",
       "      <td>80.0</td>\n",
       "      <td>105.92</td>\n",
       "      <td>32.500000</td>\n",
       "      <td>1</td>\n",
       "    </tr>\n",
       "    <tr>\n",
       "      <th>3</th>\n",
       "      <td>49.0</td>\n",
       "      <td>171.23</td>\n",
       "      <td>34.400000</td>\n",
       "      <td>1</td>\n",
       "    </tr>\n",
       "    <tr>\n",
       "      <th>4</th>\n",
       "      <td>79.0</td>\n",
       "      <td>174.12</td>\n",
       "      <td>24.000000</td>\n",
       "      <td>1</td>\n",
       "    </tr>\n",
       "  </tbody>\n",
       "</table>\n",
       "</div>"
      ],
      "text/plain": [
       "    age  avg_glucose_level        bmi  stroke\n",
       "0  67.0             228.69  36.600000       1\n",
       "1  61.0             202.21  28.893237       1\n",
       "2  80.0             105.92  32.500000       1\n",
       "3  49.0             171.23  34.400000       1\n",
       "4  79.0             174.12  24.000000       1"
      ]
     },
     "execution_count": 120,
     "metadata": {},
     "output_type": "execute_result"
    }
   ],
   "source": [
    "numeric_list = [\"age\",\"avg_glucose_level\",\"bmi\",\"stroke\"]\n",
    "df_numeric = df.loc[:, numeric_list]\n",
    "df_numeric.head()"
   ]
  },
  {
   "cell_type": "code",
   "execution_count": 121,
   "metadata": {},
   "outputs": [
    {
     "data": {
      "text/html": [
       "<div>\n",
       "<style scoped>\n",
       "    .dataframe tbody tr th:only-of-type {\n",
       "        vertical-align: middle;\n",
       "    }\n",
       "\n",
       "    .dataframe tbody tr th {\n",
       "        vertical-align: top;\n",
       "    }\n",
       "\n",
       "    .dataframe thead th {\n",
       "        text-align: right;\n",
       "    }\n",
       "</style>\n",
       "<table border=\"1\" class=\"dataframe\">\n",
       "  <thead>\n",
       "    <tr style=\"text-align: right;\">\n",
       "      <th></th>\n",
       "      <th>id</th>\n",
       "      <th>age</th>\n",
       "      <th>hypertension</th>\n",
       "      <th>heart_disease</th>\n",
       "      <th>avg_glucose_level</th>\n",
       "      <th>bmi</th>\n",
       "      <th>stroke</th>\n",
       "    </tr>\n",
       "  </thead>\n",
       "  <tbody>\n",
       "    <tr>\n",
       "      <th>count</th>\n",
       "      <td>5110.000000</td>\n",
       "      <td>5110.000000</td>\n",
       "      <td>5110.000000</td>\n",
       "      <td>5110.000000</td>\n",
       "      <td>5110.000000</td>\n",
       "      <td>5110.000000</td>\n",
       "      <td>5110.000000</td>\n",
       "    </tr>\n",
       "    <tr>\n",
       "      <th>mean</th>\n",
       "      <td>36517.829354</td>\n",
       "      <td>43.226614</td>\n",
       "      <td>0.097456</td>\n",
       "      <td>0.054012</td>\n",
       "      <td>106.147677</td>\n",
       "      <td>28.893237</td>\n",
       "      <td>0.048728</td>\n",
       "    </tr>\n",
       "    <tr>\n",
       "      <th>std</th>\n",
       "      <td>21161.721625</td>\n",
       "      <td>22.612647</td>\n",
       "      <td>0.296607</td>\n",
       "      <td>0.226063</td>\n",
       "      <td>45.283560</td>\n",
       "      <td>7.698018</td>\n",
       "      <td>0.215320</td>\n",
       "    </tr>\n",
       "    <tr>\n",
       "      <th>min</th>\n",
       "      <td>67.000000</td>\n",
       "      <td>0.080000</td>\n",
       "      <td>0.000000</td>\n",
       "      <td>0.000000</td>\n",
       "      <td>55.120000</td>\n",
       "      <td>10.300000</td>\n",
       "      <td>0.000000</td>\n",
       "    </tr>\n",
       "    <tr>\n",
       "      <th>25%</th>\n",
       "      <td>17741.250000</td>\n",
       "      <td>25.000000</td>\n",
       "      <td>0.000000</td>\n",
       "      <td>0.000000</td>\n",
       "      <td>77.245000</td>\n",
       "      <td>23.800000</td>\n",
       "      <td>0.000000</td>\n",
       "    </tr>\n",
       "    <tr>\n",
       "      <th>50%</th>\n",
       "      <td>36932.000000</td>\n",
       "      <td>45.000000</td>\n",
       "      <td>0.000000</td>\n",
       "      <td>0.000000</td>\n",
       "      <td>91.885000</td>\n",
       "      <td>28.400000</td>\n",
       "      <td>0.000000</td>\n",
       "    </tr>\n",
       "    <tr>\n",
       "      <th>75%</th>\n",
       "      <td>54682.000000</td>\n",
       "      <td>61.000000</td>\n",
       "      <td>0.000000</td>\n",
       "      <td>0.000000</td>\n",
       "      <td>114.090000</td>\n",
       "      <td>32.800000</td>\n",
       "      <td>0.000000</td>\n",
       "    </tr>\n",
       "    <tr>\n",
       "      <th>max</th>\n",
       "      <td>72940.000000</td>\n",
       "      <td>82.000000</td>\n",
       "      <td>1.000000</td>\n",
       "      <td>1.000000</td>\n",
       "      <td>271.740000</td>\n",
       "      <td>97.600000</td>\n",
       "      <td>1.000000</td>\n",
       "    </tr>\n",
       "  </tbody>\n",
       "</table>\n",
       "</div>"
      ],
      "text/plain": [
       "                 id          age  hypertension  heart_disease  \\\n",
       "count   5110.000000  5110.000000   5110.000000    5110.000000   \n",
       "mean   36517.829354    43.226614      0.097456       0.054012   \n",
       "std    21161.721625    22.612647      0.296607       0.226063   \n",
       "min       67.000000     0.080000      0.000000       0.000000   \n",
       "25%    17741.250000    25.000000      0.000000       0.000000   \n",
       "50%    36932.000000    45.000000      0.000000       0.000000   \n",
       "75%    54682.000000    61.000000      0.000000       0.000000   \n",
       "max    72940.000000    82.000000      1.000000       1.000000   \n",
       "\n",
       "       avg_glucose_level          bmi       stroke  \n",
       "count        5110.000000  5110.000000  5110.000000  \n",
       "mean          106.147677    28.893237     0.048728  \n",
       "std            45.283560     7.698018     0.215320  \n",
       "min            55.120000    10.300000     0.000000  \n",
       "25%            77.245000    23.800000     0.000000  \n",
       "50%            91.885000    28.400000     0.000000  \n",
       "75%           114.090000    32.800000     0.000000  \n",
       "max           271.740000    97.600000     1.000000  "
      ]
     },
     "execution_count": 121,
     "metadata": {},
     "output_type": "execute_result"
    }
   ],
   "source": [
    "df.describe()"
   ]
  },
  {
   "cell_type": "code",
   "execution_count": 122,
   "metadata": {},
   "outputs": [
    {
     "name": "stdout",
     "output_type": "stream",
     "text": [
      "Old shape:  (5110,)\n",
      "(array([], dtype=int64),) -- (array([], dtype=int64),)\n",
      "New shape:  (5110, 12)\n",
      "Old shape:  (5110,)\n",
      "(array([   0,   13,   14,   17,   19,   21,   22,   23,   29,   30,   33,\n",
      "         36,   44,   45,   57,   66,   73,   76,   90,   95,   97,  102,\n",
      "        113,  115,  122,  123,  124,  135,  137,  144,  149,  151,  155,\n",
      "        157,  179,  187,  189,  193,  196,  212,  217,  219,  220,  225,\n",
      "        234,  235,  242,  243,  254,  256,  277,  278,  303,  307,  314,\n",
      "        318,  325,  326,  330,  332,  337,  343,  360,  365,  386,  396,\n",
      "        399,  429,  433,  444,  467,  544,  552,  563,  576,  583,  610,\n",
      "        616,  620,  642,  708,  746,  755,  785,  816,  865,  887,  894,\n",
      "        923,  929,  930,  948, 1011, 1061, 1067, 1070, 1092, 1097, 1113,\n",
      "       1118, 1158, 1166, 1173, 1178, 1187, 1189, 1207, 1214, 1228, 1233,\n",
      "       1245, 1257, 1300, 1322, 1382, 1384, 1398, 1411, 1412, 1414, 1436,\n",
      "       1453, 1468, 1472, 1474, 1485, 1497, 1503, 1512, 1526, 1529, 1531,\n",
      "       1533, 1535, 1540, 1553, 1596, 1626, 1628, 1650, 1654, 1655, 1698,\n",
      "       1704, 1711, 1723, 1732, 1737, 1756, 1769, 1778, 1780, 1782, 1795,\n",
      "       1798, 1820, 1841, 1843, 1889, 1892, 1893, 1905, 1952, 1981, 2018,\n",
      "       2044, 2059, 2067, 2079, 2081, 2089, 2124, 2126, 2129, 2149, 2158,\n",
      "       2182, 2185, 2200, 2203, 2223, 2255, 2257, 2273, 2282, 2290, 2293,\n",
      "       2294, 2303, 2307, 2338, 2365, 2383, 2395, 2418, 2439, 2453, 2455,\n",
      "       2459, 2462, 2469, 2494, 2523, 2532, 2544, 2565, 2600, 2609, 2612,\n",
      "       2624, 2633, 2661, 2675, 2682, 2686, 2690, 2693, 2697, 2699, 2707,\n",
      "       2751, 2752, 2757, 2768, 2848, 2849, 2867, 2890, 2918, 2966, 2992,\n",
      "       3005, 3008, 3017, 3060, 3069, 3088, 3146, 3150, 3152, 3157, 3186,\n",
      "       3197, 3198, 3215, 3221, 3234, 3306, 3318, 3342, 3360, 3375, 3376,\n",
      "       3378, 3381, 3391, 3393, 3425, 3427, 3439, 3455, 3462, 3478, 3480,\n",
      "       3489, 3522, 3594, 3599, 3600, 3606, 3625, 3627, 3637, 3643, 3686,\n",
      "       3688, 3718, 3734, 3756, 3771, 3802, 3882, 3889, 3905, 3909, 3913,\n",
      "       3943, 3959, 3962, 3965, 3980, 3994, 4008, 4037, 4046, 4048, 4051,\n",
      "       4096, 4104, 4123, 4129, 4164, 4176, 4201, 4240, 4249, 4261, 4283,\n",
      "       4290, 4291, 4324, 4325, 4329, 4335, 4344, 4356, 4390, 4437, 4447,\n",
      "       4453, 4457, 4470, 4475, 4497, 4500, 4505, 4515, 4560, 4582, 4598,\n",
      "       4616, 4625, 4628, 4636, 4665, 4684, 4696, 4708, 4711, 4737, 4738,\n",
      "       4740, 4750, 4763, 4809, 4823, 4836, 4855, 4861, 4909, 4921, 4925,\n",
      "       4952, 4955, 4983, 4984, 4986, 5001, 5029, 5034, 5061, 5062],\n",
      "      dtype=int64),) -- (array([], dtype=int64),)\n",
      "New shape:  (4748, 12)\n",
      "Old shape:  (4748,)\n",
      "(array([ 220,  273,  296,  362,  396,  582,  592,  634,  839,  981, 1191,\n",
      "       1423, 1428, 1448, 1459, 1518, 1737, 1955, 2350, 2541, 2616, 3322,\n",
      "       3426, 3544, 3853, 3885, 3905, 3921, 4036, 4090, 4491], dtype=int64),) -- (array([], dtype=int64),)\n",
      "KeyError: [ 220  273  296  362  396  582  592  634  839  981 1191 1423 1428 1448\n",
      " 1459 1518 1737 1955 2350 2541 2616 3322 3426 3544 3853 3885 3905 3921\n",
      " 4036 4090 4491] not found in axis\n",
      "New shape:  (4748, 12)\n",
      "Old shape:  (4748,)\n",
      "(array([   0,    1,    2, ..., 4745, 4746, 4747], dtype=int64),) -- (array([ 201,  202,  203, ..., 4745, 4746, 4747], dtype=int64),)\n",
      "KeyError: [   0    1    2 ... 4745 4746 4747] not found in axis\n",
      "KeyError: [ 201  202  203 ... 4745 4746 4747] not found in axis\n",
      "New shape:  (4748, 12)\n"
     ]
    }
   ],
   "source": [
    "\n",
    "\n",
    "# outlier detection\n",
    "for i in numeric_list:\n",
    "    \n",
    "    # IQR\n",
    "    Q1 = np.percentile(df.loc[:, i],25)\n",
    "    Q3 = np.percentile(df.loc[:, i],75)\n",
    "    \n",
    "    IQR = Q3 - Q1\n",
    "    \n",
    "    print(\"Old shape: \", df.loc[:, i].shape)\n",
    "    \n",
    "    # upper bound\n",
    "    upper = np.where(df.loc[:, i] >= (Q3 + 2.5*IQR))\n",
    "    \n",
    "    # lower bound\n",
    "    lower = np.where(df.loc[:, i] <= (Q1 - 2.5*IQR))\n",
    "    \n",
    "    print(\"{} -- {}\".format(upper, lower))\n",
    "    \n",
    "    try:\n",
    "        df.drop(upper[0], inplace = True)\n",
    "    except: print(\"KeyError: {} not found in axis\".format(upper[0]))\n",
    "    \n",
    "    try:\n",
    "        df.drop(lower[0], inplace = True)\n",
    "    except:  print(\"KeyError: {} not found in axis\".format(lower[0]))\n",
    "        \n",
    "    print(\"New shape: \", df.shape) \n"
   ]
  },
  {
   "cell_type": "code",
   "execution_count": 123,
   "metadata": {},
   "outputs": [
    {
     "data": {
      "text/plain": [
       "'\\nfor i in numeric_list:\\n    # IQR\\n    Q1 = np.percentile(df.loc[:, i], 25)\\n    Q3 = np.percentile(df.loc[:, i], 75)\\n\\n    IQR = Q3 - Q1\\n\\n    print(\"Old shape: \", df.loc[:, i].shape)\\n\\n    # upper bound\\n    upper = np.where(df.loc[:, i] >= (Q3 + 2.5 * IQR))\\n\\n    # lower bound\\n    lower = np.where(df.loc[:, i] <= (Q1 - 2.5 * IQR))\\n\\n    print(\"{} -- {}\".format(upper, lower))\\n\\n    try:\\n        # Replace outliers with the mean\\n        df.loc[upper, i] = np.mean(df.loc[:, i])\\n    except:\\n        print(\"KeyError: {} not found in axis\".format(upper[0]))\\n\\n    try:\\n        # Replace outliers with the mean\\n        df.loc[lower, i] = np.mean(df.loc[:, i])\\n    except:\\n        print(\"KeyError: {} not found in axis\".format(lower[0]))\\n\\n    print(\"New shape: \", df.shape)\\n'"
      ]
     },
     "execution_count": 123,
     "metadata": {},
     "output_type": "execute_result"
    }
   ],
   "source": [
    "\"\"\"\n",
    "for i in numeric_list:\n",
    "    # IQR\n",
    "    Q1 = np.percentile(df.loc[:, i], 25)\n",
    "    Q3 = np.percentile(df.loc[:, i], 75)\n",
    "\n",
    "    IQR = Q3 - Q1\n",
    "\n",
    "    print(\"Old shape: \", df.loc[:, i].shape)\n",
    "\n",
    "    # upper bound\n",
    "    upper = np.where(df.loc[:, i] >= (Q3 + 2.5 * IQR))\n",
    "\n",
    "    # lower bound\n",
    "    lower = np.where(df.loc[:, i] <= (Q1 - 2.5 * IQR))\n",
    "\n",
    "    print(\"{} -- {}\".format(upper, lower))\n",
    "\n",
    "    try:\n",
    "        # Replace outliers with the mean\n",
    "        df.loc[upper, i] = np.mean(df.loc[:, i])\n",
    "    except:\n",
    "        print(\"KeyError: {} not found in axis\".format(upper[0]))\n",
    "\n",
    "    try:\n",
    "        # Replace outliers with the mean\n",
    "        df.loc[lower, i] = np.mean(df.loc[:, i])\n",
    "    except:\n",
    "        print(\"KeyError: {} not found in axis\".format(lower[0]))\n",
    "\n",
    "    print(\"New shape: \", df.shape)\n",
    "\"\"\"\n"
   ]
  },
  {
   "cell_type": "markdown",
   "metadata": {},
   "source": [
    "<a id=\"15\"> </a>\n",
    "# Modelling"
   ]
  },
  {
   "cell_type": "code",
   "execution_count": 124,
   "metadata": {},
   "outputs": [],
   "source": [
    "df1 = df.copy()\n"
   ]
  },
  {
   "cell_type": "markdown",
   "metadata": {},
   "source": [
    "### Encoding Categorical Columns\n",
    "![Encoding Image](images/encoding.png)\n"
   ]
  },
  {
   "cell_type": "code",
   "execution_count": 125,
   "metadata": {},
   "outputs": [
    {
     "data": {
      "text/html": [
       "<div>\n",
       "<style scoped>\n",
       "    .dataframe tbody tr th:only-of-type {\n",
       "        vertical-align: middle;\n",
       "    }\n",
       "\n",
       "    .dataframe tbody tr th {\n",
       "        vertical-align: top;\n",
       "    }\n",
       "\n",
       "    .dataframe thead th {\n",
       "        text-align: right;\n",
       "    }\n",
       "</style>\n",
       "<table border=\"1\" class=\"dataframe\">\n",
       "  <thead>\n",
       "    <tr style=\"text-align: right;\">\n",
       "      <th></th>\n",
       "      <th>id</th>\n",
       "      <th>age</th>\n",
       "      <th>avg_glucose_level</th>\n",
       "      <th>bmi</th>\n",
       "      <th>stroke</th>\n",
       "      <th>gender_Male</th>\n",
       "      <th>gender_Other</th>\n",
       "      <th>hypertension_1</th>\n",
       "      <th>heart_disease_1</th>\n",
       "      <th>ever_married_Yes</th>\n",
       "      <th>work_type_Never_worked</th>\n",
       "      <th>work_type_Private</th>\n",
       "      <th>work_type_Self-employed</th>\n",
       "      <th>work_type_children</th>\n",
       "      <th>Residence_type_Urban</th>\n",
       "      <th>smoking_status_formerly smoked</th>\n",
       "      <th>smoking_status_never smoked</th>\n",
       "      <th>smoking_status_smokes</th>\n",
       "    </tr>\n",
       "  </thead>\n",
       "  <tbody>\n",
       "    <tr>\n",
       "      <th>1</th>\n",
       "      <td>51676</td>\n",
       "      <td>61.0</td>\n",
       "      <td>202.21</td>\n",
       "      <td>28.893237</td>\n",
       "      <td>1</td>\n",
       "      <td>False</td>\n",
       "      <td>False</td>\n",
       "      <td>False</td>\n",
       "      <td>False</td>\n",
       "      <td>True</td>\n",
       "      <td>False</td>\n",
       "      <td>False</td>\n",
       "      <td>True</td>\n",
       "      <td>False</td>\n",
       "      <td>False</td>\n",
       "      <td>False</td>\n",
       "      <td>True</td>\n",
       "      <td>False</td>\n",
       "    </tr>\n",
       "    <tr>\n",
       "      <th>2</th>\n",
       "      <td>31112</td>\n",
       "      <td>80.0</td>\n",
       "      <td>105.92</td>\n",
       "      <td>32.500000</td>\n",
       "      <td>1</td>\n",
       "      <td>True</td>\n",
       "      <td>False</td>\n",
       "      <td>False</td>\n",
       "      <td>True</td>\n",
       "      <td>True</td>\n",
       "      <td>False</td>\n",
       "      <td>True</td>\n",
       "      <td>False</td>\n",
       "      <td>False</td>\n",
       "      <td>False</td>\n",
       "      <td>False</td>\n",
       "      <td>True</td>\n",
       "      <td>False</td>\n",
       "    </tr>\n",
       "    <tr>\n",
       "      <th>3</th>\n",
       "      <td>60182</td>\n",
       "      <td>49.0</td>\n",
       "      <td>171.23</td>\n",
       "      <td>34.400000</td>\n",
       "      <td>1</td>\n",
       "      <td>False</td>\n",
       "      <td>False</td>\n",
       "      <td>False</td>\n",
       "      <td>False</td>\n",
       "      <td>True</td>\n",
       "      <td>False</td>\n",
       "      <td>True</td>\n",
       "      <td>False</td>\n",
       "      <td>False</td>\n",
       "      <td>True</td>\n",
       "      <td>False</td>\n",
       "      <td>False</td>\n",
       "      <td>True</td>\n",
       "    </tr>\n",
       "    <tr>\n",
       "      <th>4</th>\n",
       "      <td>1665</td>\n",
       "      <td>79.0</td>\n",
       "      <td>174.12</td>\n",
       "      <td>24.000000</td>\n",
       "      <td>1</td>\n",
       "      <td>False</td>\n",
       "      <td>False</td>\n",
       "      <td>True</td>\n",
       "      <td>False</td>\n",
       "      <td>True</td>\n",
       "      <td>False</td>\n",
       "      <td>False</td>\n",
       "      <td>True</td>\n",
       "      <td>False</td>\n",
       "      <td>False</td>\n",
       "      <td>False</td>\n",
       "      <td>True</td>\n",
       "      <td>False</td>\n",
       "    </tr>\n",
       "    <tr>\n",
       "      <th>5</th>\n",
       "      <td>56669</td>\n",
       "      <td>81.0</td>\n",
       "      <td>186.21</td>\n",
       "      <td>29.000000</td>\n",
       "      <td>1</td>\n",
       "      <td>True</td>\n",
       "      <td>False</td>\n",
       "      <td>False</td>\n",
       "      <td>False</td>\n",
       "      <td>True</td>\n",
       "      <td>False</td>\n",
       "      <td>True</td>\n",
       "      <td>False</td>\n",
       "      <td>False</td>\n",
       "      <td>True</td>\n",
       "      <td>True</td>\n",
       "      <td>False</td>\n",
       "      <td>False</td>\n",
       "    </tr>\n",
       "  </tbody>\n",
       "</table>\n",
       "</div>"
      ],
      "text/plain": [
       "      id   age  avg_glucose_level        bmi  stroke  gender_Male  \\\n",
       "1  51676  61.0             202.21  28.893237       1        False   \n",
       "2  31112  80.0             105.92  32.500000       1         True   \n",
       "3  60182  49.0             171.23  34.400000       1        False   \n",
       "4   1665  79.0             174.12  24.000000       1        False   \n",
       "5  56669  81.0             186.21  29.000000       1         True   \n",
       "\n",
       "   gender_Other  hypertension_1  heart_disease_1  ever_married_Yes  \\\n",
       "1         False           False            False              True   \n",
       "2         False           False             True              True   \n",
       "3         False           False            False              True   \n",
       "4         False            True            False              True   \n",
       "5         False           False            False              True   \n",
       "\n",
       "   work_type_Never_worked  work_type_Private  work_type_Self-employed  \\\n",
       "1                   False              False                     True   \n",
       "2                   False               True                    False   \n",
       "3                   False               True                    False   \n",
       "4                   False              False                     True   \n",
       "5                   False               True                    False   \n",
       "\n",
       "   work_type_children  Residence_type_Urban  smoking_status_formerly smoked  \\\n",
       "1               False                 False                           False   \n",
       "2               False                 False                           False   \n",
       "3               False                  True                           False   \n",
       "4               False                 False                           False   \n",
       "5               False                  True                            True   \n",
       "\n",
       "   smoking_status_never smoked  smoking_status_smokes  \n",
       "1                         True                  False  \n",
       "2                         True                  False  \n",
       "3                        False                   True  \n",
       "4                         True                  False  \n",
       "5                        False                  False  "
      ]
     },
     "execution_count": 125,
     "metadata": {},
     "output_type": "execute_result"
    }
   ],
   "source": [
    "df1 = pd.get_dummies(df1, columns = categorical_list[:-1], drop_first = True)\n",
    "df1.head()"
   ]
  },
  {
   "cell_type": "code",
   "execution_count": 126,
   "metadata": {},
   "outputs": [],
   "source": [
    "# \n",
    "X = df1.drop([\"stroke\"], axis = 1)\n",
    "y = df1[[\"stroke\"]]"
   ]
  },
  {
   "cell_type": "markdown",
   "metadata": {},
   "source": [
    "### Scaling"
   ]
  },
  {
   "cell_type": "code",
   "execution_count": 127,
   "metadata": {},
   "outputs": [
    {
     "data": {
      "text/html": [
       "<style>#sk-container-id-9 {color: black;background-color: white;}#sk-container-id-9 pre{padding: 0;}#sk-container-id-9 div.sk-toggleable {background-color: white;}#sk-container-id-9 label.sk-toggleable__label {cursor: pointer;display: block;width: 100%;margin-bottom: 0;padding: 0.3em;box-sizing: border-box;text-align: center;}#sk-container-id-9 label.sk-toggleable__label-arrow:before {content: \"▸\";float: left;margin-right: 0.25em;color: #696969;}#sk-container-id-9 label.sk-toggleable__label-arrow:hover:before {color: black;}#sk-container-id-9 div.sk-estimator:hover label.sk-toggleable__label-arrow:before {color: black;}#sk-container-id-9 div.sk-toggleable__content {max-height: 0;max-width: 0;overflow: hidden;text-align: left;background-color: #f0f8ff;}#sk-container-id-9 div.sk-toggleable__content pre {margin: 0.2em;color: black;border-radius: 0.25em;background-color: #f0f8ff;}#sk-container-id-9 input.sk-toggleable__control:checked~div.sk-toggleable__content {max-height: 200px;max-width: 100%;overflow: auto;}#sk-container-id-9 input.sk-toggleable__control:checked~label.sk-toggleable__label-arrow:before {content: \"▾\";}#sk-container-id-9 div.sk-estimator input.sk-toggleable__control:checked~label.sk-toggleable__label {background-color: #d4ebff;}#sk-container-id-9 div.sk-label input.sk-toggleable__control:checked~label.sk-toggleable__label {background-color: #d4ebff;}#sk-container-id-9 input.sk-hidden--visually {border: 0;clip: rect(1px 1px 1px 1px);clip: rect(1px, 1px, 1px, 1px);height: 1px;margin: -1px;overflow: hidden;padding: 0;position: absolute;width: 1px;}#sk-container-id-9 div.sk-estimator {font-family: monospace;background-color: #f0f8ff;border: 1px dotted black;border-radius: 0.25em;box-sizing: border-box;margin-bottom: 0.5em;}#sk-container-id-9 div.sk-estimator:hover {background-color: #d4ebff;}#sk-container-id-9 div.sk-parallel-item::after {content: \"\";width: 100%;border-bottom: 1px solid gray;flex-grow: 1;}#sk-container-id-9 div.sk-label:hover label.sk-toggleable__label {background-color: #d4ebff;}#sk-container-id-9 div.sk-serial::before {content: \"\";position: absolute;border-left: 1px solid gray;box-sizing: border-box;top: 0;bottom: 0;left: 50%;z-index: 0;}#sk-container-id-9 div.sk-serial {display: flex;flex-direction: column;align-items: center;background-color: white;padding-right: 0.2em;padding-left: 0.2em;position: relative;}#sk-container-id-9 div.sk-item {position: relative;z-index: 1;}#sk-container-id-9 div.sk-parallel {display: flex;align-items: stretch;justify-content: center;background-color: white;position: relative;}#sk-container-id-9 div.sk-item::before, #sk-container-id-9 div.sk-parallel-item::before {content: \"\";position: absolute;border-left: 1px solid gray;box-sizing: border-box;top: 0;bottom: 0;left: 50%;z-index: -1;}#sk-container-id-9 div.sk-parallel-item {display: flex;flex-direction: column;z-index: 1;position: relative;background-color: white;}#sk-container-id-9 div.sk-parallel-item:first-child::after {align-self: flex-end;width: 50%;}#sk-container-id-9 div.sk-parallel-item:last-child::after {align-self: flex-start;width: 50%;}#sk-container-id-9 div.sk-parallel-item:only-child::after {width: 0;}#sk-container-id-9 div.sk-dashed-wrapped {border: 1px dashed gray;margin: 0 0.4em 0.5em 0.4em;box-sizing: border-box;padding-bottom: 0.4em;background-color: white;}#sk-container-id-9 div.sk-label label {font-family: monospace;font-weight: bold;display: inline-block;line-height: 1.2em;}#sk-container-id-9 div.sk-label-container {text-align: center;}#sk-container-id-9 div.sk-container {/* jupyter's `normalize.less` sets `[hidden] { display: none; }` but bootstrap.min.css set `[hidden] { display: none !important; }` so we also need the `!important` here to be able to override the default hidden behavior on the sphinx rendered scikit-learn.org. See: https://github.com/scikit-learn/scikit-learn/issues/21755 */display: inline-block !important;position: relative;}#sk-container-id-9 div.sk-text-repr-fallback {display: none;}</style><div id=\"sk-container-id-9\" class=\"sk-top-container\"><div class=\"sk-text-repr-fallback\"><pre>StandardScaler()</pre><b>In a Jupyter environment, please rerun this cell to show the HTML representation or trust the notebook. <br />On GitHub, the HTML representation is unable to render, please try loading this page with nbviewer.org.</b></div><div class=\"sk-container\" hidden><div class=\"sk-item\"><div class=\"sk-estimator sk-toggleable\"><input class=\"sk-toggleable__control sk-hidden--visually\" id=\"sk-estimator-id-11\" type=\"checkbox\" checked><label for=\"sk-estimator-id-11\" class=\"sk-toggleable__label sk-toggleable__label-arrow\">StandardScaler</label><div class=\"sk-toggleable__content\"><pre>StandardScaler()</pre></div></div></div></div></div>"
      ],
      "text/plain": [
       "StandardScaler()"
      ]
     },
     "execution_count": 127,
     "metadata": {},
     "output_type": "execute_result"
    }
   ],
   "source": [
    "scaler = StandardScaler()\n",
    "scaler"
   ]
  },
  {
   "cell_type": "code",
   "execution_count": 128,
   "metadata": {},
   "outputs": [
    {
     "data": {
      "text/html": [
       "<div>\n",
       "<style scoped>\n",
       "    .dataframe tbody tr th:only-of-type {\n",
       "        vertical-align: middle;\n",
       "    }\n",
       "\n",
       "    .dataframe tbody tr th {\n",
       "        vertical-align: top;\n",
       "    }\n",
       "\n",
       "    .dataframe thead th {\n",
       "        text-align: right;\n",
       "    }\n",
       "</style>\n",
       "<table border=\"1\" class=\"dataframe\">\n",
       "  <thead>\n",
       "    <tr style=\"text-align: right;\">\n",
       "      <th></th>\n",
       "      <th>id</th>\n",
       "      <th>age</th>\n",
       "      <th>avg_glucose_level</th>\n",
       "      <th>bmi</th>\n",
       "      <th>gender_Male</th>\n",
       "      <th>gender_Other</th>\n",
       "      <th>hypertension_1</th>\n",
       "      <th>heart_disease_1</th>\n",
       "      <th>ever_married_Yes</th>\n",
       "      <th>work_type_Never_worked</th>\n",
       "      <th>work_type_Private</th>\n",
       "      <th>work_type_Self-employed</th>\n",
       "      <th>work_type_children</th>\n",
       "      <th>Residence_type_Urban</th>\n",
       "      <th>smoking_status_formerly smoked</th>\n",
       "      <th>smoking_status_never smoked</th>\n",
       "      <th>smoking_status_smokes</th>\n",
       "    </tr>\n",
       "  </thead>\n",
       "  <tbody>\n",
       "    <tr>\n",
       "      <th>1</th>\n",
       "      <td>51676</td>\n",
       "      <td>0.853672</td>\n",
       "      <td>3.289330</td>\n",
       "      <td>0.046291</td>\n",
       "      <td>False</td>\n",
       "      <td>False</td>\n",
       "      <td>False</td>\n",
       "      <td>False</td>\n",
       "      <td>True</td>\n",
       "      <td>False</td>\n",
       "      <td>False</td>\n",
       "      <td>True</td>\n",
       "      <td>False</td>\n",
       "      <td>False</td>\n",
       "      <td>False</td>\n",
       "      <td>True</td>\n",
       "      <td>False</td>\n",
       "    </tr>\n",
       "    <tr>\n",
       "      <th>2</th>\n",
       "      <td>31112</td>\n",
       "      <td>1.698995</td>\n",
       "      <td>0.277552</td>\n",
       "      <td>0.522805</td>\n",
       "      <td>True</td>\n",
       "      <td>False</td>\n",
       "      <td>False</td>\n",
       "      <td>True</td>\n",
       "      <td>True</td>\n",
       "      <td>False</td>\n",
       "      <td>True</td>\n",
       "      <td>False</td>\n",
       "      <td>False</td>\n",
       "      <td>False</td>\n",
       "      <td>False</td>\n",
       "      <td>True</td>\n",
       "      <td>False</td>\n",
       "    </tr>\n",
       "    <tr>\n",
       "      <th>3</th>\n",
       "      <td>60182</td>\n",
       "      <td>0.319784</td>\n",
       "      <td>2.320331</td>\n",
       "      <td>0.773827</td>\n",
       "      <td>False</td>\n",
       "      <td>False</td>\n",
       "      <td>False</td>\n",
       "      <td>False</td>\n",
       "      <td>True</td>\n",
       "      <td>False</td>\n",
       "      <td>True</td>\n",
       "      <td>False</td>\n",
       "      <td>False</td>\n",
       "      <td>True</td>\n",
       "      <td>False</td>\n",
       "      <td>False</td>\n",
       "      <td>True</td>\n",
       "    </tr>\n",
       "    <tr>\n",
       "      <th>4</th>\n",
       "      <td>1665</td>\n",
       "      <td>1.654505</td>\n",
       "      <td>2.410725</td>\n",
       "      <td>-0.600188</td>\n",
       "      <td>False</td>\n",
       "      <td>False</td>\n",
       "      <td>True</td>\n",
       "      <td>False</td>\n",
       "      <td>True</td>\n",
       "      <td>False</td>\n",
       "      <td>False</td>\n",
       "      <td>True</td>\n",
       "      <td>False</td>\n",
       "      <td>False</td>\n",
       "      <td>False</td>\n",
       "      <td>True</td>\n",
       "      <td>False</td>\n",
       "    </tr>\n",
       "    <tr>\n",
       "      <th>5</th>\n",
       "      <td>56669</td>\n",
       "      <td>1.743486</td>\n",
       "      <td>2.788878</td>\n",
       "      <td>0.060396</td>\n",
       "      <td>True</td>\n",
       "      <td>False</td>\n",
       "      <td>False</td>\n",
       "      <td>False</td>\n",
       "      <td>True</td>\n",
       "      <td>False</td>\n",
       "      <td>True</td>\n",
       "      <td>False</td>\n",
       "      <td>False</td>\n",
       "      <td>True</td>\n",
       "      <td>True</td>\n",
       "      <td>False</td>\n",
       "      <td>False</td>\n",
       "    </tr>\n",
       "  </tbody>\n",
       "</table>\n",
       "</div>"
      ],
      "text/plain": [
       "      id       age  avg_glucose_level       bmi  gender_Male  gender_Other  \\\n",
       "1  51676  0.853672           3.289330  0.046291        False         False   \n",
       "2  31112  1.698995           0.277552  0.522805         True         False   \n",
       "3  60182  0.319784           2.320331  0.773827        False         False   \n",
       "4   1665  1.654505           2.410725 -0.600188        False         False   \n",
       "5  56669  1.743486           2.788878  0.060396         True         False   \n",
       "\n",
       "   hypertension_1  heart_disease_1  ever_married_Yes  work_type_Never_worked  \\\n",
       "1           False            False              True                   False   \n",
       "2           False             True              True                   False   \n",
       "3           False            False              True                   False   \n",
       "4            True            False              True                   False   \n",
       "5           False            False              True                   False   \n",
       "\n",
       "   work_type_Private  work_type_Self-employed  work_type_children  \\\n",
       "1              False                     True               False   \n",
       "2               True                    False               False   \n",
       "3               True                    False               False   \n",
       "4              False                     True               False   \n",
       "5               True                    False               False   \n",
       "\n",
       "   Residence_type_Urban  smoking_status_formerly smoked  \\\n",
       "1                 False                           False   \n",
       "2                 False                           False   \n",
       "3                  True                           False   \n",
       "4                 False                           False   \n",
       "5                  True                            True   \n",
       "\n",
       "   smoking_status_never smoked  smoking_status_smokes  \n",
       "1                         True                  False  \n",
       "2                         True                  False  \n",
       "3                        False                   True  \n",
       "4                         True                  False  \n",
       "5                        False                  False  "
      ]
     },
     "execution_count": 128,
     "metadata": {},
     "output_type": "execute_result"
    }
   ],
   "source": [
    "X[numeric_list[:-1]] = scaler.fit_transform(X[numeric_list[:-1]])\n",
    "X.head()"
   ]
  },
  {
   "cell_type": "markdown",
   "metadata": {},
   "source": [
    "### Train/Test Split"
   ]
  },
  {
   "cell_type": "code",
   "execution_count": 129,
   "metadata": {},
   "outputs": [
    {
     "name": "stdout",
     "output_type": "stream",
     "text": [
      "X_train: (3323, 17)\n",
      "X_test: (1425, 17)\n",
      "y_train: (3323, 1)\n",
      "y_test: (1425, 1)\n"
     ]
    }
   ],
   "source": [
    "X_train, X_test, y_train, y_test = train_test_split(X, y, test_size=0.3, random_state=3)\n",
    "print(\"X_train: {}\".format(X_train.shape))\n",
    "print(\"X_test: {}\".format(X_test.shape))\n",
    "print(\"y_train: {}\".format(y_train.shape))\n",
    "print(\"y_test: {}\".format(y_test.shape))"
   ]
  },
  {
   "cell_type": "markdown",
   "metadata": {},
   "source": [
    "# Lasso ile Feature Selection\n"
   ]
  },
  {
   "cell_type": "code",
   "execution_count": 130,
   "metadata": {},
   "outputs": [
    {
     "name": "stdout",
     "output_type": "stream",
     "text": [
      "Seçilen Özellikler: ['age', 'avg_glucose_level', 'hypertension_1']\n",
      "Lasso R^2 Skoru: 0.05\n"
     ]
    }
   ],
   "source": [
    "from sklearn.preprocessing import StandardScaler\n",
    "\n",
    "\n",
    "\n",
    "# Verileri standartlaştırın (Lasso regresyonu için genellikle önerilir)\n",
    "scaler = StandardScaler()\n",
    "X_train_scaled = scaler.fit_transform(X_train)\n",
    "X_test_scaled = scaler.transform(X_test)\n",
    "\n",
    "# Lasso modelini oluşturun ve eğitin\n",
    "lasso_model = Lasso(alpha=0.01)  # alpha, düzenleme parametresidir\n",
    "lasso_model.fit(X_train_scaled, y_train)\n",
    "\n",
    "# Katsayıları kontrol edin\n",
    "coefficients = lasso_model.coef_\n",
    "\n",
    "# Sıfıra eşit veya çok yakın olan katsayıları belirleyin\n",
    "selected_features = [feature for feature, coef in zip(X_train.columns, coefficients) if abs(coef) > 0]\n",
    "\n",
    "# Seçilen özellikleri yazdırın\n",
    "print(\"Seçilen Özellikler: {}\".format(selected_features))\n",
    "\n",
    "# Test setini kullanarak modelin performansını değerlendirin\n",
    "lasso_score = lasso_model.score(X_test_scaled, y_test)\n",
    "print(\"Lasso R^2 Skoru: {:.2f}\".format(lasso_score))\n"
   ]
  },
  {
   "cell_type": "markdown",
   "metadata": {},
   "source": [
    "# Lasso Sonrası ENSEMBLE"
   ]
  },
  {
   "cell_type": "code",
   "execution_count": 131,
   "metadata": {},
   "outputs": [
    {
     "name": "stdout",
     "output_type": "stream",
     "text": [
      "Ensemble Test accuracy after Lasso: 0.96\n"
     ]
    }
   ],
   "source": [
    "# Seçilen özellikleri kullanarak yeni bir veri seti oluştur\n",
    "X_train_lasso = X_train[selected_features]\n",
    "X_test_lasso = X_test[selected_features]\n",
    "\n",
    "# Ensemble modelini oluştur\n",
    "logreg = LogisticRegression()\n",
    "dt_classifier = DecisionTreeClassifier(random_state=3)\n",
    "rf_classifier = RandomForestClassifier(random_state=3)\n",
    "svm_classifier = SVC(random_state=3, probability=True)\n",
    "\n",
    "ensemble_model_after_lasso = VotingClassifier(estimators=[\n",
    "    ('logreg', logreg),\n",
    "    ('dt', dt_classifier),\n",
    "    ('rf', rf_classifier),\n",
    "    ('svm', svm_classifier)\n",
    "], voting='hard')\n",
    "\n",
    "# Ensemble modelini eğit\n",
    "ensemble_model_after_lasso.fit(X_train_lasso, y_train.values.ravel())\n",
    "\n",
    "# Test verileri üzerinde tahmin yapma\n",
    "y_pred_ensemble_after_lasso = ensemble_model_after_lasso.predict(X_test_lasso)\n",
    "\n",
    "# Test accuracy hesaplama\n",
    "accuracy_ensemble_after_lasso = accuracy_score(y_pred_ensemble_after_lasso, y_test)\n",
    "print(\"Ensemble Test accuracy after Lasso: {:.2f}\".format(accuracy_ensemble_after_lasso))"
   ]
  },
  {
   "cell_type": "markdown",
   "metadata": {},
   "source": [
    "# PCA "
   ]
  },
  {
   "cell_type": "code",
   "execution_count": 132,
   "metadata": {},
   "outputs": [
    {
     "name": "stdout",
     "output_type": "stream",
     "text": [
      "X_train after PCA: (3323, 10)\n",
      "X_test after PCA: (1425, 10)\n",
      "Explained Variance Ratio: [0.17241937 0.09851001 0.08377635 0.06920911 0.06562605 0.06093473\n",
      " 0.06022867 0.05837185 0.05669291 0.05572255]\n"
     ]
    }
   ],
   "source": [
    "from sklearn.decomposition import PCA\n",
    "from sklearn.preprocessing import StandardScaler\n",
    "\n",
    "# Assuming X_train and X_test are your feature matrices\n",
    "\n",
    "# Standardize the data\n",
    "scaler = StandardScaler()\n",
    "X_train_scaled = scaler.fit_transform(X_train)\n",
    "X_test_scaled = scaler.transform(X_test)\n",
    "\n",
    "# Apply PCA\n",
    "n_components = 10  # Set the number of components you want to keep\n",
    "pca = PCA(n_components=n_components)\n",
    "X_train_pca = pca.fit_transform(X_train_scaled)\n",
    "X_test_pca = pca.transform(X_test_scaled)\n",
    "\n",
    "# Print the shapes after PCA\n",
    "print(\"X_train after PCA: {}\".format(X_train_pca.shape))\n",
    "print(\"X_test after PCA: {}\".format(X_test_pca.shape))\n",
    "print(\"Explained Variance Ratio: {}\".format(pca.explained_variance_ratio_))\n",
    "\n"
   ]
  },
  {
   "cell_type": "markdown",
   "metadata": {},
   "source": [
    "<a id=\"10\"> </a>\n",
    "\n",
    "### Logistic Regression\n"
   ]
  },
  {
   "cell_type": "code",
   "execution_count": 133,
   "metadata": {},
   "outputs": [
    {
     "data": {
      "text/html": [
       "<style>#sk-container-id-10 {color: black;background-color: white;}#sk-container-id-10 pre{padding: 0;}#sk-container-id-10 div.sk-toggleable {background-color: white;}#sk-container-id-10 label.sk-toggleable__label {cursor: pointer;display: block;width: 100%;margin-bottom: 0;padding: 0.3em;box-sizing: border-box;text-align: center;}#sk-container-id-10 label.sk-toggleable__label-arrow:before {content: \"▸\";float: left;margin-right: 0.25em;color: #696969;}#sk-container-id-10 label.sk-toggleable__label-arrow:hover:before {color: black;}#sk-container-id-10 div.sk-estimator:hover label.sk-toggleable__label-arrow:before {color: black;}#sk-container-id-10 div.sk-toggleable__content {max-height: 0;max-width: 0;overflow: hidden;text-align: left;background-color: #f0f8ff;}#sk-container-id-10 div.sk-toggleable__content pre {margin: 0.2em;color: black;border-radius: 0.25em;background-color: #f0f8ff;}#sk-container-id-10 input.sk-toggleable__control:checked~div.sk-toggleable__content {max-height: 200px;max-width: 100%;overflow: auto;}#sk-container-id-10 input.sk-toggleable__control:checked~label.sk-toggleable__label-arrow:before {content: \"▾\";}#sk-container-id-10 div.sk-estimator input.sk-toggleable__control:checked~label.sk-toggleable__label {background-color: #d4ebff;}#sk-container-id-10 div.sk-label input.sk-toggleable__control:checked~label.sk-toggleable__label {background-color: #d4ebff;}#sk-container-id-10 input.sk-hidden--visually {border: 0;clip: rect(1px 1px 1px 1px);clip: rect(1px, 1px, 1px, 1px);height: 1px;margin: -1px;overflow: hidden;padding: 0;position: absolute;width: 1px;}#sk-container-id-10 div.sk-estimator {font-family: monospace;background-color: #f0f8ff;border: 1px dotted black;border-radius: 0.25em;box-sizing: border-box;margin-bottom: 0.5em;}#sk-container-id-10 div.sk-estimator:hover {background-color: #d4ebff;}#sk-container-id-10 div.sk-parallel-item::after {content: \"\";width: 100%;border-bottom: 1px solid gray;flex-grow: 1;}#sk-container-id-10 div.sk-label:hover label.sk-toggleable__label {background-color: #d4ebff;}#sk-container-id-10 div.sk-serial::before {content: \"\";position: absolute;border-left: 1px solid gray;box-sizing: border-box;top: 0;bottom: 0;left: 50%;z-index: 0;}#sk-container-id-10 div.sk-serial {display: flex;flex-direction: column;align-items: center;background-color: white;padding-right: 0.2em;padding-left: 0.2em;position: relative;}#sk-container-id-10 div.sk-item {position: relative;z-index: 1;}#sk-container-id-10 div.sk-parallel {display: flex;align-items: stretch;justify-content: center;background-color: white;position: relative;}#sk-container-id-10 div.sk-item::before, #sk-container-id-10 div.sk-parallel-item::before {content: \"\";position: absolute;border-left: 1px solid gray;box-sizing: border-box;top: 0;bottom: 0;left: 50%;z-index: -1;}#sk-container-id-10 div.sk-parallel-item {display: flex;flex-direction: column;z-index: 1;position: relative;background-color: white;}#sk-container-id-10 div.sk-parallel-item:first-child::after {align-self: flex-end;width: 50%;}#sk-container-id-10 div.sk-parallel-item:last-child::after {align-self: flex-start;width: 50%;}#sk-container-id-10 div.sk-parallel-item:only-child::after {width: 0;}#sk-container-id-10 div.sk-dashed-wrapped {border: 1px dashed gray;margin: 0 0.4em 0.5em 0.4em;box-sizing: border-box;padding-bottom: 0.4em;background-color: white;}#sk-container-id-10 div.sk-label label {font-family: monospace;font-weight: bold;display: inline-block;line-height: 1.2em;}#sk-container-id-10 div.sk-label-container {text-align: center;}#sk-container-id-10 div.sk-container {/* jupyter's `normalize.less` sets `[hidden] { display: none; }` but bootstrap.min.css set `[hidden] { display: none !important; }` so we also need the `!important` here to be able to override the default hidden behavior on the sphinx rendered scikit-learn.org. See: https://github.com/scikit-learn/scikit-learn/issues/21755 */display: inline-block !important;position: relative;}#sk-container-id-10 div.sk-text-repr-fallback {display: none;}</style><div id=\"sk-container-id-10\" class=\"sk-top-container\"><div class=\"sk-text-repr-fallback\"><pre>LogisticRegression()</pre><b>In a Jupyter environment, please rerun this cell to show the HTML representation or trust the notebook. <br />On GitHub, the HTML representation is unable to render, please try loading this page with nbviewer.org.</b></div><div class=\"sk-container\" hidden><div class=\"sk-item\"><div class=\"sk-estimator sk-toggleable\"><input class=\"sk-toggleable__control sk-hidden--visually\" id=\"sk-estimator-id-12\" type=\"checkbox\" checked><label for=\"sk-estimator-id-12\" class=\"sk-toggleable__label sk-toggleable__label-arrow\">LogisticRegression</label><div class=\"sk-toggleable__content\"><pre>LogisticRegression()</pre></div></div></div></div></div>"
      ],
      "text/plain": [
       "LogisticRegression()"
      ]
     },
     "execution_count": 133,
     "metadata": {},
     "output_type": "execute_result"
    }
   ],
   "source": [
    "logreg = LogisticRegression()\n",
    "logreg"
   ]
  },
  {
   "cell_type": "code",
   "execution_count": 134,
   "metadata": {},
   "outputs": [
    {
     "data": {
      "text/html": [
       "<style>#sk-container-id-11 {color: black;background-color: white;}#sk-container-id-11 pre{padding: 0;}#sk-container-id-11 div.sk-toggleable {background-color: white;}#sk-container-id-11 label.sk-toggleable__label {cursor: pointer;display: block;width: 100%;margin-bottom: 0;padding: 0.3em;box-sizing: border-box;text-align: center;}#sk-container-id-11 label.sk-toggleable__label-arrow:before {content: \"▸\";float: left;margin-right: 0.25em;color: #696969;}#sk-container-id-11 label.sk-toggleable__label-arrow:hover:before {color: black;}#sk-container-id-11 div.sk-estimator:hover label.sk-toggleable__label-arrow:before {color: black;}#sk-container-id-11 div.sk-toggleable__content {max-height: 0;max-width: 0;overflow: hidden;text-align: left;background-color: #f0f8ff;}#sk-container-id-11 div.sk-toggleable__content pre {margin: 0.2em;color: black;border-radius: 0.25em;background-color: #f0f8ff;}#sk-container-id-11 input.sk-toggleable__control:checked~div.sk-toggleable__content {max-height: 200px;max-width: 100%;overflow: auto;}#sk-container-id-11 input.sk-toggleable__control:checked~label.sk-toggleable__label-arrow:before {content: \"▾\";}#sk-container-id-11 div.sk-estimator input.sk-toggleable__control:checked~label.sk-toggleable__label {background-color: #d4ebff;}#sk-container-id-11 div.sk-label input.sk-toggleable__control:checked~label.sk-toggleable__label {background-color: #d4ebff;}#sk-container-id-11 input.sk-hidden--visually {border: 0;clip: rect(1px 1px 1px 1px);clip: rect(1px, 1px, 1px, 1px);height: 1px;margin: -1px;overflow: hidden;padding: 0;position: absolute;width: 1px;}#sk-container-id-11 div.sk-estimator {font-family: monospace;background-color: #f0f8ff;border: 1px dotted black;border-radius: 0.25em;box-sizing: border-box;margin-bottom: 0.5em;}#sk-container-id-11 div.sk-estimator:hover {background-color: #d4ebff;}#sk-container-id-11 div.sk-parallel-item::after {content: \"\";width: 100%;border-bottom: 1px solid gray;flex-grow: 1;}#sk-container-id-11 div.sk-label:hover label.sk-toggleable__label {background-color: #d4ebff;}#sk-container-id-11 div.sk-serial::before {content: \"\";position: absolute;border-left: 1px solid gray;box-sizing: border-box;top: 0;bottom: 0;left: 50%;z-index: 0;}#sk-container-id-11 div.sk-serial {display: flex;flex-direction: column;align-items: center;background-color: white;padding-right: 0.2em;padding-left: 0.2em;position: relative;}#sk-container-id-11 div.sk-item {position: relative;z-index: 1;}#sk-container-id-11 div.sk-parallel {display: flex;align-items: stretch;justify-content: center;background-color: white;position: relative;}#sk-container-id-11 div.sk-item::before, #sk-container-id-11 div.sk-parallel-item::before {content: \"\";position: absolute;border-left: 1px solid gray;box-sizing: border-box;top: 0;bottom: 0;left: 50%;z-index: -1;}#sk-container-id-11 div.sk-parallel-item {display: flex;flex-direction: column;z-index: 1;position: relative;background-color: white;}#sk-container-id-11 div.sk-parallel-item:first-child::after {align-self: flex-end;width: 50%;}#sk-container-id-11 div.sk-parallel-item:last-child::after {align-self: flex-start;width: 50%;}#sk-container-id-11 div.sk-parallel-item:only-child::after {width: 0;}#sk-container-id-11 div.sk-dashed-wrapped {border: 1px dashed gray;margin: 0 0.4em 0.5em 0.4em;box-sizing: border-box;padding-bottom: 0.4em;background-color: white;}#sk-container-id-11 div.sk-label label {font-family: monospace;font-weight: bold;display: inline-block;line-height: 1.2em;}#sk-container-id-11 div.sk-label-container {text-align: center;}#sk-container-id-11 div.sk-container {/* jupyter's `normalize.less` sets `[hidden] { display: none; }` but bootstrap.min.css set `[hidden] { display: none !important; }` so we also need the `!important` here to be able to override the default hidden behavior on the sphinx rendered scikit-learn.org. See: https://github.com/scikit-learn/scikit-learn/issues/21755 */display: inline-block !important;position: relative;}#sk-container-id-11 div.sk-text-repr-fallback {display: none;}</style><div id=\"sk-container-id-11\" class=\"sk-top-container\"><div class=\"sk-text-repr-fallback\"><pre>LogisticRegression()</pre><b>In a Jupyter environment, please rerun this cell to show the HTML representation or trust the notebook. <br />On GitHub, the HTML representation is unable to render, please try loading this page with nbviewer.org.</b></div><div class=\"sk-container\" hidden><div class=\"sk-item\"><div class=\"sk-estimator sk-toggleable\"><input class=\"sk-toggleable__control sk-hidden--visually\" id=\"sk-estimator-id-13\" type=\"checkbox\" checked><label for=\"sk-estimator-id-13\" class=\"sk-toggleable__label sk-toggleable__label-arrow\">LogisticRegression</label><div class=\"sk-toggleable__content\"><pre>LogisticRegression()</pre></div></div></div></div></div>"
      ],
      "text/plain": [
       "LogisticRegression()"
      ]
     },
     "execution_count": 134,
     "metadata": {},
     "output_type": "execute_result"
    }
   ],
   "source": [
    "# fitting = training\n",
    "logreg.fit(X_train, y_train)"
   ]
  },
  {
   "cell_type": "code",
   "execution_count": 135,
   "metadata": {},
   "outputs": [
    {
     "data": {
      "text/plain": [
       "array([[0.99691604, 0.00308396],\n",
       "       [0.99395214, 0.00604786],\n",
       "       [0.99355327, 0.00644673],\n",
       "       ...,\n",
       "       [0.98766333, 0.01233667],\n",
       "       [0.98282451, 0.01717549],\n",
       "       [0.99713394, 0.00286606]])"
      ]
     },
     "execution_count": 135,
     "metadata": {},
     "output_type": "execute_result"
    }
   ],
   "source": [
    "# calculate probabilities\n",
    "y_pred_prob = logreg.predict_proba(X_test)\n",
    "y_pred_prob"
   ]
  },
  {
   "cell_type": "code",
   "execution_count": 136,
   "metadata": {},
   "outputs": [
    {
     "data": {
      "text/plain": [
       "array([0, 0, 0, ..., 0, 0, 0], dtype=int64)"
      ]
     },
     "execution_count": 136,
     "metadata": {},
     "output_type": "execute_result"
    }
   ],
   "source": [
    "y_pred = np.argmax(y_pred_prob, axis = 1)\n",
    "y_pred"
   ]
  },
  {
   "cell_type": "code",
   "execution_count": 137,
   "metadata": {},
   "outputs": [
    {
     "data": {
      "text/html": [
       "<div>\n",
       "<style scoped>\n",
       "    .dataframe tbody tr th:only-of-type {\n",
       "        vertical-align: middle;\n",
       "    }\n",
       "\n",
       "    .dataframe tbody tr th {\n",
       "        vertical-align: top;\n",
       "    }\n",
       "\n",
       "    .dataframe thead th {\n",
       "        text-align: right;\n",
       "    }\n",
       "</style>\n",
       "<table border=\"1\" class=\"dataframe\">\n",
       "  <thead>\n",
       "    <tr style=\"text-align: right;\">\n",
       "      <th></th>\n",
       "      <th>0</th>\n",
       "      <th>1</th>\n",
       "      <th>y_pred</th>\n",
       "    </tr>\n",
       "  </thead>\n",
       "  <tbody>\n",
       "    <tr>\n",
       "      <th>0</th>\n",
       "      <td>0.996916</td>\n",
       "      <td>0.003084</td>\n",
       "      <td>0</td>\n",
       "    </tr>\n",
       "    <tr>\n",
       "      <th>1</th>\n",
       "      <td>0.993952</td>\n",
       "      <td>0.006048</td>\n",
       "      <td>0</td>\n",
       "    </tr>\n",
       "    <tr>\n",
       "      <th>2</th>\n",
       "      <td>0.993553</td>\n",
       "      <td>0.006447</td>\n",
       "      <td>0</td>\n",
       "    </tr>\n",
       "    <tr>\n",
       "      <th>3</th>\n",
       "      <td>0.824912</td>\n",
       "      <td>0.175088</td>\n",
       "      <td>0</td>\n",
       "    </tr>\n",
       "    <tr>\n",
       "      <th>4</th>\n",
       "      <td>0.978216</td>\n",
       "      <td>0.021784</td>\n",
       "      <td>0</td>\n",
       "    </tr>\n",
       "  </tbody>\n",
       "</table>\n",
       "</div>"
      ],
      "text/plain": [
       "          0         1  y_pred\n",
       "0  0.996916  0.003084       0\n",
       "1  0.993952  0.006048       0\n",
       "2  0.993553  0.006447       0\n",
       "3  0.824912  0.175088       0\n",
       "4  0.978216  0.021784       0"
      ]
     },
     "execution_count": 137,
     "metadata": {},
     "output_type": "execute_result"
    }
   ],
   "source": [
    "dummy_ = pd.DataFrame(y_pred_prob)\n",
    "dummy_[\"y_pred\"] = y_pred\n",
    "dummy_.head()"
   ]
  },
  {
   "cell_type": "code",
   "execution_count": 138,
   "metadata": {},
   "outputs": [
    {
     "name": "stdout",
     "output_type": "stream",
     "text": [
      "Test accuracy: 0.9578947368421052\n"
     ]
    }
   ],
   "source": [
    "print(\"Test accuracy: {}\".format(accuracy_score(y_pred, y_test)))\n"
   ]
  },
  {
   "cell_type": "code",
   "execution_count": 139,
   "metadata": {},
   "outputs": [],
   "source": [
    "#ROC Curve\n",
    "fpr, tpr, thresholds = roc_curve(y_test, y_pred_prob[:,1])"
   ]
  },
  {
   "cell_type": "code",
   "execution_count": 140,
   "metadata": {},
   "outputs": [
    {
     "data": {
      "image/png": "[encoded data removed]",
      "text/plain": [
       "<Figure size 640x480 with 1 Axes>"
      ]
     },
     "metadata": {},
     "output_type": "display_data"
    }
   ],
   "source": [
    "# plot curve\n",
    "plt.plot([0,1],[0,1],\"k--\")\n",
    "plt.plot(fpr, tpr, label = \"Logistic Regression\")\n",
    "plt.xlabel(\"False Positive Rate\")\n",
    "plt.ylabel(\"True Positive Rate\")\n",
    "plt.title(\"Logistic Regression ROC Curve\")\n",
    "plt.show()\n",
    "## Sample az olduğu için curve gibi gözükmüyor ama sample fazla olsaydı curve gibi olurdu"
   ]
  },
  {
   "cell_type": "markdown",
   "metadata": {},
   "source": [
    "### Logistic Regression Hyperparameter Tuning\n"
   ]
  },
  {
   "cell_type": "code",
   "execution_count": 141,
   "metadata": {},
   "outputs": [
    {
     "data": {
      "text/html": [
       "<style>#sk-container-id-12 {color: black;background-color: white;}#sk-container-id-12 pre{padding: 0;}#sk-container-id-12 div.sk-toggleable {background-color: white;}#sk-container-id-12 label.sk-toggleable__label {cursor: pointer;display: block;width: 100%;margin-bottom: 0;padding: 0.3em;box-sizing: border-box;text-align: center;}#sk-container-id-12 label.sk-toggleable__label-arrow:before {content: \"▸\";float: left;margin-right: 0.25em;color: #696969;}#sk-container-id-12 label.sk-toggleable__label-arrow:hover:before {color: black;}#sk-container-id-12 div.sk-estimator:hover label.sk-toggleable__label-arrow:before {color: black;}#sk-container-id-12 div.sk-toggleable__content {max-height: 0;max-width: 0;overflow: hidden;text-align: left;background-color: #f0f8ff;}#sk-container-id-12 div.sk-toggleable__content pre {margin: 0.2em;color: black;border-radius: 0.25em;background-color: #f0f8ff;}#sk-container-id-12 input.sk-toggleable__control:checked~div.sk-toggleable__content {max-height: 200px;max-width: 100%;overflow: auto;}#sk-container-id-12 input.sk-toggleable__control:checked~label.sk-toggleable__label-arrow:before {content: \"▾\";}#sk-container-id-12 div.sk-estimator input.sk-toggleable__control:checked~label.sk-toggleable__label {background-color: #d4ebff;}#sk-container-id-12 div.sk-label input.sk-toggleable__control:checked~label.sk-toggleable__label {background-color: #d4ebff;}#sk-container-id-12 input.sk-hidden--visually {border: 0;clip: rect(1px 1px 1px 1px);clip: rect(1px, 1px, 1px, 1px);height: 1px;margin: -1px;overflow: hidden;padding: 0;position: absolute;width: 1px;}#sk-container-id-12 div.sk-estimator {font-family: monospace;background-color: #f0f8ff;border: 1px dotted black;border-radius: 0.25em;box-sizing: border-box;margin-bottom: 0.5em;}#sk-container-id-12 div.sk-estimator:hover {background-color: #d4ebff;}#sk-container-id-12 div.sk-parallel-item::after {content: \"\";width: 100%;border-bottom: 1px solid gray;flex-grow: 1;}#sk-container-id-12 div.sk-label:hover label.sk-toggleable__label {background-color: #d4ebff;}#sk-container-id-12 div.sk-serial::before {content: \"\";position: absolute;border-left: 1px solid gray;box-sizing: border-box;top: 0;bottom: 0;left: 50%;z-index: 0;}#sk-container-id-12 div.sk-serial {display: flex;flex-direction: column;align-items: center;background-color: white;padding-right: 0.2em;padding-left: 0.2em;position: relative;}#sk-container-id-12 div.sk-item {position: relative;z-index: 1;}#sk-container-id-12 div.sk-parallel {display: flex;align-items: stretch;justify-content: center;background-color: white;position: relative;}#sk-container-id-12 div.sk-item::before, #sk-container-id-12 div.sk-parallel-item::before {content: \"\";position: absolute;border-left: 1px solid gray;box-sizing: border-box;top: 0;bottom: 0;left: 50%;z-index: -1;}#sk-container-id-12 div.sk-parallel-item {display: flex;flex-direction: column;z-index: 1;position: relative;background-color: white;}#sk-container-id-12 div.sk-parallel-item:first-child::after {align-self: flex-end;width: 50%;}#sk-container-id-12 div.sk-parallel-item:last-child::after {align-self: flex-start;width: 50%;}#sk-container-id-12 div.sk-parallel-item:only-child::after {width: 0;}#sk-container-id-12 div.sk-dashed-wrapped {border: 1px dashed gray;margin: 0 0.4em 0.5em 0.4em;box-sizing: border-box;padding-bottom: 0.4em;background-color: white;}#sk-container-id-12 div.sk-label label {font-family: monospace;font-weight: bold;display: inline-block;line-height: 1.2em;}#sk-container-id-12 div.sk-label-container {text-align: center;}#sk-container-id-12 div.sk-container {/* jupyter's `normalize.less` sets `[hidden] { display: none; }` but bootstrap.min.css set `[hidden] { display: none !important; }` so we also need the `!important` here to be able to override the default hidden behavior on the sphinx rendered scikit-learn.org. See: https://github.com/scikit-learn/scikit-learn/issues/21755 */display: inline-block !important;position: relative;}#sk-container-id-12 div.sk-text-repr-fallback {display: none;}</style><div id=\"sk-container-id-12\" class=\"sk-top-container\"><div class=\"sk-text-repr-fallback\"><pre>LogisticRegression()</pre><b>In a Jupyter environment, please rerun this cell to show the HTML representation or trust the notebook. <br />On GitHub, the HTML representation is unable to render, please try loading this page with nbviewer.org.</b></div><div class=\"sk-container\" hidden><div class=\"sk-item\"><div class=\"sk-estimator sk-toggleable\"><input class=\"sk-toggleable__control sk-hidden--visually\" id=\"sk-estimator-id-14\" type=\"checkbox\" checked><label for=\"sk-estimator-id-14\" class=\"sk-toggleable__label sk-toggleable__label-arrow\">LogisticRegression</label><div class=\"sk-toggleable__content\"><pre>LogisticRegression()</pre></div></div></div></div></div>"
      ],
      "text/plain": [
       "LogisticRegression()"
      ]
     },
     "execution_count": 141,
     "metadata": {},
     "output_type": "execute_result"
    }
   ],
   "source": [
    "lr = LogisticRegression()\n",
    "lr"
   ]
  },
  {
   "cell_type": "code",
   "execution_count": 142,
   "metadata": {},
   "outputs": [],
   "source": [
    "penalty = [\"l1\", \"l2\"]\n",
    "\n",
    "parameters = {\"penalty\":penalty}"
   ]
  },
  {
   "cell_type": "code",
   "execution_count": 143,
   "metadata": {},
   "outputs": [],
   "source": [
    "lr_searcher = GridSearchCV(lr, parameters)\n"
   ]
  },
  {
   "cell_type": "code",
   "execution_count": 144,
   "metadata": {},
   "outputs": [
    {
     "data": {
      "text/html": [
       "<style>#sk-container-id-13 {color: black;background-color: white;}#sk-container-id-13 pre{padding: 0;}#sk-container-id-13 div.sk-toggleable {background-color: white;}#sk-container-id-13 label.sk-toggleable__label {cursor: pointer;display: block;width: 100%;margin-bottom: 0;padding: 0.3em;box-sizing: border-box;text-align: center;}#sk-container-id-13 label.sk-toggleable__label-arrow:before {content: \"▸\";float: left;margin-right: 0.25em;color: #696969;}#sk-container-id-13 label.sk-toggleable__label-arrow:hover:before {color: black;}#sk-container-id-13 div.sk-estimator:hover label.sk-toggleable__label-arrow:before {color: black;}#sk-container-id-13 div.sk-toggleable__content {max-height: 0;max-width: 0;overflow: hidden;text-align: left;background-color: #f0f8ff;}#sk-container-id-13 div.sk-toggleable__content pre {margin: 0.2em;color: black;border-radius: 0.25em;background-color: #f0f8ff;}#sk-container-id-13 input.sk-toggleable__control:checked~div.sk-toggleable__content {max-height: 200px;max-width: 100%;overflow: auto;}#sk-container-id-13 input.sk-toggleable__control:checked~label.sk-toggleable__label-arrow:before {content: \"▾\";}#sk-container-id-13 div.sk-estimator input.sk-toggleable__control:checked~label.sk-toggleable__label {background-color: #d4ebff;}#sk-container-id-13 div.sk-label input.sk-toggleable__control:checked~label.sk-toggleable__label {background-color: #d4ebff;}#sk-container-id-13 input.sk-hidden--visually {border: 0;clip: rect(1px 1px 1px 1px);clip: rect(1px, 1px, 1px, 1px);height: 1px;margin: -1px;overflow: hidden;padding: 0;position: absolute;width: 1px;}#sk-container-id-13 div.sk-estimator {font-family: monospace;background-color: #f0f8ff;border: 1px dotted black;border-radius: 0.25em;box-sizing: border-box;margin-bottom: 0.5em;}#sk-container-id-13 div.sk-estimator:hover {background-color: #d4ebff;}#sk-container-id-13 div.sk-parallel-item::after {content: \"\";width: 100%;border-bottom: 1px solid gray;flex-grow: 1;}#sk-container-id-13 div.sk-label:hover label.sk-toggleable__label {background-color: #d4ebff;}#sk-container-id-13 div.sk-serial::before {content: \"\";position: absolute;border-left: 1px solid gray;box-sizing: border-box;top: 0;bottom: 0;left: 50%;z-index: 0;}#sk-container-id-13 div.sk-serial {display: flex;flex-direction: column;align-items: center;background-color: white;padding-right: 0.2em;padding-left: 0.2em;position: relative;}#sk-container-id-13 div.sk-item {position: relative;z-index: 1;}#sk-container-id-13 div.sk-parallel {display: flex;align-items: stretch;justify-content: center;background-color: white;position: relative;}#sk-container-id-13 div.sk-item::before, #sk-container-id-13 div.sk-parallel-item::before {content: \"\";position: absolute;border-left: 1px solid gray;box-sizing: border-box;top: 0;bottom: 0;left: 50%;z-index: -1;}#sk-container-id-13 div.sk-parallel-item {display: flex;flex-direction: column;z-index: 1;position: relative;background-color: white;}#sk-container-id-13 div.sk-parallel-item:first-child::after {align-self: flex-end;width: 50%;}#sk-container-id-13 div.sk-parallel-item:last-child::after {align-self: flex-start;width: 50%;}#sk-container-id-13 div.sk-parallel-item:only-child::after {width: 0;}#sk-container-id-13 div.sk-dashed-wrapped {border: 1px dashed gray;margin: 0 0.4em 0.5em 0.4em;box-sizing: border-box;padding-bottom: 0.4em;background-color: white;}#sk-container-id-13 div.sk-label label {font-family: monospace;font-weight: bold;display: inline-block;line-height: 1.2em;}#sk-container-id-13 div.sk-label-container {text-align: center;}#sk-container-id-13 div.sk-container {/* jupyter's `normalize.less` sets `[hidden] { display: none; }` but bootstrap.min.css set `[hidden] { display: none !important; }` so we also need the `!important` here to be able to override the default hidden behavior on the sphinx rendered scikit-learn.org. See: https://github.com/scikit-learn/scikit-learn/issues/21755 */display: inline-block !important;position: relative;}#sk-container-id-13 div.sk-text-repr-fallback {display: none;}</style><div id=\"sk-container-id-13\" class=\"sk-top-container\"><div class=\"sk-text-repr-fallback\"><pre>GridSearchCV(estimator=LogisticRegression(),\n",
       "             param_grid={&#x27;penalty&#x27;: [&#x27;l1&#x27;, &#x27;l2&#x27;]})</pre><b>In a Jupyter environment, please rerun this cell to show the HTML representation or trust the notebook. <br />On GitHub, the HTML representation is unable to render, please try loading this page with nbviewer.org.</b></div><div class=\"sk-container\" hidden><div class=\"sk-item sk-dashed-wrapped\"><div class=\"sk-label-container\"><div class=\"sk-label sk-toggleable\"><input class=\"sk-toggleable__control sk-hidden--visually\" id=\"sk-estimator-id-15\" type=\"checkbox\" ><label for=\"sk-estimator-id-15\" class=\"sk-toggleable__label sk-toggleable__label-arrow\">GridSearchCV</label><div class=\"sk-toggleable__content\"><pre>GridSearchCV(estimator=LogisticRegression(),\n",
       "             param_grid={&#x27;penalty&#x27;: [&#x27;l1&#x27;, &#x27;l2&#x27;]})</pre></div></div></div><div class=\"sk-parallel\"><div class=\"sk-parallel-item\"><div class=\"sk-item\"><div class=\"sk-label-container\"><div class=\"sk-label sk-toggleable\"><input class=\"sk-toggleable__control sk-hidden--visually\" id=\"sk-estimator-id-16\" type=\"checkbox\" ><label for=\"sk-estimator-id-16\" class=\"sk-toggleable__label sk-toggleable__label-arrow\">estimator: LogisticRegression</label><div class=\"sk-toggleable__content\"><pre>LogisticRegression()</pre></div></div></div><div class=\"sk-serial\"><div class=\"sk-item\"><div class=\"sk-estimator sk-toggleable\"><input class=\"sk-toggleable__control sk-hidden--visually\" id=\"sk-estimator-id-17\" type=\"checkbox\" ><label for=\"sk-estimator-id-17\" class=\"sk-toggleable__label sk-toggleable__label-arrow\">LogisticRegression</label><div class=\"sk-toggleable__content\"><pre>LogisticRegression()</pre></div></div></div></div></div></div></div></div></div></div>"
      ],
      "text/plain": [
       "GridSearchCV(estimator=LogisticRegression(),\n",
       "             param_grid={'penalty': ['l1', 'l2']})"
      ]
     },
     "execution_count": 144,
     "metadata": {},
     "output_type": "execute_result"
    }
   ],
   "source": [
    "lr_searcher.fit(X_train, y_train)\n"
   ]
  },
  {
   "cell_type": "code",
   "execution_count": 145,
   "metadata": {},
   "outputs": [
    {
     "name": "stdout",
     "output_type": "stream",
     "text": [
      "Best parameters:  {'penalty': 'l2'}\n"
     ]
    }
   ],
   "source": [
    "print(\"Best parameters: \",lr_searcher.best_params_)\n"
   ]
  },
  {
   "cell_type": "code",
   "execution_count": 146,
   "metadata": {},
   "outputs": [],
   "source": [
    "y_pred = lr_searcher.predict(X_test)"
   ]
  },
  {
   "cell_type": "code",
   "execution_count": 147,
   "metadata": {},
   "outputs": [
    {
     "name": "stdout",
     "output_type": "stream",
     "text": [
      "Test accuracy: 0.9578947368421052\n"
     ]
    }
   ],
   "source": [
    "print(\"Test accuracy: {}\".format(accuracy_score(y_pred, y_test)))\n"
   ]
  },
  {
   "cell_type": "code",
   "execution_count": 148,
   "metadata": {},
   "outputs": [
    {
     "name": "stdout",
     "output_type": "stream",
     "text": [
      "Test precision: 0.47928370786516855\n"
     ]
    }
   ],
   "source": [
    "# Precision hesaplama\n",
    "precision = precision_score(y_test, y_pred, average='macro')  # 'macro' veya diğer seçenekleri kullanabilirsiniz\n",
    "print(\"Test precision: {}\".format(precision))"
   ]
  },
  {
   "cell_type": "code",
   "execution_count": 149,
   "metadata": {},
   "outputs": [
    {
     "name": "stdout",
     "output_type": "stream",
     "text": [
      "Logistic Regression Recall: 0.49963396778916547\n",
      "Logistic Regression F1 Score: 0.489247311827957\n"
     ]
    }
   ],
   "source": [
    "# Logistic Regression recall-f1\n",
    "recall_logreg = recall_score(y_test, y_pred, average='macro')  # 'macro' veya diğer seçenekleri kullanabilirsiniz\n",
    "f1_logreg = f1_score(y_test, y_pred, average='macro')\n",
    "print(\"Logistic Regression Recall: {}\".format(recall_logreg))\n",
    "print(\"Logistic Regression F1 Score: {}\".format(f1_logreg))"
   ]
  },
  {
   "cell_type": "markdown",
   "metadata": {},
   "source": [
    "# Lasso sonrası Logistic Regression"
   ]
  },
  {
   "cell_type": "code",
   "execution_count": 150,
   "metadata": {},
   "outputs": [
    {
     "name": "stdout",
     "output_type": "stream",
     "text": [
      "Logistic Regression Doğruluk Skoru: 0.96\n"
     ]
    }
   ],
   "source": [
    "from sklearn.feature_selection import SelectKBest, f_classif\n",
    "\n",
    "# Assuming X_train_scaled, X_test_scaled, y_train, and y_test are defined\n",
    "# Feature selection using SelectKBest\n",
    "selector = SelectKBest(score_func=f_classif, k=3)  # Replace 'k' with the desired number of features\n",
    "X_train_selected = selector.fit_transform(X_train_scaled, y_train)\n",
    "X_test_selected = selector.transform(X_test_scaled)\n",
    "\n",
    "selected_feature_indices = selector.get_support(indices=True)\n",
    "selected_features = X_train.columns[selected_feature_indices]\n",
    "\n",
    "# Logistic Regression modelini oluştur\n",
    "logreg_model = LogisticRegression()\n",
    "logreg_model.fit(X_train_selected, y_train)\n",
    "\n",
    "# Test setinde modelin performansını değerlendir\n",
    "y_pred_logreg = logreg_model.predict(X_test_selected)\n",
    "accuracy_logreg = accuracy_score(y_test, y_pred_logreg)\n",
    "print(\"Logistic Regression Doğruluk Skoru: {:.2f}\".format(accuracy_logreg))\n"
   ]
  },
  {
   "cell_type": "markdown",
   "metadata": {},
   "source": [
    "# PCA Sonrası Logistic Reggression"
   ]
  },
  {
   "cell_type": "code",
   "execution_count": 151,
   "metadata": {},
   "outputs": [
    {
     "name": "stdout",
     "output_type": "stream",
     "text": [
      "Accuracy Logistic Regression with PCA: 95.86%\n"
     ]
    }
   ],
   "source": [
    "from sklearn.linear_model import LogisticRegression\n",
    "from sklearn.metrics import accuracy_score\n",
    "\n",
    "# Create a logistic regression model\n",
    "logistic_model = LogisticRegression(random_state=3)\n",
    "\n",
    "# Fit the model on the training data\n",
    "logistic_model.fit(X_train_pca, y_train)\n",
    "\n",
    "# Make predictions on the test set\n",
    "y_pred = logistic_model.predict(X_test_pca)\n",
    "\n",
    "# Evaluate the accuracy of the model\n",
    "accuracy = accuracy_score(y_test, y_pred)\n",
    "print(\"Accuracy Logistic Regression with PCA: {:.2f}%\".format(accuracy * 100))\n"
   ]
  },
  {
   "cell_type": "markdown",
   "metadata": {},
   "source": [
    "# PCA Sonrası Decision Tree - Random Forest - SVM"
   ]
  },
  {
   "cell_type": "code",
   "execution_count": 152,
   "metadata": {},
   "outputs": [
    {
     "name": "stdout",
     "output_type": "stream",
     "text": [
      "Accuracy Decision Tree with PCA: 91.58%\n",
      "Accuracy Random Forest with PCA: 95.79%\n",
      "Accuracy SVM with PCA: 95.86%\n"
     ]
    }
   ],
   "source": [
    "from sklearn.tree import DecisionTreeClassifier\n",
    "from sklearn.ensemble import RandomForestClassifier\n",
    "from sklearn.svm import SVC\n",
    "\n",
    "# Decision Tree\n",
    "decision_tree_model = DecisionTreeClassifier(random_state=3)\n",
    "decision_tree_model.fit(X_train_pca, y_train)\n",
    "y_pred_dt = decision_tree_model.predict(X_test_pca)\n",
    "accuracy_dt = accuracy_score(y_test, y_pred_dt)\n",
    "print(\"Accuracy Decision Tree with PCA: {:.2f}%\".format(accuracy_dt * 100))\n",
    "\n",
    "# Random Forest\n",
    "random_forest_model = RandomForestClassifier(random_state=3)\n",
    "random_forest_model.fit(X_train_pca, y_train)\n",
    "y_pred_rf = random_forest_model.predict(X_test_pca)\n",
    "accuracy_rf = accuracy_score(y_test, y_pred_rf)\n",
    "print(\"Accuracy Random Forest with PCA: {:.2f}%\".format(accuracy_rf * 100))\n",
    "\n",
    "# Support Vector Machine (SVM)\n",
    "svm_model = SVC(random_state=3)\n",
    "svm_model.fit(X_train_pca, y_train)\n",
    "y_pred_svm = svm_model.predict(X_test_pca)\n",
    "accuracy_svm = accuracy_score(y_test, y_pred_svm)\n",
    "print(\"Accuracy SVM with PCA: {:.2f}%\".format(accuracy_svm * 100))\n"
   ]
  },
  {
   "cell_type": "markdown",
   "metadata": {},
   "source": [
    "# PCA Sonrası Ensemble\n"
   ]
  },
  {
   "cell_type": "code",
   "execution_count": 153,
   "metadata": {},
   "outputs": [
    {
     "name": "stdout",
     "output_type": "stream",
     "text": [
      "Accuracy Ensemble Model with PCA: 95.86%\n"
     ]
    }
   ],
   "source": [
    "from sklearn.ensemble import VotingClassifier\n",
    "\n",
    "# Define the individual models\n",
    "models = [('Logistic Regression', logistic_model),\n",
    "          ('Decision Tree', decision_tree_model),\n",
    "          ('Random Forest', random_forest_model),\n",
    "          ('SVM', svm_model)]\n",
    "\n",
    "# Create the ensemble model\n",
    "ensemble_model = VotingClassifier(estimators=models, voting='hard')\n",
    "\n",
    "# Fit the ensemble model on the training data\n",
    "ensemble_model.fit(X_train_pca, y_train)\n",
    "\n",
    "# Make predictions on the test set\n",
    "y_pred_ensemble = ensemble_model.predict(X_test_pca)\n",
    "\n",
    "# Evaluate the accuracy of the ensemble model\n",
    "accuracy_ensemble = accuracy_score(y_test, y_pred_ensemble)\n",
    "print(\"Accuracy Ensemble Model with PCA: {:.2f}%\".format(accuracy_ensemble * 100))\n"
   ]
  },
  {
   "cell_type": "markdown",
   "metadata": {},
   "source": [
    "<a id=\"16\"> </a>\n",
    "\n",
    "# Decision Tree Model"
   ]
  },
  {
   "cell_type": "code",
   "execution_count": 154,
   "metadata": {},
   "outputs": [],
   "source": [
    "### Decision Tree modeli oluşturma\n",
    "dt_classifier = DecisionTreeClassifier(random_state=3)"
   ]
  },
  {
   "cell_type": "code",
   "execution_count": 155,
   "metadata": {},
   "outputs": [
    {
     "data": {
      "text/html": [
       "<style>#sk-container-id-14 {color: black;background-color: white;}#sk-container-id-14 pre{padding: 0;}#sk-container-id-14 div.sk-toggleable {background-color: white;}#sk-container-id-14 label.sk-toggleable__label {cursor: pointer;display: block;width: 100%;margin-bottom: 0;padding: 0.3em;box-sizing: border-box;text-align: center;}#sk-container-id-14 label.sk-toggleable__label-arrow:before {content: \"▸\";float: left;margin-right: 0.25em;color: #696969;}#sk-container-id-14 label.sk-toggleable__label-arrow:hover:before {color: black;}#sk-container-id-14 div.sk-estimator:hover label.sk-toggleable__label-arrow:before {color: black;}#sk-container-id-14 div.sk-toggleable__content {max-height: 0;max-width: 0;overflow: hidden;text-align: left;background-color: #f0f8ff;}#sk-container-id-14 div.sk-toggleable__content pre {margin: 0.2em;color: black;border-radius: 0.25em;background-color: #f0f8ff;}#sk-container-id-14 input.sk-toggleable__control:checked~div.sk-toggleable__content {max-height: 200px;max-width: 100%;overflow: auto;}#sk-container-id-14 input.sk-toggleable__control:checked~label.sk-toggleable__label-arrow:before {content: \"▾\";}#sk-container-id-14 div.sk-estimator input.sk-toggleable__control:checked~label.sk-toggleable__label {background-color: #d4ebff;}#sk-container-id-14 div.sk-label input.sk-toggleable__control:checked~label.sk-toggleable__label {background-color: #d4ebff;}#sk-container-id-14 input.sk-hidden--visually {border: 0;clip: rect(1px 1px 1px 1px);clip: rect(1px, 1px, 1px, 1px);height: 1px;margin: -1px;overflow: hidden;padding: 0;position: absolute;width: 1px;}#sk-container-id-14 div.sk-estimator {font-family: monospace;background-color: #f0f8ff;border: 1px dotted black;border-radius: 0.25em;box-sizing: border-box;margin-bottom: 0.5em;}#sk-container-id-14 div.sk-estimator:hover {background-color: #d4ebff;}#sk-container-id-14 div.sk-parallel-item::after {content: \"\";width: 100%;border-bottom: 1px solid gray;flex-grow: 1;}#sk-container-id-14 div.sk-label:hover label.sk-toggleable__label {background-color: #d4ebff;}#sk-container-id-14 div.sk-serial::before {content: \"\";position: absolute;border-left: 1px solid gray;box-sizing: border-box;top: 0;bottom: 0;left: 50%;z-index: 0;}#sk-container-id-14 div.sk-serial {display: flex;flex-direction: column;align-items: center;background-color: white;padding-right: 0.2em;padding-left: 0.2em;position: relative;}#sk-container-id-14 div.sk-item {position: relative;z-index: 1;}#sk-container-id-14 div.sk-parallel {display: flex;align-items: stretch;justify-content: center;background-color: white;position: relative;}#sk-container-id-14 div.sk-item::before, #sk-container-id-14 div.sk-parallel-item::before {content: \"\";position: absolute;border-left: 1px solid gray;box-sizing: border-box;top: 0;bottom: 0;left: 50%;z-index: -1;}#sk-container-id-14 div.sk-parallel-item {display: flex;flex-direction: column;z-index: 1;position: relative;background-color: white;}#sk-container-id-14 div.sk-parallel-item:first-child::after {align-self: flex-end;width: 50%;}#sk-container-id-14 div.sk-parallel-item:last-child::after {align-self: flex-start;width: 50%;}#sk-container-id-14 div.sk-parallel-item:only-child::after {width: 0;}#sk-container-id-14 div.sk-dashed-wrapped {border: 1px dashed gray;margin: 0 0.4em 0.5em 0.4em;box-sizing: border-box;padding-bottom: 0.4em;background-color: white;}#sk-container-id-14 div.sk-label label {font-family: monospace;font-weight: bold;display: inline-block;line-height: 1.2em;}#sk-container-id-14 div.sk-label-container {text-align: center;}#sk-container-id-14 div.sk-container {/* jupyter's `normalize.less` sets `[hidden] { display: none; }` but bootstrap.min.css set `[hidden] { display: none !important; }` so we also need the `!important` here to be able to override the default hidden behavior on the sphinx rendered scikit-learn.org. See: https://github.com/scikit-learn/scikit-learn/issues/21755 */display: inline-block !important;position: relative;}#sk-container-id-14 div.sk-text-repr-fallback {display: none;}</style><div id=\"sk-container-id-14\" class=\"sk-top-container\"><div class=\"sk-text-repr-fallback\"><pre>DecisionTreeClassifier(random_state=3)</pre><b>In a Jupyter environment, please rerun this cell to show the HTML representation or trust the notebook. <br />On GitHub, the HTML representation is unable to render, please try loading this page with nbviewer.org.</b></div><div class=\"sk-container\" hidden><div class=\"sk-item\"><div class=\"sk-estimator sk-toggleable\"><input class=\"sk-toggleable__control sk-hidden--visually\" id=\"sk-estimator-id-18\" type=\"checkbox\" checked><label for=\"sk-estimator-id-18\" class=\"sk-toggleable__label sk-toggleable__label-arrow\">DecisionTreeClassifier</label><div class=\"sk-toggleable__content\"><pre>DecisionTreeClassifier(random_state=3)</pre></div></div></div></div></div>"
      ],
      "text/plain": [
       "DecisionTreeClassifier(random_state=3)"
      ]
     },
     "execution_count": 155,
     "metadata": {},
     "output_type": "execute_result"
    }
   ],
   "source": [
    "# Modeli eğitme (fitting)\n",
    "dt_classifier.fit(X_train, y_train)"
   ]
  },
  {
   "cell_type": "code",
   "execution_count": 156,
   "metadata": {},
   "outputs": [],
   "source": [
    "# Test verileri üzerinde tahmin yapma\n",
    "y_pred_dt = dt_classifier.predict(X_test)"
   ]
  },
  {
   "cell_type": "code",
   "execution_count": 157,
   "metadata": {},
   "outputs": [
    {
     "name": "stdout",
     "output_type": "stream",
     "text": [
      "Decision Tree Test accuracy: 0.9263157894736842\n"
     ]
    }
   ],
   "source": [
    "accuracy_dt = accuracy_score(y_pred_dt, y_test)\n",
    "print(\"Decision Tree Test accuracy: {}\".format(accuracy_dt))"
   ]
  },
  {
   "cell_type": "code",
   "execution_count": 158,
   "metadata": {},
   "outputs": [
    {
     "name": "stdout",
     "output_type": "stream",
     "text": [
      "Decision Tree Test Precision: 0.5323386222031633\n"
     ]
    }
   ],
   "source": [
    "# Precision hesaplama\n",
    "precision_dt = precision_score(y_test, y_pred_dt, average='macro')  # 'macro' veya diğer seçenekleri kullanabilirsiniz\n",
    "print(\"Decision Tree Test Precision: {}\".format(precision_dt))"
   ]
  },
  {
   "cell_type": "code",
   "execution_count": 159,
   "metadata": {},
   "outputs": [
    {
     "name": "stdout",
     "output_type": "stream",
     "text": [
      "Decision Tree Recall: 0.5318137826637219\n",
      "Decision Tree F1 Score: 0.532072391567452\n"
     ]
    }
   ],
   "source": [
    "# Decision Tree recall-f1\n",
    "recall_dt = recall_score(y_test, y_pred_dt, average='macro')  # 'macro' veya diğer seçenekleri kullanabilirsiniz\n",
    "f1_dt = f1_score(y_test, y_pred_dt, average='macro')\n",
    "print(\"Decision Tree Recall: {}\".format(recall_dt))\n",
    "print(\"Decision Tree F1 Score: {}\".format(f1_dt))"
   ]
  },
  {
   "cell_type": "markdown",
   "metadata": {},
   "source": [
    "# Lasso Sonrası Decision Tree"
   ]
  },
  {
   "cell_type": "code",
   "execution_count": 160,
   "metadata": {},
   "outputs": [
    {
     "name": "stdout",
     "output_type": "stream",
     "text": [
      "Decision Tree Doğruluk Skoru: 0.95\n"
     ]
    }
   ],
   "source": [
    "from sklearn.tree import DecisionTreeClassifier\n",
    "\n",
    "# Decision Tree modelini oluştur\n",
    "dt_model = DecisionTreeClassifier()\n",
    "dt_model.fit(X_train_selected, y_train)\n",
    "\n",
    "# Test setinde modelin performansını değerlendir\n",
    "y_pred_dt = dt_model.predict(X_test_selected)\n",
    "accuracy_dt = accuracy_score(y_test, y_pred_dt)\n",
    "print(\"Decision Tree Doğruluk Skoru: {:.2f}\".format(accuracy_dt))\n"
   ]
  },
  {
   "cell_type": "markdown",
   "metadata": {},
   "source": [
    "<a id=\"17\"> </a>\n",
    "# Random Forest Model"
   ]
  },
  {
   "cell_type": "code",
   "execution_count": 161,
   "metadata": {},
   "outputs": [],
   "source": [
    "# Random Forest modeli oluşturma\n",
    "rf_classifier = RandomForestClassifier(random_state=3)"
   ]
  },
  {
   "cell_type": "code",
   "execution_count": 162,
   "metadata": {},
   "outputs": [
    {
     "data": {
      "text/html": [
       "<style>#sk-container-id-15 {color: black;background-color: white;}#sk-container-id-15 pre{padding: 0;}#sk-container-id-15 div.sk-toggleable {background-color: white;}#sk-container-id-15 label.sk-toggleable__label {cursor: pointer;display: block;width: 100%;margin-bottom: 0;padding: 0.3em;box-sizing: border-box;text-align: center;}#sk-container-id-15 label.sk-toggleable__label-arrow:before {content: \"▸\";float: left;margin-right: 0.25em;color: #696969;}#sk-container-id-15 label.sk-toggleable__label-arrow:hover:before {color: black;}#sk-container-id-15 div.sk-estimator:hover label.sk-toggleable__label-arrow:before {color: black;}#sk-container-id-15 div.sk-toggleable__content {max-height: 0;max-width: 0;overflow: hidden;text-align: left;background-color: #f0f8ff;}#sk-container-id-15 div.sk-toggleable__content pre {margin: 0.2em;color: black;border-radius: 0.25em;background-color: #f0f8ff;}#sk-container-id-15 input.sk-toggleable__control:checked~div.sk-toggleable__content {max-height: 200px;max-width: 100%;overflow: auto;}#sk-container-id-15 input.sk-toggleable__control:checked~label.sk-toggleable__label-arrow:before {content: \"▾\";}#sk-container-id-15 div.sk-estimator input.sk-toggleable__control:checked~label.sk-toggleable__label {background-color: #d4ebff;}#sk-container-id-15 div.sk-label input.sk-toggleable__control:checked~label.sk-toggleable__label {background-color: #d4ebff;}#sk-container-id-15 input.sk-hidden--visually {border: 0;clip: rect(1px 1px 1px 1px);clip: rect(1px, 1px, 1px, 1px);height: 1px;margin: -1px;overflow: hidden;padding: 0;position: absolute;width: 1px;}#sk-container-id-15 div.sk-estimator {font-family: monospace;background-color: #f0f8ff;border: 1px dotted black;border-radius: 0.25em;box-sizing: border-box;margin-bottom: 0.5em;}#sk-container-id-15 div.sk-estimator:hover {background-color: #d4ebff;}#sk-container-id-15 div.sk-parallel-item::after {content: \"\";width: 100%;border-bottom: 1px solid gray;flex-grow: 1;}#sk-container-id-15 div.sk-label:hover label.sk-toggleable__label {background-color: #d4ebff;}#sk-container-id-15 div.sk-serial::before {content: \"\";position: absolute;border-left: 1px solid gray;box-sizing: border-box;top: 0;bottom: 0;left: 50%;z-index: 0;}#sk-container-id-15 div.sk-serial {display: flex;flex-direction: column;align-items: center;background-color: white;padding-right: 0.2em;padding-left: 0.2em;position: relative;}#sk-container-id-15 div.sk-item {position: relative;z-index: 1;}#sk-container-id-15 div.sk-parallel {display: flex;align-items: stretch;justify-content: center;background-color: white;position: relative;}#sk-container-id-15 div.sk-item::before, #sk-container-id-15 div.sk-parallel-item::before {content: \"\";position: absolute;border-left: 1px solid gray;box-sizing: border-box;top: 0;bottom: 0;left: 50%;z-index: -1;}#sk-container-id-15 div.sk-parallel-item {display: flex;flex-direction: column;z-index: 1;position: relative;background-color: white;}#sk-container-id-15 div.sk-parallel-item:first-child::after {align-self: flex-end;width: 50%;}#sk-container-id-15 div.sk-parallel-item:last-child::after {align-self: flex-start;width: 50%;}#sk-container-id-15 div.sk-parallel-item:only-child::after {width: 0;}#sk-container-id-15 div.sk-dashed-wrapped {border: 1px dashed gray;margin: 0 0.4em 0.5em 0.4em;box-sizing: border-box;padding-bottom: 0.4em;background-color: white;}#sk-container-id-15 div.sk-label label {font-family: monospace;font-weight: bold;display: inline-block;line-height: 1.2em;}#sk-container-id-15 div.sk-label-container {text-align: center;}#sk-container-id-15 div.sk-container {/* jupyter's `normalize.less` sets `[hidden] { display: none; }` but bootstrap.min.css set `[hidden] { display: none !important; }` so we also need the `!important` here to be able to override the default hidden behavior on the sphinx rendered scikit-learn.org. See: https://github.com/scikit-learn/scikit-learn/issues/21755 */display: inline-block !important;position: relative;}#sk-container-id-15 div.sk-text-repr-fallback {display: none;}</style><div id=\"sk-container-id-15\" class=\"sk-top-container\"><div class=\"sk-text-repr-fallback\"><pre>RandomForestClassifier(random_state=3)</pre><b>In a Jupyter environment, please rerun this cell to show the HTML representation or trust the notebook. <br />On GitHub, the HTML representation is unable to render, please try loading this page with nbviewer.org.</b></div><div class=\"sk-container\" hidden><div class=\"sk-item\"><div class=\"sk-estimator sk-toggleable\"><input class=\"sk-toggleable__control sk-hidden--visually\" id=\"sk-estimator-id-19\" type=\"checkbox\" checked><label for=\"sk-estimator-id-19\" class=\"sk-toggleable__label sk-toggleable__label-arrow\">RandomForestClassifier</label><div class=\"sk-toggleable__content\"><pre>RandomForestClassifier(random_state=3)</pre></div></div></div></div></div>"
      ],
      "text/plain": [
       "RandomForestClassifier(random_state=3)"
      ]
     },
     "execution_count": 162,
     "metadata": {},
     "output_type": "execute_result"
    }
   ],
   "source": [
    "# Modeli eğitme (fitting)\n",
    "rf_classifier.fit(X_train, y_train.values.ravel())"
   ]
  },
  {
   "cell_type": "code",
   "execution_count": 163,
   "metadata": {},
   "outputs": [],
   "source": [
    "# Test verileri üzerinde tahmin yapma\n",
    "y_pred_rf = rf_classifier.predict(X_test)"
   ]
  },
  {
   "cell_type": "code",
   "execution_count": 164,
   "metadata": {},
   "outputs": [
    {
     "name": "stdout",
     "output_type": "stream",
     "text": [
      "Random Forest Test accuracy: 0.9578947368421052\n"
     ]
    }
   ],
   "source": [
    "# Test accuracy hesaplama\n",
    "accuracy_rf = accuracy_score(y_pred_rf, y_test)\n",
    "print(\"Random Forest Test accuracy: {}\".format(accuracy_rf))"
   ]
  },
  {
   "cell_type": "code",
   "execution_count": 165,
   "metadata": {},
   "outputs": [
    {
     "name": "stdout",
     "output_type": "stream",
     "text": [
      "Random Forest Test Precision: 0.47928370786516855\n"
     ]
    }
   ],
   "source": [
    "# Precision hesaplama\n",
    "precision_rf = precision_score(y_test, y_pred_rf, average='macro')  # 'macro' veya diğer seçenekleri kullanabilirsiniz\n",
    "print(\"Random Forest Test Precision: {}\".format(precision_rf))"
   ]
  },
  {
   "cell_type": "code",
   "execution_count": 166,
   "metadata": {},
   "outputs": [
    {
     "name": "stdout",
     "output_type": "stream",
     "text": [
      "Random Forest Recall: 0.49963396778916547\n",
      "Random Forest F1 Score: 0.489247311827957\n"
     ]
    }
   ],
   "source": [
    "# Random Forest recall-f1\n",
    "recall_rf = recall_score(y_test, y_pred_rf, average='macro')  # 'macro' veya diğer seçenekleri kullanabilirsiniz\n",
    "f1_rf = f1_score(y_test, y_pred_rf, average='macro')\n",
    "print(\"Random Forest Recall: {}\".format(recall_rf))\n",
    "print(\"Random Forest F1 Score: {}\".format(f1_rf))"
   ]
  },
  {
   "cell_type": "markdown",
   "metadata": {},
   "source": [
    "# Lasso Sonrası Random Forest"
   ]
  },
  {
   "cell_type": "code",
   "execution_count": 167,
   "metadata": {},
   "outputs": [
    {
     "name": "stdout",
     "output_type": "stream",
     "text": [
      "Random Forest Doğruluk Skoru: 0.95\n"
     ]
    }
   ],
   "source": [
    "from sklearn.ensemble import RandomForestClassifier\n",
    "\n",
    "# Random Forest modelini oluştur\n",
    "rf_model = RandomForestClassifier()\n",
    "rf_model.fit(X_train_selected, y_train)\n",
    "\n",
    "# Test setinde modelin performansını değerlendir\n",
    "y_pred_rf = rf_model.predict(X_test_selected)\n",
    "accuracy_rf = accuracy_score(y_test, y_pred_rf)\n",
    "print(\"Random Forest Doğruluk Skoru: {:.2f}\".format(accuracy_rf))\n"
   ]
  },
  {
   "cell_type": "markdown",
   "metadata": {},
   "source": [
    "<a id=\"18\"> </a>\n",
    "\n",
    "# SVM (Support Vector Machine) Model\n",
    " "
   ]
  },
  {
   "cell_type": "code",
   "execution_count": 168,
   "metadata": {},
   "outputs": [],
   "source": [
    "# SVM modeli oluşturma\n",
    "svm_classifier = SVC(random_state=3)"
   ]
  },
  {
   "cell_type": "code",
   "execution_count": 169,
   "metadata": {},
   "outputs": [
    {
     "data": {
      "text/html": [
       "<style>#sk-container-id-16 {color: black;background-color: white;}#sk-container-id-16 pre{padding: 0;}#sk-container-id-16 div.sk-toggleable {background-color: white;}#sk-container-id-16 label.sk-toggleable__label {cursor: pointer;display: block;width: 100%;margin-bottom: 0;padding: 0.3em;box-sizing: border-box;text-align: center;}#sk-container-id-16 label.sk-toggleable__label-arrow:before {content: \"▸\";float: left;margin-right: 0.25em;color: #696969;}#sk-container-id-16 label.sk-toggleable__label-arrow:hover:before {color: black;}#sk-container-id-16 div.sk-estimator:hover label.sk-toggleable__label-arrow:before {color: black;}#sk-container-id-16 div.sk-toggleable__content {max-height: 0;max-width: 0;overflow: hidden;text-align: left;background-color: #f0f8ff;}#sk-container-id-16 div.sk-toggleable__content pre {margin: 0.2em;color: black;border-radius: 0.25em;background-color: #f0f8ff;}#sk-container-id-16 input.sk-toggleable__control:checked~div.sk-toggleable__content {max-height: 200px;max-width: 100%;overflow: auto;}#sk-container-id-16 input.sk-toggleable__control:checked~label.sk-toggleable__label-arrow:before {content: \"▾\";}#sk-container-id-16 div.sk-estimator input.sk-toggleable__control:checked~label.sk-toggleable__label {background-color: #d4ebff;}#sk-container-id-16 div.sk-label input.sk-toggleable__control:checked~label.sk-toggleable__label {background-color: #d4ebff;}#sk-container-id-16 input.sk-hidden--visually {border: 0;clip: rect(1px 1px 1px 1px);clip: rect(1px, 1px, 1px, 1px);height: 1px;margin: -1px;overflow: hidden;padding: 0;position: absolute;width: 1px;}#sk-container-id-16 div.sk-estimator {font-family: monospace;background-color: #f0f8ff;border: 1px dotted black;border-radius: 0.25em;box-sizing: border-box;margin-bottom: 0.5em;}#sk-container-id-16 div.sk-estimator:hover {background-color: #d4ebff;}#sk-container-id-16 div.sk-parallel-item::after {content: \"\";width: 100%;border-bottom: 1px solid gray;flex-grow: 1;}#sk-container-id-16 div.sk-label:hover label.sk-toggleable__label {background-color: #d4ebff;}#sk-container-id-16 div.sk-serial::before {content: \"\";position: absolute;border-left: 1px solid gray;box-sizing: border-box;top: 0;bottom: 0;left: 50%;z-index: 0;}#sk-container-id-16 div.sk-serial {display: flex;flex-direction: column;align-items: center;background-color: white;padding-right: 0.2em;padding-left: 0.2em;position: relative;}#sk-container-id-16 div.sk-item {position: relative;z-index: 1;}#sk-container-id-16 div.sk-parallel {display: flex;align-items: stretch;justify-content: center;background-color: white;position: relative;}#sk-container-id-16 div.sk-item::before, #sk-container-id-16 div.sk-parallel-item::before {content: \"\";position: absolute;border-left: 1px solid gray;box-sizing: border-box;top: 0;bottom: 0;left: 50%;z-index: -1;}#sk-container-id-16 div.sk-parallel-item {display: flex;flex-direction: column;z-index: 1;position: relative;background-color: white;}#sk-container-id-16 div.sk-parallel-item:first-child::after {align-self: flex-end;width: 50%;}#sk-container-id-16 div.sk-parallel-item:last-child::after {align-self: flex-start;width: 50%;}#sk-container-id-16 div.sk-parallel-item:only-child::after {width: 0;}#sk-container-id-16 div.sk-dashed-wrapped {border: 1px dashed gray;margin: 0 0.4em 0.5em 0.4em;box-sizing: border-box;padding-bottom: 0.4em;background-color: white;}#sk-container-id-16 div.sk-label label {font-family: monospace;font-weight: bold;display: inline-block;line-height: 1.2em;}#sk-container-id-16 div.sk-label-container {text-align: center;}#sk-container-id-16 div.sk-container {/* jupyter's `normalize.less` sets `[hidden] { display: none; }` but bootstrap.min.css set `[hidden] { display: none !important; }` so we also need the `!important` here to be able to override the default hidden behavior on the sphinx rendered scikit-learn.org. See: https://github.com/scikit-learn/scikit-learn/issues/21755 */display: inline-block !important;position: relative;}#sk-container-id-16 div.sk-text-repr-fallback {display: none;}</style><div id=\"sk-container-id-16\" class=\"sk-top-container\"><div class=\"sk-text-repr-fallback\"><pre>SVC(random_state=3)</pre><b>In a Jupyter environment, please rerun this cell to show the HTML representation or trust the notebook. <br />On GitHub, the HTML representation is unable to render, please try loading this page with nbviewer.org.</b></div><div class=\"sk-container\" hidden><div class=\"sk-item\"><div class=\"sk-estimator sk-toggleable\"><input class=\"sk-toggleable__control sk-hidden--visually\" id=\"sk-estimator-id-20\" type=\"checkbox\" checked><label for=\"sk-estimator-id-20\" class=\"sk-toggleable__label sk-toggleable__label-arrow\">SVC</label><div class=\"sk-toggleable__content\"><pre>SVC(random_state=3)</pre></div></div></div></div></div>"
      ],
      "text/plain": [
       "SVC(random_state=3)"
      ]
     },
     "execution_count": 169,
     "metadata": {},
     "output_type": "execute_result"
    }
   ],
   "source": [
    "# Modeli eğitme (fitting)\n",
    "svm_classifier.fit(X_train, y_train.values.ravel())"
   ]
  },
  {
   "cell_type": "code",
   "execution_count": 170,
   "metadata": {},
   "outputs": [],
   "source": [
    "# Test verileri üzerinde tahmin yapma\n",
    "y_pred_svm = svm_classifier.predict(X_test)"
   ]
  },
  {
   "cell_type": "code",
   "execution_count": 171,
   "metadata": {},
   "outputs": [
    {
     "name": "stdout",
     "output_type": "stream",
     "text": [
      "SVM Test accuracy: 0.9585964912280702\n"
     ]
    }
   ],
   "source": [
    "# Test accuracy hesaplama\n",
    "accuracy_svm = accuracy_score(y_pred_svm, y_test)\n",
    "print(\"SVM Test accuracy: {}\".format(accuracy_svm))"
   ]
  },
  {
   "cell_type": "code",
   "execution_count": 172,
   "metadata": {},
   "outputs": [
    {
     "name": "stdout",
     "output_type": "stream",
     "text": [
      "SVM Test Precision: 0.4792982456140351\n"
     ]
    }
   ],
   "source": [
    "# Precision hesaplama\n",
    "precision_svm = precision_score(y_test, y_pred_svm, average='macro')  # 'macro' veya diğer seçenekleri kullanabilirsiniz\n",
    "print(\"SVM Test Precision: {}\".format(precision_svm))"
   ]
  },
  {
   "cell_type": "code",
   "execution_count": 173,
   "metadata": {},
   "outputs": [
    {
     "name": "stdout",
     "output_type": "stream",
     "text": [
      "SVM Recall: 0.5\n",
      "SVM F1 Score: 0.48943031171623075\n"
     ]
    }
   ],
   "source": [
    "# SVM recall-f1\n",
    "recall_svm = recall_score(y_test, y_pred_svm, average='macro')  # 'macro' veya diğer seçenekleri kullanabilirsiniz\n",
    "f1_svm = f1_score(y_test, y_pred_svm, average='macro')\n",
    "print(\"SVM Recall: {}\".format(recall_svm))\n",
    "print(\"SVM F1 Score: {}\".format(f1_svm))"
   ]
  },
  {
   "cell_type": "markdown",
   "metadata": {},
   "source": [
    "# Lasso Sonrası SVM"
   ]
  },
  {
   "cell_type": "code",
   "execution_count": 174,
   "metadata": {},
   "outputs": [
    {
     "name": "stdout",
     "output_type": "stream",
     "text": [
      "SVM Doğruluk Skoru: 0.96\n"
     ]
    }
   ],
   "source": [
    "import pandas as pd\n",
    "\n",
    "# Seçilen özellikleri içeren DataFrame oluştur\n",
    "X_train_selected = pd.DataFrame(X_train_scaled[:, selected_feature_indices], columns=selected_features)\n",
    "\n",
    "# SVM modelini oluştur\n",
    "svm_model = SVC()\n",
    "svm_model.fit(X_train_selected, y_train)\n",
    "\n",
    "# Test setinde modelin performansını değerlendir\n",
    "X_test_selected = pd.DataFrame(X_test_scaled[:, selected_feature_indices], columns=selected_features)\n",
    "y_pred_svm = svm_model.predict(X_test_selected)\n",
    "accuracy_svm = accuracy_score(y_test, y_pred_svm)\n",
    "print(\"SVM Doğruluk Skoru: {:.2f}\".format(accuracy_svm))\n"
   ]
  },
  {
   "cell_type": "markdown",
   "metadata": {},
   "source": [
    "### ENSEMBLE"
   ]
  },
  {
   "cell_type": "code",
   "execution_count": 175,
   "metadata": {},
   "outputs": [
    {
     "name": "stdout",
     "output_type": "stream",
     "text": [
      "Ensemble Test accuracy: 0.9585964912280702\n"
     ]
    }
   ],
   "source": [
    "from sklearn.ensemble import VotingClassifier\n",
    "\n",
    "# Modelleri oluşturma\n",
    "logreg = LogisticRegression()\n",
    "dt_classifier = DecisionTreeClassifier(random_state=3)\n",
    "rf_classifier = RandomForestClassifier(random_state=3)\n",
    "svm_classifier = SVC(random_state=3, probability=True)  # Olasılıkları hesaplamak için probability=True ayarlayın\n",
    "\n",
    "# Ensemble modeli oluşturma\n",
    "ensemble_model = VotingClassifier(estimators=[\n",
    "    ('logreg', logreg),\n",
    "    ('dt', dt_classifier),\n",
    "    ('rf', rf_classifier),\n",
    "    ('svm', svm_classifier)\n",
    "], voting='hard')  # 'soft' kullanarak tahmin olasılıklarını kullanlabilir.\n",
    "\n",
    "# Ensemble modelini eğitme (fitting)\n",
    "ensemble_model.fit(X_train, y_train.values.ravel())\n",
    "\n",
    "# Test verileri üzerinde tahmin yapma\n",
    "y_pred_ensemble = ensemble_model.predict(X_test)\n",
    "\n",
    "# Test accuracy hesaplama\n",
    "accuracy_ensemble = accuracy_score(y_pred_ensemble, y_test)\n",
    "print(\"Ensemble Test accuracy: {}\".format(accuracy_ensemble))\n"
   ]
  },
  {
   "cell_type": "markdown",
   "metadata": {},
   "source": [
    "<a id=\"11\"> </a>\n",
    "\n",
    "# Deep Learning Models"
   ]
  },
  {
   "cell_type": "markdown",
   "metadata": {},
   "source": [
    "\n",
    "# CNN-1D (epoch-10)"
   ]
  },
  {
   "cell_type": "code",
   "execution_count": 176,
   "metadata": {},
   "outputs": [
    {
     "name": "stdout",
     "output_type": "stream",
     "text": [
      "(4748, 17)\n"
     ]
    },
    {
     "name": "stdout",
     "output_type": "stream",
     "text": [
      "Epoch 1/10\n",
      "119/119 [==============================] - 3s 8ms/step - loss: 30.6124 - accuracy: 0.9213 - val_loss: 36.9373 - val_accuracy: 0.9442\n",
      "Epoch 2/10\n",
      "119/119 [==============================] - 1s 6ms/step - loss: 20.3609 - accuracy: 0.9239 - val_loss: 30.7578 - val_accuracy: 0.9442\n",
      "Epoch 3/10\n",
      "119/119 [==============================] - 1s 6ms/step - loss: 16.4689 - accuracy: 0.9210 - val_loss: 23.5774 - val_accuracy: 0.9442\n",
      "Epoch 4/10\n",
      "119/119 [==============================] - 1s 6ms/step - loss: 18.3799 - accuracy: 0.9265 - val_loss: 14.9125 - val_accuracy: 0.9453\n",
      "Epoch 5/10\n",
      "119/119 [==============================] - 1s 7ms/step - loss: 12.5828 - accuracy: 0.9215 - val_loss: 15.7989 - val_accuracy: 0.9442\n",
      "Epoch 6/10\n",
      "119/119 [==============================] - 1s 7ms/step - loss: 9.9805 - accuracy: 0.9276 - val_loss: 18.0647 - val_accuracy: 0.9453\n",
      "Epoch 7/10\n",
      "119/119 [==============================] - 1s 6ms/step - loss: 8.7632 - accuracy: 0.9294 - val_loss: 22.0614 - val_accuracy: 0.9453\n",
      "Epoch 8/10\n",
      "119/119 [==============================] - 1s 7ms/step - loss: 6.8112 - accuracy: 0.9226 - val_loss: 7.8063 - val_accuracy: 0.9442\n",
      "Epoch 9/10\n",
      "119/119 [==============================] - 1s 6ms/step - loss: 5.9516 - accuracy: 0.9294 - val_loss: 0.8550 - val_accuracy: 0.7568\n",
      "Epoch 10/10\n",
      "119/119 [==============================] - 1s 7ms/step - loss: 7.9268 - accuracy: 0.9292 - val_loss: 11.4959 - val_accuracy: 0.9432\n",
      "30/30 [==============================] - 0s 4ms/step\n",
      "CNN-1D Test accuracy: 0.9431578947368421\n"
     ]
    }
   ],
   "source": [
    "from tensorflow.keras.models import Sequential\n",
    "from tensorflow.keras.layers import Conv1D, MaxPooling1D, Flatten, Dense\n",
    "from tensorflow.keras.optimizers import Adam\n",
    "from sklearn.model_selection import train_test_split\n",
    "from sklearn.metrics import accuracy_score\n",
    "\n",
    "# Assuming you have X and y defined somewhere before this code\n",
    "\n",
    "# Veri setinizi X ve y olarak ayırın\n",
    "# X, giriş verileri (özellikler), y ise çıkış etiketleri olsun\n",
    "X_train, X_test, y_train, y_test = train_test_split(X, y, test_size=0.2, random_state=42)\n",
    "X_train = X_train.astype(np.float32)\n",
    "X_test = X_test.astype(np.float32)\n",
    "# CNN-1D modelini oluşturma\n",
    "input_length = X.shape[1]\n",
    "print(X.shape)\n",
    "input_dim = 1\n",
    "model = Sequential()\n",
    "model.add(Conv1D(filters=64, kernel_size=3, activation='relu', input_shape=(input_length, input_dim)))\n",
    "model.add(MaxPooling1D(pool_size=2))\n",
    "model.add(Flatten())\n",
    "model.add(Dense(units=128, activation='relu'))\n",
    "model.add(Dense(units=1, activation='sigmoid'))\n",
    "\n",
    "# Modeli derleme\n",
    "model.compile(optimizer=Adam(learning_rate=0.001), loss='binary_crossentropy', metrics=['accuracy'])\n",
    "\n",
    "# Modeli eğitme\n",
    "model.fit(X_train, y_train, epochs=10, batch_size=32, validation_data=(X_test, y_test))\n",
    "\n",
    "# Test verileri üzerinde tahmin yapma\n",
    "y_pred_cnn = (model.predict(X_test) > 0.5).astype(\"int32\")\n",
    "\n",
    "# Test accuracy hesaplama\n",
    "accuracy_cnn = accuracy_score(y_test, y_pred_cnn)\n",
    "print(\"CNN-1D Test accuracy: {}\".format(accuracy_cnn))\n"
   ]
  },
  {
   "cell_type": "markdown",
   "metadata": {},
   "source": [
    "# CNN-1D (epoch-50)"
   ]
  },
  {
   "cell_type": "code",
   "execution_count": 177,
   "metadata": {},
   "outputs": [
    {
     "name": "stdout",
     "output_type": "stream",
     "text": [
      "(4748, 17)\n"
     ]
    },
    {
     "name": "stdout",
     "output_type": "stream",
     "text": [
      "Epoch 1/50\n",
      "119/119 [==============================] - 3s 9ms/step - loss: 32.0441 - accuracy: 0.9226 - val_loss: 7.2193 - val_accuracy: 0.9442\n",
      "Epoch 2/50\n",
      "119/119 [==============================] - 1s 7ms/step - loss: 22.4037 - accuracy: 0.9223 - val_loss: 11.5299 - val_accuracy: 0.9442\n",
      "Epoch 3/50\n",
      "119/119 [==============================] - 1s 7ms/step - loss: 28.9638 - accuracy: 0.9236 - val_loss: 18.5668 - val_accuracy: 0.9442\n",
      "Epoch 4/50\n",
      "119/119 [==============================] - 1s 7ms/step - loss: 18.5359 - accuracy: 0.9247 - val_loss: 4.0131 - val_accuracy: 0.9432\n",
      "Epoch 5/50\n",
      "119/119 [==============================] - 1s 7ms/step - loss: 15.7479 - accuracy: 0.9155 - val_loss: 35.2085 - val_accuracy: 0.9442\n",
      "Epoch 6/50\n",
      "119/119 [==============================] - 1s 6ms/step - loss: 19.3252 - accuracy: 0.9289 - val_loss: 25.0413 - val_accuracy: 0.9442\n",
      "Epoch 7/50\n",
      "119/119 [==============================] - 1s 6ms/step - loss: 14.3751 - accuracy: 0.9308 - val_loss: 11.6006 - val_accuracy: 0.9442\n",
      "Epoch 8/50\n",
      "119/119 [==============================] - 1s 7ms/step - loss: 9.9885 - accuracy: 0.9186 - val_loss: 10.2069 - val_accuracy: 0.9432\n",
      "Epoch 9/50\n",
      "119/119 [==============================] - 1s 7ms/step - loss: 8.5160 - accuracy: 0.9273 - val_loss: 3.1460 - val_accuracy: 0.9432\n",
      "Epoch 10/50\n",
      "119/119 [==============================] - 1s 7ms/step - loss: 8.9565 - accuracy: 0.9268 - val_loss: 13.8265 - val_accuracy: 0.2674\n",
      "Epoch 11/50\n",
      "119/119 [==============================] - 1s 7ms/step - loss: 9.3688 - accuracy: 0.9200 - val_loss: 16.6665 - val_accuracy: 0.9442\n",
      "Epoch 12/50\n",
      "119/119 [==============================] - 1s 7ms/step - loss: 15.5574 - accuracy: 0.9276 - val_loss: 18.1977 - val_accuracy: 0.9442\n",
      "Epoch 13/50\n",
      "119/119 [==============================] - 1s 7ms/step - loss: 8.9049 - accuracy: 0.9292 - val_loss: 13.1234 - val_accuracy: 0.9432\n",
      "Epoch 14/50\n",
      "119/119 [==============================] - 1s 7ms/step - loss: 4.5591 - accuracy: 0.9289 - val_loss: 3.2195 - val_accuracy: 0.9432\n",
      "Epoch 15/50\n",
      "119/119 [==============================] - 1s 6ms/step - loss: 4.5431 - accuracy: 0.9223 - val_loss: 3.9775 - val_accuracy: 0.9432\n",
      "Epoch 16/50\n",
      "119/119 [==============================] - 1s 6ms/step - loss: 4.5268 - accuracy: 0.9268 - val_loss: 1.2615 - val_accuracy: 0.9389\n",
      "Epoch 17/50\n",
      "119/119 [==============================] - 1s 6ms/step - loss: 3.7628 - accuracy: 0.9263 - val_loss: 10.0538 - val_accuracy: 0.9432\n",
      "Epoch 18/50\n",
      "119/119 [==============================] - 1s 6ms/step - loss: 6.6426 - accuracy: 0.9279 - val_loss: 0.9039 - val_accuracy: 0.9379\n",
      "Epoch 19/50\n",
      "119/119 [==============================] - 1s 6ms/step - loss: 3.6564 - accuracy: 0.9297 - val_loss: 2.1952 - val_accuracy: 0.9421\n",
      "Epoch 20/50\n",
      "119/119 [==============================] - 1s 6ms/step - loss: 5.0936 - accuracy: 0.9260 - val_loss: 0.8139 - val_accuracy: 0.9400\n",
      "Epoch 21/50\n",
      "119/119 [==============================] - 1s 7ms/step - loss: 1.5221 - accuracy: 0.9318 - val_loss: 7.9215 - val_accuracy: 0.9442\n",
      "Epoch 22/50\n",
      "119/119 [==============================] - 1s 7ms/step - loss: 3.8905 - accuracy: 0.9323 - val_loss: 1.3019 - val_accuracy: 0.9411\n",
      "Epoch 23/50\n",
      "119/119 [==============================] - 1s 7ms/step - loss: 2.2352 - accuracy: 0.9289 - val_loss: 1.1531 - val_accuracy: 0.7411\n",
      "Epoch 24/50\n",
      "119/119 [==============================] - 1s 7ms/step - loss: 2.5025 - accuracy: 0.9292 - val_loss: 1.9593 - val_accuracy: 0.9421\n",
      "Epoch 25/50\n",
      "119/119 [==============================] - 1s 7ms/step - loss: 3.1324 - accuracy: 0.9310 - val_loss: 5.8351 - val_accuracy: 0.9442\n",
      "Epoch 26/50\n",
      "119/119 [==============================] - 1s 7ms/step - loss: 2.1640 - accuracy: 0.9315 - val_loss: 0.3503 - val_accuracy: 0.9116\n",
      "Epoch 27/50\n",
      "119/119 [==============================] - 1s 7ms/step - loss: 1.9933 - accuracy: 0.9302 - val_loss: 1.9596 - val_accuracy: 0.6589\n",
      "Epoch 28/50\n",
      "119/119 [==============================] - 1s 7ms/step - loss: 3.2243 - accuracy: 0.9292 - val_loss: 6.0932 - val_accuracy: 0.9442\n",
      "Epoch 29/50\n",
      "119/119 [==============================] - 1s 7ms/step - loss: 1.9678 - accuracy: 0.9326 - val_loss: 0.5901 - val_accuracy: 0.9368\n",
      "Epoch 30/50\n",
      "119/119 [==============================] - 1s 7ms/step - loss: 1.6663 - accuracy: 0.9350 - val_loss: 2.8014 - val_accuracy: 0.9432\n",
      "Epoch 31/50\n",
      "119/119 [==============================] - 1s 7ms/step - loss: 3.1272 - accuracy: 0.9318 - val_loss: 1.2333 - val_accuracy: 0.9379\n",
      "Epoch 32/50\n",
      "119/119 [==============================] - 1s 7ms/step - loss: 0.5609 - accuracy: 0.9318 - val_loss: 1.0486 - val_accuracy: 0.9421\n",
      "Epoch 33/50\n",
      "119/119 [==============================] - 1s 7ms/step - loss: 1.6668 - accuracy: 0.9350 - val_loss: 5.1999 - val_accuracy: 0.9442\n",
      "Epoch 34/50\n",
      "119/119 [==============================] - 1s 8ms/step - loss: 2.1540 - accuracy: 0.9310 - val_loss: 2.8734 - val_accuracy: 0.9442\n",
      "Epoch 35/50\n",
      "119/119 [==============================] - 1s 7ms/step - loss: 2.3714 - accuracy: 0.9329 - val_loss: 1.1137 - val_accuracy: 0.9411\n",
      "Epoch 36/50\n",
      "119/119 [==============================] - 1s 7ms/step - loss: 1.1839 - accuracy: 0.9355 - val_loss: 0.8066 - val_accuracy: 0.9400\n",
      "Epoch 37/50\n",
      "119/119 [==============================] - 1s 7ms/step - loss: 0.8588 - accuracy: 0.9352 - val_loss: 0.7091 - val_accuracy: 0.9411\n",
      "Epoch 38/50\n",
      "119/119 [==============================] - 1s 7ms/step - loss: 1.0988 - accuracy: 0.9387 - val_loss: 0.2465 - val_accuracy: 0.9032\n",
      "Epoch 39/50\n",
      "119/119 [==============================] - 1s 7ms/step - loss: 0.8901 - accuracy: 0.9323 - val_loss: 0.5639 - val_accuracy: 0.9421\n",
      "Epoch 40/50\n",
      "119/119 [==============================] - 1s 7ms/step - loss: 0.7319 - accuracy: 0.9342 - val_loss: 1.7651 - val_accuracy: 0.9442\n",
      "Epoch 41/50\n",
      "119/119 [==============================] - 1s 7ms/step - loss: 1.1575 - accuracy: 0.9389 - val_loss: 0.4285 - val_accuracy: 0.8211\n",
      "Epoch 42/50\n",
      "119/119 [==============================] - 1s 8ms/step - loss: 0.7983 - accuracy: 0.9371 - val_loss: 0.2315 - val_accuracy: 0.9095\n",
      "Epoch 43/50\n",
      "119/119 [==============================] - 1s 7ms/step - loss: 1.0274 - accuracy: 0.9344 - val_loss: 0.4622 - val_accuracy: 0.9389\n",
      "Epoch 44/50\n",
      "119/119 [==============================] - 1s 8ms/step - loss: 1.0664 - accuracy: 0.9326 - val_loss: 0.5768 - val_accuracy: 0.9389\n",
      "Epoch 45/50\n",
      "119/119 [==============================] - 1s 7ms/step - loss: 0.6796 - accuracy: 0.9387 - val_loss: 0.3202 - val_accuracy: 0.9411\n",
      "Epoch 46/50\n",
      "119/119 [==============================] - 1s 7ms/step - loss: 0.4164 - accuracy: 0.9355 - val_loss: 0.7001 - val_accuracy: 0.9442\n",
      "Epoch 47/50\n",
      "119/119 [==============================] - 1s 7ms/step - loss: 0.8231 - accuracy: 0.9400 - val_loss: 1.1035 - val_accuracy: 0.9432\n",
      "Epoch 48/50\n",
      "119/119 [==============================] - 1s 7ms/step - loss: 0.5435 - accuracy: 0.9387 - val_loss: 0.5798 - val_accuracy: 0.9432\n",
      "Epoch 49/50\n",
      "119/119 [==============================] - 1s 7ms/step - loss: 0.5957 - accuracy: 0.9360 - val_loss: 0.4055 - val_accuracy: 0.9442\n",
      "Epoch 50/50\n",
      "119/119 [==============================] - 1s 7ms/step - loss: 0.5452 - accuracy: 0.9405 - val_loss: 1.2299 - val_accuracy: 0.9442\n",
      "30/30 [==============================] - 0s 4ms/step\n",
      "CNN-1D Test accuracy: 0.9442105263157895\n"
     ]
    }
   ],
   "source": [
    "from tensorflow.keras.models import Sequential\n",
    "from tensorflow.keras.layers import Conv1D, MaxPooling1D, Flatten, Dense\n",
    "from tensorflow.keras.optimizers import Adam\n",
    "from sklearn.model_selection import train_test_split\n",
    "from sklearn.metrics import accuracy_score\n",
    "\n",
    "# Assuming you have X and y defined somewhere before this code\n",
    "\n",
    "# Veri setinizi X ve y olarak ayırın\n",
    "# X, giriş verileri (özellikler), y ise çıkış etiketleri olsun\n",
    "X_train, X_test, y_train, y_test = train_test_split(X, y, test_size=0.2, random_state=42)\n",
    "X_train = X_train.astype(np.float32)\n",
    "X_test = X_test.astype(np.float32)\n",
    "# CNN-1D modelini oluşturma\n",
    "input_length = X.shape[1]\n",
    "print(X.shape)\n",
    "input_dim = 1\n",
    "model = Sequential()\n",
    "model.add(Conv1D(filters=64, kernel_size=3, activation='relu', input_shape=(input_length, input_dim)))\n",
    "model.add(MaxPooling1D(pool_size=2))\n",
    "model.add(Flatten())\n",
    "model.add(Dense(units=128, activation='relu'))\n",
    "model.add(Dense(units=1, activation='sigmoid'))\n",
    "\n",
    "# Modeli derleme\n",
    "model.compile(optimizer=Adam(learning_rate=0.001), loss='binary_crossentropy', metrics=['accuracy'])\n",
    "\n",
    "# Modeli eğitme\n",
    "model.fit(X_train, y_train, epochs=50, batch_size=32, validation_data=(X_test, y_test))\n",
    "\n",
    "# Test verileri üzerinde tahmin yapma\n",
    "y_pred_cnn = (model.predict(X_test) > 0.5).astype(\"int32\")\n",
    "\n",
    "# Test accuracy hesaplama\n",
    "accuracy_cnn = accuracy_score(y_test, y_pred_cnn)\n",
    "print(\"CNN-1D Test accuracy: {}\".format(accuracy_cnn))\n"
   ]
  },
  {
   "cell_type": "markdown",
   "metadata": {},
   "source": [
    "# LSTM 1-D (epoch-10)"
   ]
  },
  {
   "cell_type": "code",
   "execution_count": 178,
   "metadata": {},
   "outputs": [
    {
     "name": "stdout",
     "output_type": "stream",
     "text": [
      "Epoch 1/10\n",
      "119/119 [==============================] - 7s 24ms/step - loss: 2.4768 - accuracy: 0.9360 - val_loss: 0.2533 - val_accuracy: 0.9442\n",
      "Epoch 2/10\n",
      "119/119 [==============================] - 2s 17ms/step - loss: 0.1855 - accuracy: 0.9610 - val_loss: 0.2179 - val_accuracy: 0.9442\n",
      "Epoch 3/10\n",
      "119/119 [==============================] - 2s 17ms/step - loss: 0.1970 - accuracy: 0.9602 - val_loss: 0.2251 - val_accuracy: 0.9442\n",
      "Epoch 4/10\n",
      "119/119 [==============================] - 2s 17ms/step - loss: 0.1797 - accuracy: 0.9610 - val_loss: 0.2785 - val_accuracy: 0.9442\n",
      "Epoch 5/10\n",
      "119/119 [==============================] - 2s 17ms/step - loss: 0.1754 - accuracy: 0.9610 - val_loss: 0.2630 - val_accuracy: 0.9442\n",
      "Epoch 6/10\n",
      "119/119 [==============================] - 2s 17ms/step - loss: 0.1744 - accuracy: 0.9610 - val_loss: 0.2526 - val_accuracy: 0.9442\n",
      "Epoch 7/10\n",
      "119/119 [==============================] - 2s 17ms/step - loss: 0.1737 - accuracy: 0.9610 - val_loss: 0.2245 - val_accuracy: 0.9442\n",
      "Epoch 8/10\n",
      "119/119 [==============================] - 2s 18ms/step - loss: 0.1706 - accuracy: 0.9610 - val_loss: 0.2322 - val_accuracy: 0.9442\n",
      "Epoch 9/10\n",
      "119/119 [==============================] - 2s 20ms/step - loss: 0.1861 - accuracy: 0.9610 - val_loss: 0.2442 - val_accuracy: 0.9442\n",
      "Epoch 10/10\n",
      "119/119 [==============================] - 2s 13ms/step - loss: 0.1719 - accuracy: 0.9610 - val_loss: 0.2652 - val_accuracy: 0.9442\n",
      "30/30 [==============================] - 0s 3ms/step\n",
      "LSTM Test accuracy: 0.9442105263157895\n"
     ]
    }
   ],
   "source": [
    "from tensorflow.keras.models import Sequential\n",
    "from tensorflow.keras.layers import LSTM, Dense\n",
    "from tensorflow.keras.optimizers import Adam\n",
    "from sklearn.model_selection import train_test_split\n",
    "from sklearn.metrics import accuracy_score\n",
    "import numpy as np\n",
    "\n",
    "# Assuming you have X and y defined somewhere before this code\n",
    "\n",
    "# Veri setinizi X ve y olarak ayırın\n",
    "# X, giriş verileri (özellikler), y ise çıkış etiketleri olsun\n",
    "X_train, X_test, y_train, y_test = train_test_split(X, y, test_size=0.2, random_state=42)\n",
    "X_train = np.asarray(X_train, dtype=np.float32)\n",
    "X_test = np.asarray(X_test, dtype=np.float32)\n",
    "\n",
    "# LSTM modelini oluşturma\n",
    "input_length = X.shape[1]\n",
    "input_dim = 1  # Assuming your features are 1-dimensional\n",
    "model_lstm = Sequential()\n",
    "model_lstm.add(LSTM(units=64, activation='relu', input_shape=(input_length, input_dim)))\n",
    "model_lstm.add(Dense(units=128, activation='relu'))\n",
    "model_lstm.add(Dense(units=1, activation='sigmoid'))\n",
    "\n",
    "# Modeli derleme\n",
    "model_lstm.compile(optimizer=Adam(learning_rate=0.001), loss='binary_crossentropy', metrics=['accuracy'])\n",
    "\n",
    "# Modeli eğitme\n",
    "model_lstm.fit(X_train, y_train, epochs=10, batch_size=32, validation_data=(X_test, y_test))\n",
    "\n",
    "# Test verileri üzerinde tahmin yapma\n",
    "y_pred_lstm = (model_lstm.predict(X_test) > 0.5).astype(\"int32\")\n",
    "\n",
    "# Test accuracy hesaplama\n",
    "accuracy_lstm = accuracy_score(y_test, y_pred_lstm)\n",
    "print(\"LSTM Test accuracy: {}\".format(accuracy_lstm))\n"
   ]
  },
  {
   "cell_type": "markdown",
   "metadata": {},
   "source": [
    "# LSTM 1-D (epoch-50)"
   ]
  },
  {
   "cell_type": "code",
   "execution_count": 179,
   "metadata": {},
   "outputs": [
    {
     "name": "stdout",
     "output_type": "stream",
     "text": [
      "Epoch 1/50\n",
      "119/119 [==============================] - 3s 10ms/step - loss: 11.7047 - accuracy: 0.8847 - val_loss: 0.2333 - val_accuracy: 0.9442\n",
      "Epoch 2/50\n",
      "119/119 [==============================] - 1s 8ms/step - loss: 0.1787 - accuracy: 0.9610 - val_loss: 0.2163 - val_accuracy: 0.9442\n",
      "Epoch 3/50\n",
      "119/119 [==============================] - 1s 7ms/step - loss: 0.1676 - accuracy: 0.9610 - val_loss: 0.2159 - val_accuracy: 0.9442\n",
      "Epoch 4/50\n",
      "119/119 [==============================] - 1s 7ms/step - loss: 0.1675 - accuracy: 0.9610 - val_loss: 0.2170 - val_accuracy: 0.9442\n",
      "Epoch 5/50\n",
      "119/119 [==============================] - 1s 7ms/step - loss: 0.1678 - accuracy: 0.9610 - val_loss: 0.2170 - val_accuracy: 0.9442\n",
      "Epoch 6/50\n",
      "119/119 [==============================] - 1s 8ms/step - loss: 0.1673 - accuracy: 0.9610 - val_loss: 0.2196 - val_accuracy: 0.9442\n",
      "Epoch 7/50\n",
      "119/119 [==============================] - 1s 7ms/step - loss: 0.1670 - accuracy: 0.9610 - val_loss: 0.2226 - val_accuracy: 0.9442\n",
      "Epoch 8/50\n",
      "119/119 [==============================] - 1s 7ms/step - loss: 0.1672 - accuracy: 0.9610 - val_loss: 0.2163 - val_accuracy: 0.9442\n",
      "Epoch 9/50\n",
      "119/119 [==============================] - 1s 7ms/step - loss: 0.1665 - accuracy: 0.9610 - val_loss: 0.2147 - val_accuracy: 0.9442\n",
      "Epoch 10/50\n",
      "119/119 [==============================] - 1s 6ms/step - loss: 0.1661 - accuracy: 0.9610 - val_loss: 0.2187 - val_accuracy: 0.9442\n",
      "Epoch 11/50\n",
      "119/119 [==============================] - 1s 7ms/step - loss: 0.1662 - accuracy: 0.9610 - val_loss: 0.2132 - val_accuracy: 0.9442\n",
      "Epoch 12/50\n",
      "119/119 [==============================] - 1s 6ms/step - loss: 0.1674 - accuracy: 0.9610 - val_loss: 0.2258 - val_accuracy: 0.9442\n",
      "Epoch 13/50\n",
      "119/119 [==============================] - 1s 6ms/step - loss: 19.0867 - accuracy: 0.8976 - val_loss: 113.7713 - val_accuracy: 0.9326\n",
      "Epoch 14/50\n",
      "119/119 [==============================] - 1s 6ms/step - loss: 64.7106 - accuracy: 0.9084 - val_loss: 83.1641 - val_accuracy: 0.9442\n",
      "Epoch 15/50\n",
      "119/119 [==============================] - 1s 7ms/step - loss: 29.9251 - accuracy: 0.9268 - val_loss: 37.5728 - val_accuracy: 0.9442\n",
      "Epoch 16/50\n",
      "119/119 [==============================] - 1s 8ms/step - loss: 21.7989 - accuracy: 0.9239 - val_loss: 18.0022 - val_accuracy: 0.9442\n",
      "Epoch 17/50\n",
      "119/119 [==============================] - 1s 7ms/step - loss: 16.6938 - accuracy: 0.9292 - val_loss: 12.1430 - val_accuracy: 0.9442\n",
      "Epoch 18/50\n",
      "119/119 [==============================] - 1s 7ms/step - loss: 11.5099 - accuracy: 0.9244 - val_loss: 13.7080 - val_accuracy: 0.9442\n",
      "Epoch 19/50\n",
      "119/119 [==============================] - 1s 8ms/step - loss: 11.9448 - accuracy: 0.9229 - val_loss: 26.6050 - val_accuracy: 0.9442\n",
      "Epoch 20/50\n",
      "119/119 [==============================] - 1s 7ms/step - loss: 12.3865 - accuracy: 0.9305 - val_loss: 3.9580 - val_accuracy: 0.9442\n",
      "Epoch 21/50\n",
      "119/119 [==============================] - 1s 7ms/step - loss: 9.5768 - accuracy: 0.9258 - val_loss: 5.0140 - val_accuracy: 0.9442\n",
      "Epoch 22/50\n",
      "119/119 [==============================] - 1s 7ms/step - loss: 18.7675 - accuracy: 0.9210 - val_loss: 121.2842 - val_accuracy: 0.9442\n",
      "Epoch 23/50\n",
      "119/119 [==============================] - 1s 8ms/step - loss: 22.3088 - accuracy: 0.9221 - val_loss: 28.6849 - val_accuracy: 0.9442\n",
      "Epoch 24/50\n",
      "119/119 [==============================] - 1s 7ms/step - loss: 14.0917 - accuracy: 0.9226 - val_loss: 16.9397 - val_accuracy: 0.9442\n",
      "Epoch 25/50\n",
      "119/119 [==============================] - 1s 8ms/step - loss: 12.1969 - accuracy: 0.9194 - val_loss: 7.2085 - val_accuracy: 0.9442\n",
      "Epoch 26/50\n",
      "119/119 [==============================] - 1s 7ms/step - loss: 12.5930 - accuracy: 0.9297 - val_loss: 9.0292 - val_accuracy: 0.9442\n",
      "Epoch 27/50\n",
      "119/119 [==============================] - 1s 7ms/step - loss: 9.1332 - accuracy: 0.9215 - val_loss: 16.8475 - val_accuracy: 0.9442\n",
      "Epoch 28/50\n",
      "119/119 [==============================] - 1s 7ms/step - loss: 6.5615 - accuracy: 0.9234 - val_loss: 18.4161 - val_accuracy: 0.9442\n",
      "Epoch 29/50\n",
      "119/119 [==============================] - 1s 7ms/step - loss: 9.9184 - accuracy: 0.9281 - val_loss: 1.5928 - val_accuracy: 0.9442\n",
      "Epoch 30/50\n",
      "119/119 [==============================] - 1s 8ms/step - loss: 7.1224 - accuracy: 0.9229 - val_loss: 2.5765 - val_accuracy: 0.9442\n",
      "Epoch 31/50\n",
      "119/119 [==============================] - 1s 8ms/step - loss: 6.8573 - accuracy: 0.9244 - val_loss: 10.8747 - val_accuracy: 0.9442\n",
      "Epoch 32/50\n",
      "119/119 [==============================] - 1s 7ms/step - loss: 6.4024 - accuracy: 0.9234 - val_loss: 15.9894 - val_accuracy: 0.9442\n",
      "Epoch 33/50\n",
      "119/119 [==============================] - 1s 7ms/step - loss: 8.5851 - accuracy: 0.9294 - val_loss: 14.3170 - val_accuracy: 0.9442\n",
      "Epoch 34/50\n",
      "119/119 [==============================] - 1s 7ms/step - loss: 7.0741 - accuracy: 0.9239 - val_loss: 7.4277 - val_accuracy: 0.9442\n",
      "Epoch 35/50\n",
      "119/119 [==============================] - 1s 6ms/step - loss: 5.8970 - accuracy: 0.9273 - val_loss: 3.5370 - val_accuracy: 0.9442\n",
      "Epoch 36/50\n",
      "119/119 [==============================] - 1s 6ms/step - loss: 17.5730 - accuracy: 0.9165 - val_loss: 79.0028 - val_accuracy: 0.9442\n",
      "Epoch 37/50\n",
      "119/119 [==============================] - 1s 6ms/step - loss: 15.7542 - accuracy: 0.9318 - val_loss: 19.1091 - val_accuracy: 0.9442\n",
      "Epoch 38/50\n",
      "119/119 [==============================] - 1s 7ms/step - loss: 6.3323 - accuracy: 0.9339 - val_loss: 4.5223 - val_accuracy: 0.1116\n",
      "Epoch 39/50\n",
      "119/119 [==============================] - 1s 7ms/step - loss: 6.5507 - accuracy: 0.9239 - val_loss: 9.7971 - val_accuracy: 0.9442\n",
      "Epoch 40/50\n",
      "119/119 [==============================] - 1s 6ms/step - loss: 6.3653 - accuracy: 0.9239 - val_loss: 2.5376 - val_accuracy: 0.9442\n",
      "Epoch 41/50\n",
      "119/119 [==============================] - 1s 6ms/step - loss: 3.9549 - accuracy: 0.9376 - val_loss: 7.9450 - val_accuracy: 0.9442\n",
      "Epoch 42/50\n",
      "119/119 [==============================] - 1s 7ms/step - loss: 6.0951 - accuracy: 0.9213 - val_loss: 5.2746 - val_accuracy: 0.9442\n",
      "Epoch 43/50\n",
      "119/119 [==============================] - 1s 6ms/step - loss: 5.4349 - accuracy: 0.9308 - val_loss: 11.1598 - val_accuracy: 0.9442\n",
      "Epoch 44/50\n",
      "119/119 [==============================] - 1s 7ms/step - loss: 6.2164 - accuracy: 0.9308 - val_loss: 5.9858 - val_accuracy: 0.1137\n",
      "Epoch 45/50\n",
      "119/119 [==============================] - 1s 6ms/step - loss: 6.0601 - accuracy: 0.9244 - val_loss: 4.5417 - val_accuracy: 0.9442\n",
      "Epoch 46/50\n",
      "119/119 [==============================] - 1s 7ms/step - loss: 7.6245 - accuracy: 0.9213 - val_loss: 4.9059 - val_accuracy: 0.9442\n",
      "Epoch 47/50\n",
      "119/119 [==============================] - 1s 6ms/step - loss: 4.9715 - accuracy: 0.9242 - val_loss: 5.6207 - val_accuracy: 0.9442\n",
      "Epoch 48/50\n",
      "119/119 [==============================] - 1s 7ms/step - loss: 4.2850 - accuracy: 0.9302 - val_loss: 5.2372 - val_accuracy: 0.9442\n",
      "Epoch 49/50\n",
      "119/119 [==============================] - 1s 8ms/step - loss: 4.7574 - accuracy: 0.9239 - val_loss: 2.9761 - val_accuracy: 0.9442\n",
      "Epoch 50/50\n",
      "119/119 [==============================] - 1s 7ms/step - loss: 4.0612 - accuracy: 0.9252 - val_loss: 7.3912 - val_accuracy: 0.9442\n",
      "30/30 [==============================] - 0s 4ms/step\n",
      "LSTM Test accuracy: 0.9442105263157895\n"
     ]
    }
   ],
   "source": [
    "from tensorflow.keras.models import Sequential\n",
    "from tensorflow.keras.layers import LSTM, Dense\n",
    "from tensorflow.keras.optimizers import Adam\n",
    "from sklearn.model_selection import train_test_split\n",
    "from sklearn.metrics import accuracy_score\n",
    "import numpy as np\n",
    "\n",
    "# Assuming you have X and y defined somewhere before this code\n",
    "\n",
    "# Veri setinizi X ve y olarak ayırın\n",
    "# X, giriş verileri (özellikler), y ise çıkış etiketleri olsun\n",
    "X_train, X_test, y_train, y_test = train_test_split(X, y, test_size=0.2, random_state=42)\n",
    "X_train = np.asarray(X_train, dtype=np.float32)\n",
    "X_test = np.asarray(X_test, dtype=np.float32)\n",
    "\n",
    "# LSTM modelini oluşturma\n",
    "input_length = X.shape[1]\n",
    "input_dim = 1  # Assuming your features are 1-dimensional\n",
    "model_lstm = Sequential()\n",
    "model_lstm.add(LSTM(units=64, activation='relu', input_shape=(input_length, input_dim)))\n",
    "model_lstm.add(Dense(units=128, activation='relu'))\n",
    "model_lstm.add(Dense(units=1, activation='sigmoid'))\n",
    "\n",
    "# Modeli derleme\n",
    "model_lstm.compile(optimizer=Adam(learning_rate=0.001), loss='binary_crossentropy', metrics=['accuracy'])\n",
    "\n",
    "# Modeli eğitme\n",
    "model_lstm.fit(X_train, y_train, epochs=50, batch_size=32, validation_data=(X_test, y_test))\n",
    "\n",
    "# Test verileri üzerinde tahmin yapma\n",
    "y_pred_lstm = (model_lstm.predict(X_test) > 0.5).astype(\"int32\")\n",
    "\n",
    "# Test accuracy hesaplama\n",
    "accuracy_lstm = accuracy_score(y_test, y_pred_lstm)\n",
    "print(\"LSTM Test accuracy: {}\".format(accuracy_lstm))\n"
   ]
  },
  {
   "cell_type": "markdown",
   "metadata": {},
   "source": [
    "# BiLSTM-1D (epoch-10)"
   ]
  },
  {
   "cell_type": "code",
   "execution_count": 180,
   "metadata": {},
   "outputs": [
    {
     "name": "stdout",
     "output_type": "stream",
     "text": [
      "Epoch 1/10\n",
      "119/119 [==============================] - 5s 13ms/step - loss: 12.4160 - accuracy: 0.9163 - val_loss: 6.4215 - val_accuracy: 0.9432\n",
      "Epoch 2/10\n",
      "119/119 [==============================] - 1s 9ms/step - loss: 7.0963 - accuracy: 0.9234 - val_loss: 19.2924 - val_accuracy: 0.9442\n",
      "Epoch 3/10\n",
      "119/119 [==============================] - 1s 9ms/step - loss: 3.1224 - accuracy: 0.9334 - val_loss: 0.9020 - val_accuracy: 0.9442\n",
      "Epoch 4/10\n",
      "119/119 [==============================] - 1s 10ms/step - loss: 4.1720 - accuracy: 0.9289 - val_loss: 7.4888 - val_accuracy: 0.9442\n",
      "Epoch 5/10\n",
      "119/119 [==============================] - 1s 9ms/step - loss: 2.6626 - accuracy: 0.9323 - val_loss: 2.9007 - val_accuracy: 0.9442\n",
      "Epoch 6/10\n",
      "119/119 [==============================] - 1s 9ms/step - loss: 2.1888 - accuracy: 0.9276 - val_loss: 3.6780 - val_accuracy: 0.9442\n",
      "Epoch 7/10\n",
      "119/119 [==============================] - 1s 9ms/step - loss: 1.6332 - accuracy: 0.9263 - val_loss: 4.5171 - val_accuracy: 0.9442\n",
      "Epoch 8/10\n",
      "119/119 [==============================] - 1s 10ms/step - loss: 1.7973 - accuracy: 0.9323 - val_loss: 1.8659 - val_accuracy: 0.9432\n",
      "Epoch 9/10\n",
      "119/119 [==============================] - 1s 8ms/step - loss: 0.8963 - accuracy: 0.9300 - val_loss: 2.9928 - val_accuracy: 0.9432\n",
      "Epoch 10/10\n",
      "119/119 [==============================] - 1s 8ms/step - loss: 5.2605 - accuracy: 0.9315 - val_loss: 3.6430 - val_accuracy: 0.9421\n",
      "30/30 [==============================] - 0s 3ms/step\n",
      "BiLSTM Test accuracy: 0.9421052631578948\n"
     ]
    }
   ],
   "source": [
    "from tensorflow.keras.models import Sequential\n",
    "from tensorflow.keras.layers import Bidirectional, LSTM, Dense\n",
    "from tensorflow.keras.optimizers import Adam\n",
    "from sklearn.model_selection import train_test_split\n",
    "from sklearn.metrics import accuracy_score\n",
    "import numpy as np\n",
    "\n",
    "# Assuming you have X and y defined somewhere before this code\n",
    "\n",
    "# Veri setinizi X ve y olarak ayırın\n",
    "# X, giriş verileri (özellikler), y ise çıkış etiketleri olsun\n",
    "X_train, X_test, y_train, y_test = train_test_split(X, y, test_size=0.2, random_state=42)\n",
    "X_train = np.asarray(X_train, dtype=np.float32)\n",
    "X_test = np.asarray(X_test, dtype=np.float32)\n",
    "\n",
    "# BiLSTM modelini oluşturma\n",
    "input_length = X.shape[1]\n",
    "input_dim = 1\n",
    "model_bilstm = Sequential()\n",
    "model_bilstm.add(Bidirectional(LSTM(units=64, activation='relu'), input_shape=(input_length, input_dim)))\n",
    "model_bilstm.add(Dense(units=128, activation='relu'))\n",
    "model_bilstm.add(Dense(units=1, activation='sigmoid'))\n",
    "\n",
    "# Modeli derleme\n",
    "model_bilstm.compile(optimizer=Adam(learning_rate=0.001), loss='binary_crossentropy', metrics=['accuracy'])\n",
    "\n",
    "# Modeli eğitme\n",
    "model_bilstm.fit(X_train, y_train, epochs=10, batch_size=32, validation_data=(X_test, y_test))\n",
    "\n",
    "# Test verileri üzerinde tahmin yapma\n",
    "y_pred_bilstm = (model_bilstm.predict(X_test) > 0.5).astype(\"int32\")\n",
    "\n",
    "# Test accuracy hesaplama\n",
    "accuracy_bilstm = accuracy_score(y_test, y_pred_bilstm)\n",
    "print(\"BiLSTM Test accuracy: {}\".format(accuracy_bilstm))\n"
   ]
  },
  {
   "cell_type": "markdown",
   "metadata": {},
   "source": [
    "# BiLSTM-1D (epoch-50)"
   ]
  },
  {
   "cell_type": "code",
   "execution_count": 181,
   "metadata": {},
   "outputs": [
    {
     "name": "stdout",
     "output_type": "stream",
     "text": [
      "Epoch 1/50\n",
      "119/119 [==============================] - 5s 12ms/step - loss: 25.8468 - accuracy: 0.9150 - val_loss: 7.2548 - val_accuracy: 0.9442\n",
      "Epoch 2/50\n",
      "119/119 [==============================] - 1s 8ms/step - loss: 135.5797 - accuracy: 0.8952 - val_loss: 142.2148 - val_accuracy: 0.9442\n",
      "Epoch 3/50\n",
      "119/119 [==============================] - 1s 8ms/step - loss: 85.3845 - accuracy: 0.9165 - val_loss: 126.7899 - val_accuracy: 0.9442\n",
      "Epoch 4/50\n",
      "119/119 [==============================] - 1s 8ms/step - loss: 27.7847 - accuracy: 0.9305 - val_loss: 21.4257 - val_accuracy: 0.9442\n",
      "Epoch 5/50\n",
      "119/119 [==============================] - 1s 8ms/step - loss: 11.6120 - accuracy: 0.9281 - val_loss: 34.0075 - val_accuracy: 0.9442\n",
      "Epoch 6/50\n",
      "119/119 [==============================] - 1s 8ms/step - loss: 16.2991 - accuracy: 0.9242 - val_loss: 29.1386 - val_accuracy: 0.9442\n",
      "Epoch 7/50\n",
      "119/119 [==============================] - 1s 7ms/step - loss: 8.8541 - accuracy: 0.9263 - val_loss: 0.3001 - val_accuracy: 0.9274\n",
      "Epoch 8/50\n",
      "119/119 [==============================] - 1s 7ms/step - loss: 10.4006 - accuracy: 0.9218 - val_loss: 21.9969 - val_accuracy: 0.9284\n",
      "Epoch 9/50\n",
      "119/119 [==============================] - 1s 7ms/step - loss: 13.8749 - accuracy: 0.9213 - val_loss: 8.4775 - val_accuracy: 0.9442\n",
      "Epoch 10/50\n",
      "119/119 [==============================] - 1s 7ms/step - loss: 10.3607 - accuracy: 0.9281 - val_loss: 9.0349 - val_accuracy: 0.9442\n",
      "Epoch 11/50\n",
      "119/119 [==============================] - 1s 7ms/step - loss: 7.5121 - accuracy: 0.9168 - val_loss: 26.6748 - val_accuracy: 0.9442\n",
      "Epoch 12/50\n",
      "119/119 [==============================] - 1s 8ms/step - loss: 9.3085 - accuracy: 0.9279 - val_loss: 10.0540 - val_accuracy: 0.9442\n",
      "Epoch 13/50\n",
      "119/119 [==============================] - 1s 9ms/step - loss: 5.4108 - accuracy: 0.9210 - val_loss: 13.6291 - val_accuracy: 0.9442\n",
      "Epoch 14/50\n",
      "119/119 [==============================] - 1s 9ms/step - loss: 5.6504 - accuracy: 0.9223 - val_loss: 6.2265 - val_accuracy: 0.9442\n",
      "Epoch 15/50\n",
      "119/119 [==============================] - 1s 10ms/step - loss: 5.1114 - accuracy: 0.9247 - val_loss: 11.4791 - val_accuracy: 0.9442\n",
      "Epoch 16/50\n",
      "119/119 [==============================] - 1s 9ms/step - loss: 5.4627 - accuracy: 0.9215 - val_loss: 10.9647 - val_accuracy: 0.9442\n",
      "Epoch 17/50\n",
      "119/119 [==============================] - 1s 10ms/step - loss: 5.3608 - accuracy: 0.9234 - val_loss: 9.1996 - val_accuracy: 0.9442\n",
      "Epoch 18/50\n",
      "119/119 [==============================] - 1s 9ms/step - loss: 8.5300 - accuracy: 0.9300 - val_loss: 18.2358 - val_accuracy: 0.9442\n",
      "Epoch 19/50\n",
      "119/119 [==============================] - 1s 11ms/step - loss: 9.8293 - accuracy: 0.9239 - val_loss: 18.0171 - val_accuracy: 0.9442\n",
      "Epoch 20/50\n",
      "119/119 [==============================] - 1s 9ms/step - loss: 10.3488 - accuracy: 0.9331 - val_loss: 3.7756 - val_accuracy: 0.1484\n",
      "Epoch 21/50\n",
      "119/119 [==============================] - 1s 9ms/step - loss: 9.5418 - accuracy: 0.9221 - val_loss: 6.8290 - val_accuracy: 0.9442\n",
      "Epoch 22/50\n",
      "119/119 [==============================] - 1s 7ms/step - loss: 4.9653 - accuracy: 0.9255 - val_loss: 15.0806 - val_accuracy: 0.9442\n",
      "Epoch 23/50\n",
      "119/119 [==============================] - 1s 7ms/step - loss: 5.2231 - accuracy: 0.9286 - val_loss: 6.6160 - val_accuracy: 0.9442\n",
      "Epoch 24/50\n",
      "119/119 [==============================] - 1s 7ms/step - loss: 5.4581 - accuracy: 0.9260 - val_loss: 15.3054 - val_accuracy: 0.0842\n",
      "Epoch 25/50\n",
      "119/119 [==============================] - 1s 7ms/step - loss: 5.5390 - accuracy: 0.9202 - val_loss: 9.8643 - val_accuracy: 0.9442\n",
      "Epoch 26/50\n",
      "119/119 [==============================] - 1s 6ms/step - loss: 24.3632 - accuracy: 0.9097 - val_loss: 41.1161 - val_accuracy: 0.9442\n",
      "Epoch 27/50\n",
      "119/119 [==============================] - 1s 7ms/step - loss: 36.2017 - accuracy: 0.9210 - val_loss: 27.1422 - val_accuracy: 0.9442\n",
      "Epoch 28/50\n",
      "119/119 [==============================] - 2s 16ms/step - loss: 24.3770 - accuracy: 0.9197 - val_loss: 16.7108 - val_accuracy: 0.9442\n",
      "Epoch 29/50\n",
      "119/119 [==============================] - 2s 15ms/step - loss: 10.0668 - accuracy: 0.9329 - val_loss: 3.0982 - val_accuracy: 0.9442\n",
      "Epoch 30/50\n",
      "119/119 [==============================] - 2s 16ms/step - loss: 9.0174 - accuracy: 0.9218 - val_loss: 9.7618 - val_accuracy: 0.9442\n",
      "Epoch 31/50\n",
      "119/119 [==============================] - 2s 16ms/step - loss: 7.2890 - accuracy: 0.9229 - val_loss: 6.9816 - val_accuracy: 0.9442\n",
      "Epoch 32/50\n",
      "119/119 [==============================] - 2s 16ms/step - loss: 6.2975 - accuracy: 0.9310 - val_loss: 3.8686 - val_accuracy: 0.9442\n",
      "Epoch 33/50\n",
      "119/119 [==============================] - 2s 16ms/step - loss: 4.0612 - accuracy: 0.9260 - val_loss: 0.3191 - val_accuracy: 0.9263\n",
      "Epoch 34/50\n",
      "119/119 [==============================] - 2s 16ms/step - loss: 4.3245 - accuracy: 0.9239 - val_loss: 15.0299 - val_accuracy: 0.9442\n",
      "Epoch 35/50\n",
      "119/119 [==============================] - 2s 15ms/step - loss: 5.4560 - accuracy: 0.9302 - val_loss: 5.0999 - val_accuracy: 0.9442\n",
      "Epoch 36/50\n",
      "119/119 [==============================] - 2s 16ms/step - loss: 4.4066 - accuracy: 0.9229 - val_loss: 5.9091 - val_accuracy: 0.9442\n",
      "Epoch 37/50\n",
      "119/119 [==============================] - 2s 16ms/step - loss: 4.7683 - accuracy: 0.9231 - val_loss: 9.5032 - val_accuracy: 0.9442\n",
      "Epoch 38/50\n",
      "119/119 [==============================] - 2s 16ms/step - loss: 4.4126 - accuracy: 0.9297 - val_loss: 0.5181 - val_accuracy: 0.9421\n",
      "Epoch 39/50\n",
      "119/119 [==============================] - 2s 16ms/step - loss: 4.1600 - accuracy: 0.9260 - val_loss: 3.0491 - val_accuracy: 0.9432\n",
      "Epoch 40/50\n",
      "119/119 [==============================] - 2s 16ms/step - loss: 2.7398 - accuracy: 0.9189 - val_loss: 2.3786 - val_accuracy: 0.9432\n",
      "Epoch 41/50\n",
      "119/119 [==============================] - 2s 16ms/step - loss: 2.4739 - accuracy: 0.9347 - val_loss: 3.8099 - val_accuracy: 0.9442\n",
      "Epoch 42/50\n",
      "119/119 [==============================] - 2s 14ms/step - loss: 3.4068 - accuracy: 0.9258 - val_loss: 2.3385 - val_accuracy: 0.9432\n",
      "Epoch 43/50\n",
      "119/119 [==============================] - 2s 16ms/step - loss: 2.8909 - accuracy: 0.9310 - val_loss: 5.8960 - val_accuracy: 0.9442\n",
      "Epoch 44/50\n",
      "119/119 [==============================] - 2s 16ms/step - loss: 3.4396 - accuracy: 0.9297 - val_loss: 1.4905 - val_accuracy: 0.9432\n",
      "Epoch 45/50\n",
      "119/119 [==============================] - 2s 16ms/step - loss: 1.9607 - accuracy: 0.9292 - val_loss: 2.7866 - val_accuracy: 0.9432\n",
      "Epoch 46/50\n",
      "119/119 [==============================] - 2s 16ms/step - loss: 1.9919 - accuracy: 0.9286 - val_loss: 1.3789 - val_accuracy: 0.9411\n",
      "Epoch 47/50\n",
      "119/119 [==============================] - 2s 16ms/step - loss: 1.9805 - accuracy: 0.9273 - val_loss: 3.8877 - val_accuracy: 0.9400\n",
      "Epoch 48/50\n",
      "119/119 [==============================] - 2s 16ms/step - loss: 2.2824 - accuracy: 0.9292 - val_loss: 3.3023 - val_accuracy: 0.9432\n",
      "Epoch 49/50\n",
      "119/119 [==============================] - 2s 16ms/step - loss: 1.6944 - accuracy: 0.9355 - val_loss: 4.5859 - val_accuracy: 0.1074\n",
      "Epoch 50/50\n",
      "119/119 [==============================] - 2s 16ms/step - loss: 1.7230 - accuracy: 0.9184 - val_loss: 5.6533 - val_accuracy: 0.9442\n",
      "30/30 [==============================] - 1s 7ms/step\n",
      "BiLSTM Test accuracy: 0.9442105263157895\n"
     ]
    }
   ],
   "source": [
    "from tensorflow.keras.models import Sequential\n",
    "from tensorflow.keras.layers import Bidirectional, LSTM, Dense\n",
    "from tensorflow.keras.optimizers import Adam\n",
    "from sklearn.model_selection import train_test_split\n",
    "from sklearn.metrics import accuracy_score\n",
    "import numpy as np\n",
    "\n",
    "# Assuming you have X and y defined somewhere before this code\n",
    "\n",
    "# Veri setinizi X ve y olarak ayırın\n",
    "# X, giriş verileri (özellikler), y ise çıkış etiketleri olsun\n",
    "X_train, X_test, y_train, y_test = train_test_split(X, y, test_size=0.2, random_state=42)\n",
    "X_train = np.asarray(X_train, dtype=np.float32)\n",
    "X_test = np.asarray(X_test, dtype=np.float32)\n",
    "\n",
    "# BiLSTM modelini oluşturma\n",
    "input_length = X.shape[1]\n",
    "input_dim = 1\n",
    "model_bilstm = Sequential()\n",
    "model_bilstm.add(Bidirectional(LSTM(units=64, activation='relu'), input_shape=(input_length, input_dim)))\n",
    "model_bilstm.add(Dense(units=128, activation='relu'))\n",
    "model_bilstm.add(Dense(units=1, activation='sigmoid'))\n",
    "\n",
    "# Modeli derleme\n",
    "model_bilstm.compile(optimizer=Adam(learning_rate=0.001), loss='binary_crossentropy', metrics=['accuracy'])\n",
    "\n",
    "# Modeli eğitme\n",
    "model_bilstm.fit(X_train, y_train, epochs=50, batch_size=32, validation_data=(X_test, y_test))\n",
    "\n",
    "# Test verileri üzerinde tahmin yapma\n",
    "y_pred_bilstm = (model_bilstm.predict(X_test) > 0.5).astype(\"int32\")\n",
    "\n",
    "# Test accuracy hesaplama\n",
    "accuracy_bilstm = accuracy_score(y_test, y_pred_bilstm)\n",
    "print(\"BiLSTM Test accuracy: {}\".format(accuracy_bilstm))\n"
   ]
  },
  {
   "cell_type": "markdown",
   "metadata": {},
   "source": [
    "\n",
    "<a id=\"12\"> </a>\n",
    "# Hibrit Model Oluşturmak (CNN 1-D LSTM 1-D)"
   ]
  },
  {
   "cell_type": "code",
   "execution_count": 182,
   "metadata": {},
   "outputs": [
    {
     "name": "stdout",
     "output_type": "stream",
     "text": [
      "Epoch 1/50\n",
      "119/119 [==============================] - 7s 21ms/step - loss: 52.6488 - accuracy: 0.9221 - val_loss: 60.9137 - val_accuracy: 0.9442\n",
      "Epoch 2/50\n",
      "119/119 [==============================] - 2s 15ms/step - loss: 32.0107 - accuracy: 0.9215 - val_loss: 42.4310 - val_accuracy: 0.9442\n",
      "Epoch 3/50\n",
      "119/119 [==============================] - 2s 16ms/step - loss: 25.5555 - accuracy: 0.9260 - val_loss: 18.6110 - val_accuracy: 0.9432\n",
      "Epoch 4/50\n",
      "119/119 [==============================] - 2s 16ms/step - loss: 23.2117 - accuracy: 0.9205 - val_loss: 31.1780 - val_accuracy: 0.9442\n",
      "Epoch 5/50\n",
      "119/119 [==============================] - 2s 15ms/step - loss: 26.7611 - accuracy: 0.9308 - val_loss: 28.1895 - val_accuracy: 0.9442\n",
      "Epoch 6/50\n",
      "119/119 [==============================] - 2s 16ms/step - loss: 22.0607 - accuracy: 0.9279 - val_loss: 55.1917 - val_accuracy: 0.9442\n",
      "Epoch 7/50\n",
      "119/119 [==============================] - 2s 16ms/step - loss: 21.1309 - accuracy: 0.9279 - val_loss: 28.8133 - val_accuracy: 0.1105\n",
      "Epoch 8/50\n",
      "119/119 [==============================] - 2s 15ms/step - loss: 14.7400 - accuracy: 0.9205 - val_loss: 17.8236 - val_accuracy: 0.9442\n",
      "Epoch 9/50\n",
      "119/119 [==============================] - 2s 16ms/step - loss: 10.8957 - accuracy: 0.9186 - val_loss: 25.0311 - val_accuracy: 0.9442\n",
      "Epoch 10/50\n",
      "119/119 [==============================] - 2s 16ms/step - loss: 14.9619 - accuracy: 0.9247 - val_loss: 6.6901 - val_accuracy: 0.9411\n",
      "Epoch 11/50\n",
      "119/119 [==============================] - 2s 16ms/step - loss: 10.7858 - accuracy: 0.9313 - val_loss: 21.2718 - val_accuracy: 0.9442\n",
      "Epoch 12/50\n",
      "119/119 [==============================] - 2s 16ms/step - loss: 10.7177 - accuracy: 0.9284 - val_loss: 18.5958 - val_accuracy: 0.9442\n",
      "Epoch 13/50\n",
      "119/119 [==============================] - 2s 16ms/step - loss: 7.3241 - accuracy: 0.9265 - val_loss: 9.7313 - val_accuracy: 0.9463\n",
      "Epoch 14/50\n",
      "119/119 [==============================] - 2s 16ms/step - loss: 13.1635 - accuracy: 0.9152 - val_loss: 40.4557 - val_accuracy: 0.9442\n",
      "Epoch 15/50\n",
      "119/119 [==============================] - 2s 15ms/step - loss: 106.5729 - accuracy: 0.9110 - val_loss: 28.0923 - val_accuracy: 0.9442\n",
      "Epoch 16/50\n",
      "119/119 [==============================] - 2s 16ms/step - loss: 30.8009 - accuracy: 0.9329 - val_loss: 40.9983 - val_accuracy: 0.9442\n",
      "Epoch 17/50\n",
      "119/119 [==============================] - 2s 15ms/step - loss: 12.4197 - accuracy: 0.9236 - val_loss: 20.7763 - val_accuracy: 0.9432\n",
      "Epoch 18/50\n",
      "119/119 [==============================] - 2s 15ms/step - loss: 7.5608 - accuracy: 0.9263 - val_loss: 17.0251 - val_accuracy: 0.9432\n",
      "Epoch 19/50\n",
      "119/119 [==============================] - 2s 16ms/step - loss: 6.5946 - accuracy: 0.9247 - val_loss: 2.6219 - val_accuracy: 0.9421\n",
      "Epoch 20/50\n",
      "119/119 [==============================] - 2s 15ms/step - loss: 6.1168 - accuracy: 0.9294 - val_loss: 10.2436 - val_accuracy: 0.9432\n",
      "Epoch 21/50\n",
      "119/119 [==============================] - 2s 16ms/step - loss: 2.7154 - accuracy: 0.9265 - val_loss: 2.6218 - val_accuracy: 0.6421\n",
      "Epoch 22/50\n",
      "119/119 [==============================] - 2s 15ms/step - loss: 5.6080 - accuracy: 0.9305 - val_loss: 4.3593 - val_accuracy: 0.9421\n",
      "Epoch 23/50\n",
      "119/119 [==============================] - 2s 16ms/step - loss: 4.6948 - accuracy: 0.9271 - val_loss: 6.1573 - val_accuracy: 0.9453\n",
      "Epoch 24/50\n",
      "119/119 [==============================] - 2s 15ms/step - loss: 2.8394 - accuracy: 0.9308 - val_loss: 1.8855 - val_accuracy: 0.9411\n",
      "Epoch 25/50\n",
      "119/119 [==============================] - 2s 15ms/step - loss: 3.3766 - accuracy: 0.9308 - val_loss: 8.8579 - val_accuracy: 0.9442\n",
      "Epoch 26/50\n",
      "119/119 [==============================] - 2s 15ms/step - loss: 5.6864 - accuracy: 0.9331 - val_loss: 3.2897 - val_accuracy: 0.9400\n",
      "Epoch 27/50\n",
      "119/119 [==============================] - 2s 19ms/step - loss: 2.8255 - accuracy: 0.9305 - val_loss: 14.8233 - val_accuracy: 0.9442\n",
      "Epoch 28/50\n",
      "119/119 [==============================] - 2s 16ms/step - loss: 35.1536 - accuracy: 0.9094 - val_loss: 49.0547 - val_accuracy: 0.9442\n",
      "Epoch 29/50\n",
      "119/119 [==============================] - 1s 8ms/step - loss: 15.6231 - accuracy: 0.9310 - val_loss: 32.3702 - val_accuracy: 0.9442\n",
      "Epoch 30/50\n",
      "119/119 [==============================] - 1s 8ms/step - loss: 14.7419 - accuracy: 0.9326 - val_loss: 5.8714 - val_accuracy: 0.9442\n",
      "Epoch 31/50\n",
      "119/119 [==============================] - 1s 8ms/step - loss: 6.7121 - accuracy: 0.9347 - val_loss: 2.7790 - val_accuracy: 0.9432\n",
      "Epoch 32/50\n",
      "119/119 [==============================] - 1s 8ms/step - loss: 4.0018 - accuracy: 0.9300 - val_loss: 10.1848 - val_accuracy: 0.9442\n",
      "Epoch 33/50\n",
      "119/119 [==============================] - 1s 8ms/step - loss: 2.9594 - accuracy: 0.9315 - val_loss: 15.3995 - val_accuracy: 0.9442\n",
      "Epoch 34/50\n",
      "119/119 [==============================] - 1s 8ms/step - loss: 5.3914 - accuracy: 0.9358 - val_loss: 1.9489 - val_accuracy: 0.9432\n",
      "Epoch 35/50\n",
      "119/119 [==============================] - 1s 8ms/step - loss: 34.0991 - accuracy: 0.9289 - val_loss: 1.8163 - val_accuracy: 0.9389\n",
      "Epoch 36/50\n",
      "119/119 [==============================] - 1s 8ms/step - loss: 7.6586 - accuracy: 0.9239 - val_loss: 18.8875 - val_accuracy: 0.9442\n",
      "Epoch 37/50\n",
      "119/119 [==============================] - 1s 8ms/step - loss: 6.7181 - accuracy: 0.9294 - val_loss: 8.2632 - val_accuracy: 0.9432\n",
      "Epoch 38/50\n",
      "119/119 [==============================] - 1s 10ms/step - loss: 7.5387 - accuracy: 0.9329 - val_loss: 2.9642 - val_accuracy: 0.6095\n",
      "Epoch 39/50\n",
      "119/119 [==============================] - 1s 8ms/step - loss: 4.6628 - accuracy: 0.9286 - val_loss: 3.6475 - val_accuracy: 0.9421\n",
      "Epoch 40/50\n",
      "119/119 [==============================] - 1s 8ms/step - loss: 1.1165 - accuracy: 0.9252 - val_loss: 0.6634 - val_accuracy: 0.8200\n",
      "Epoch 41/50\n",
      "119/119 [==============================] - 1s 8ms/step - loss: 1.8043 - accuracy: 0.9334 - val_loss: 6.3096 - val_accuracy: 0.9442\n",
      "Epoch 42/50\n",
      "119/119 [==============================] - 1s 8ms/step - loss: 2.1364 - accuracy: 0.9297 - val_loss: 4.2457 - val_accuracy: 0.9453\n",
      "Epoch 43/50\n",
      "119/119 [==============================] - 1s 9ms/step - loss: 1.7803 - accuracy: 0.9321 - val_loss: 1.7420 - val_accuracy: 0.9421\n",
      "Epoch 44/50\n",
      "119/119 [==============================] - 1s 10ms/step - loss: 1.3842 - accuracy: 0.9368 - val_loss: 1.9221 - val_accuracy: 0.9421\n",
      "Epoch 45/50\n",
      "119/119 [==============================] - 1s 9ms/step - loss: 1.4824 - accuracy: 0.9326 - val_loss: 3.2490 - val_accuracy: 0.9453\n",
      "Epoch 46/50\n",
      "119/119 [==============================] - 1s 8ms/step - loss: 7.8462 - accuracy: 0.9300 - val_loss: 13.3806 - val_accuracy: 0.9421\n",
      "Epoch 47/50\n",
      "119/119 [==============================] - 1s 8ms/step - loss: 3.9086 - accuracy: 0.9350 - val_loss: 0.4486 - val_accuracy: 0.9358\n",
      "Epoch 48/50\n",
      "119/119 [==============================] - 1s 9ms/step - loss: 1.8355 - accuracy: 0.9326 - val_loss: 2.1881 - val_accuracy: 0.9442\n",
      "Epoch 49/50\n",
      "119/119 [==============================] - 1s 8ms/step - loss: 1.1560 - accuracy: 0.9352 - val_loss: 3.6284 - val_accuracy: 0.9442\n",
      "Epoch 50/50\n",
      "119/119 [==============================] - 1s 8ms/step - loss: 1.3497 - accuracy: 0.9365 - val_loss: 2.2026 - val_accuracy: 0.9442\n",
      "30/30 [==============================] - 0s 4ms/step\n",
      "Combined Model Test accuracy: 0.9442105263157895\n"
     ]
    }
   ],
   "source": [
    "from tensorflow.keras.models import Model\n",
    "from tensorflow.keras.layers import Conv1D, MaxPooling1D, Flatten, LSTM, Dense, Input, Concatenate\n",
    "from tensorflow.keras.optimizers import Adam\n",
    "from sklearn.model_selection import train_test_split\n",
    "from sklearn.metrics import accuracy_score\n",
    "import numpy as np\n",
    "\n",
    "\n",
    "# Veri setinizi X ve y olarak ayırın\n",
    "# X, giriş verileri (özellikler), y ise çıkış etiketleri olsun\n",
    "X_train, X_test, y_train, y_test = train_test_split(X, y, test_size=0.2, random_state=42)\n",
    "X_train = np.asarray(X_train, dtype=np.float32)\n",
    "X_test = np.asarray(X_test, dtype=np.float32)\n",
    "\n",
    "# Conv1D modelini oluşturma\n",
    "input_length = X.shape[1]\n",
    "input_dim = 1\n",
    "conv_input = Input(shape=(input_length, input_dim))\n",
    "conv_model = Conv1D(filters=64, kernel_size=3, activation='relu')(conv_input)\n",
    "conv_model = MaxPooling1D(pool_size=2)(conv_model)\n",
    "conv_model = Flatten()(conv_model)\n",
    "conv_model = Dense(units=128, activation='relu')(conv_model)\n",
    "\n",
    "# LSTM modelini oluşturma\n",
    "lstm_input = Input(shape=(input_length, input_dim))\n",
    "lstm_model = LSTM(units=64, activation='relu')(lstm_input)\n",
    "lstm_model = Dense(units=128, activation='relu')(lstm_model)\n",
    "\n",
    "# Conv1D ve LSTM çıkışlarını birleştirme\n",
    "merged = Concatenate()([conv_model, lstm_model])\n",
    "\n",
    "# Ortak bir yoğun katman ekleyerek çıkış oluşturma\n",
    "output = Dense(units=1, activation='sigmoid')(merged)\n",
    "\n",
    "# Modeli oluşturma\n",
    "combined_model = Model(inputs=[conv_input, lstm_input], outputs=output)\n",
    "\n",
    "# Modeli derleme\n",
    "combined_model.compile(optimizer=Adam(learning_rate=0.001), loss='binary_crossentropy', metrics=['accuracy'])\n",
    "\n",
    "# Modeli eğitme\n",
    "combined_model.fit([X_train, X_train], y_train, epochs=50, batch_size=32, validation_data=([X_test, X_test], y_test))\n",
    "\n",
    "# Test verileri üzerinde tahmin yapma\n",
    "y_pred_combined = (combined_model.predict([X_test, X_test]) > 0.5).astype(\"int32\")\n",
    "\n",
    "# Test accuracy hesaplama\n",
    "accuracy_combined = accuracy_score(y_test, y_pred_combined)\n",
    "print(\"Combined Model Test accuracy: {}\".format(accuracy_combined))\n"
   ]
  },
  {
   "cell_type": "markdown",
   "metadata": {},
   "source": [
    "# Hibrit Model Oluşturmak (CNN 1-D BiLSTM 1-D)"
   ]
  },
  {
   "cell_type": "code",
   "execution_count": 183,
   "metadata": {},
   "outputs": [
    {
     "name": "stdout",
     "output_type": "stream",
     "text": [
      "Epoch 1/50\n",
      "119/119 [==============================] - 5s 14ms/step - loss: 58.4058 - accuracy: 0.9197 - val_loss: 53.2282 - val_accuracy: 0.9442\n",
      "Epoch 2/50\n",
      "119/119 [==============================] - 1s 9ms/step - loss: 23.3222 - accuracy: 0.9221 - val_loss: 15.3929 - val_accuracy: 0.9442\n",
      "Epoch 3/50\n",
      "119/119 [==============================] - 1s 9ms/step - loss: 19.9903 - accuracy: 0.9336 - val_loss: 17.5387 - val_accuracy: 0.9432\n",
      "Epoch 4/50\n",
      "119/119 [==============================] - 1s 9ms/step - loss: 20.1559 - accuracy: 0.9200 - val_loss: 48.9894 - val_accuracy: 0.9442\n",
      "Epoch 5/50\n",
      "119/119 [==============================] - 1s 10ms/step - loss: 14.8302 - accuracy: 0.9252 - val_loss: 36.9836 - val_accuracy: 0.9442\n",
      "Epoch 6/50\n",
      "119/119 [==============================] - 1s 10ms/step - loss: 12.9071 - accuracy: 0.9210 - val_loss: 33.4720 - val_accuracy: 0.9442\n",
      "Epoch 7/50\n",
      "119/119 [==============================] - 1s 10ms/step - loss: 21.5346 - accuracy: 0.9297 - val_loss: 14.2040 - val_accuracy: 0.9432\n",
      "Epoch 8/50\n",
      "119/119 [==============================] - 1s 9ms/step - loss: 11.5907 - accuracy: 0.9229 - val_loss: 33.7191 - val_accuracy: 0.9442\n",
      "Epoch 9/50\n",
      "119/119 [==============================] - 1s 9ms/step - loss: 20.3634 - accuracy: 0.9236 - val_loss: 9.5430 - val_accuracy: 0.9421\n",
      "Epoch 10/50\n",
      "119/119 [==============================] - 1s 9ms/step - loss: 7.4630 - accuracy: 0.9268 - val_loss: 9.6376 - val_accuracy: 0.9432\n",
      "Epoch 11/50\n",
      "119/119 [==============================] - 1s 9ms/step - loss: 6.6717 - accuracy: 0.9197 - val_loss: 11.1018 - val_accuracy: 0.9432\n",
      "Epoch 12/50\n",
      "119/119 [==============================] - 1s 9ms/step - loss: 6.5245 - accuracy: 0.9300 - val_loss: 7.2149 - val_accuracy: 0.9432\n",
      "Epoch 13/50\n",
      "119/119 [==============================] - 1s 11ms/step - loss: 5.7647 - accuracy: 0.9231 - val_loss: 14.8693 - val_accuracy: 0.9432\n",
      "Epoch 14/50\n",
      "119/119 [==============================] - 1s 10ms/step - loss: 5.3500 - accuracy: 0.9258 - val_loss: 1.1633 - val_accuracy: 0.9358\n",
      "Epoch 15/50\n",
      "119/119 [==============================] - 1s 9ms/step - loss: 4.0967 - accuracy: 0.9308 - val_loss: 4.1659 - val_accuracy: 0.9421\n",
      "Epoch 16/50\n",
      "119/119 [==============================] - 1s 9ms/step - loss: 50.9543 - accuracy: 0.9200 - val_loss: 116.5592 - val_accuracy: 0.9442\n",
      "Epoch 17/50\n",
      "119/119 [==============================] - 1s 9ms/step - loss: 20.1126 - accuracy: 0.9258 - val_loss: 30.6247 - val_accuracy: 0.9442\n",
      "Epoch 18/50\n",
      "119/119 [==============================] - 1s 9ms/step - loss: 11.7448 - accuracy: 0.9273 - val_loss: 5.3746 - val_accuracy: 0.9421\n",
      "Epoch 19/50\n",
      "119/119 [==============================] - 1s 9ms/step - loss: 2.6615 - accuracy: 0.9247 - val_loss: 0.4342 - val_accuracy: 0.8958\n",
      "Epoch 20/50\n",
      "119/119 [==============================] - 1s 8ms/step - loss: 3.0423 - accuracy: 0.9310 - val_loss: 0.3915 - val_accuracy: 0.9189\n",
      "Epoch 21/50\n",
      "119/119 [==============================] - 1s 8ms/step - loss: 3.4930 - accuracy: 0.9313 - val_loss: 3.7571 - val_accuracy: 0.9421\n",
      "Epoch 22/50\n",
      "119/119 [==============================] - 1s 8ms/step - loss: 1.4182 - accuracy: 0.9273 - val_loss: 0.3614 - val_accuracy: 0.9137\n",
      "Epoch 23/50\n",
      "119/119 [==============================] - 1s 9ms/step - loss: 1.4877 - accuracy: 0.9323 - val_loss: 3.0014 - val_accuracy: 0.9453\n",
      "Epoch 24/50\n",
      "119/119 [==============================] - 1s 9ms/step - loss: 1.7200 - accuracy: 0.9371 - val_loss: 1.8267 - val_accuracy: 0.6505\n",
      "Epoch 25/50\n",
      "119/119 [==============================] - 1s 11ms/step - loss: 2.7579 - accuracy: 0.9294 - val_loss: 1.9072 - val_accuracy: 0.9411\n",
      "Epoch 26/50\n",
      "119/119 [==============================] - 1s 10ms/step - loss: 1.8438 - accuracy: 0.9336 - val_loss: 1.0894 - val_accuracy: 0.9400\n",
      "Epoch 27/50\n",
      "119/119 [==============================] - 1s 11ms/step - loss: 2.4373 - accuracy: 0.9352 - val_loss: 0.7115 - val_accuracy: 0.9400\n",
      "Epoch 28/50\n",
      "119/119 [==============================] - 1s 10ms/step - loss: 1.4016 - accuracy: 0.9263 - val_loss: 1.6452 - val_accuracy: 0.9432\n",
      "Epoch 29/50\n",
      "119/119 [==============================] - 1s 10ms/step - loss: 2.0530 - accuracy: 0.9352 - val_loss: 0.5672 - val_accuracy: 0.9400\n",
      "Epoch 30/50\n",
      "119/119 [==============================] - 1s 10ms/step - loss: 1.3808 - accuracy: 0.9294 - val_loss: 2.6179 - val_accuracy: 0.9453\n",
      "Epoch 31/50\n",
      "119/119 [==============================] - 1s 12ms/step - loss: 0.9626 - accuracy: 0.9355 - val_loss: 0.2744 - val_accuracy: 0.9232\n",
      "Epoch 32/50\n",
      "119/119 [==============================] - 1s 9ms/step - loss: 1.8654 - accuracy: 0.9326 - val_loss: 0.8103 - val_accuracy: 0.9400\n",
      "Epoch 33/50\n",
      "119/119 [==============================] - 1s 10ms/step - loss: 1.2966 - accuracy: 0.9334 - val_loss: 1.9483 - val_accuracy: 0.9432\n",
      "Epoch 34/50\n",
      "119/119 [==============================] - 1s 9ms/step - loss: 0.8051 - accuracy: 0.9360 - val_loss: 0.5138 - val_accuracy: 0.9453\n",
      "Epoch 35/50\n",
      "119/119 [==============================] - 1s 10ms/step - loss: 0.4207 - accuracy: 0.9413 - val_loss: 0.2959 - val_accuracy: 0.8716\n",
      "Epoch 36/50\n",
      "119/119 [==============================] - 1s 10ms/step - loss: 1.0962 - accuracy: 0.9394 - val_loss: 1.5665 - val_accuracy: 0.9442\n",
      "Epoch 37/50\n",
      "119/119 [==============================] - 1s 10ms/step - loss: 0.8722 - accuracy: 0.9379 - val_loss: 0.3900 - val_accuracy: 0.9421\n",
      "Epoch 38/50\n",
      "119/119 [==============================] - 1s 10ms/step - loss: 0.5445 - accuracy: 0.9394 - val_loss: 0.3609 - val_accuracy: 0.9421\n",
      "Epoch 39/50\n",
      "119/119 [==============================] - 1s 9ms/step - loss: 0.5137 - accuracy: 0.9413 - val_loss: 0.4680 - val_accuracy: 0.8042\n",
      "Epoch 40/50\n",
      "119/119 [==============================] - 1s 9ms/step - loss: 0.7177 - accuracy: 0.9355 - val_loss: 1.5379 - val_accuracy: 0.9442\n",
      "Epoch 41/50\n",
      "119/119 [==============================] - 1s 9ms/step - loss: 1.1984 - accuracy: 0.9352 - val_loss: 0.3514 - val_accuracy: 0.9389\n",
      "Epoch 42/50\n",
      "119/119 [==============================] - 1s 9ms/step - loss: 0.5942 - accuracy: 0.9389 - val_loss: 0.8174 - val_accuracy: 0.9442\n",
      "Epoch 43/50\n",
      "119/119 [==============================] - 1s 9ms/step - loss: 0.8245 - accuracy: 0.9334 - val_loss: 0.2210 - val_accuracy: 0.9316\n",
      "Epoch 44/50\n",
      "119/119 [==============================] - 1s 9ms/step - loss: 1.0810 - accuracy: 0.9336 - val_loss: 5.8853 - val_accuracy: 0.9442\n",
      "Epoch 45/50\n",
      "119/119 [==============================] - 1s 10ms/step - loss: 1.0910 - accuracy: 0.9397 - val_loss: 0.2891 - val_accuracy: 0.9389\n",
      "Epoch 46/50\n",
      "119/119 [==============================] - 1s 12ms/step - loss: 0.3328 - accuracy: 0.9471 - val_loss: 0.9521 - val_accuracy: 0.9442\n",
      "Epoch 47/50\n",
      "119/119 [==============================] - 1s 10ms/step - loss: 0.5363 - accuracy: 0.9379 - val_loss: 0.2584 - val_accuracy: 0.8842\n",
      "Epoch 48/50\n",
      "119/119 [==============================] - 1s 10ms/step - loss: 0.2973 - accuracy: 0.9431 - val_loss: 0.3247 - val_accuracy: 0.9442\n",
      "Epoch 49/50\n",
      "119/119 [==============================] - 1s 12ms/step - loss: 0.2881 - accuracy: 0.9431 - val_loss: 0.4862 - val_accuracy: 0.9442\n",
      "Epoch 50/50\n",
      "119/119 [==============================] - 1s 11ms/step - loss: 0.5125 - accuracy: 0.9444 - val_loss: 0.6245 - val_accuracy: 0.9442\n",
      "30/30 [==============================] - 1s 4ms/step\n",
      "Combined Model Test accuracy: 0.9442105263157895\n"
     ]
    }
   ],
   "source": [
    "from tensorflow.keras.models import Sequential, Model\n",
    "from tensorflow.keras.layers import Conv1D, MaxPooling1D, Bidirectional, LSTM, Dense, Flatten, Concatenate, Input\n",
    "from tensorflow.keras.optimizers import Adam\n",
    "from sklearn.model_selection import train_test_split\n",
    "from sklearn.metrics import accuracy_score\n",
    "import numpy as np\n",
    "\n",
    "# Assuming you have X and y defined somewhere before this code\n",
    "\n",
    "# Veri setinizi X ve y olarak ayırın\n",
    "# X, giriş verileri (özellikler), y ise çıkış etiketleri olsun\n",
    "X_train, X_test, y_train, y_test = train_test_split(X, y, test_size=0.2, random_state=42)\n",
    "X_train = np.asarray(X_train, dtype=np.float32)\n",
    "X_test = np.asarray(X_test, dtype=np.float32)\n",
    "\n",
    "# CNN-BiLSTM modelini oluşturma\n",
    "input_length = X.shape[1]\n",
    "input_dim = 1\n",
    "\n",
    "# CNN kısmı\n",
    "cnn_model = Sequential()\n",
    "cnn_model.add(Conv1D(filters=64, kernel_size=3, activation='relu', input_shape=(input_length, input_dim)))\n",
    "cnn_model.add(MaxPooling1D(pool_size=2))\n",
    "cnn_model.add(Flatten())\n",
    "\n",
    "# BiLSTM kısmı\n",
    "bilstm_model = Sequential()\n",
    "bilstm_model.add(Bidirectional(LSTM(units=64, activation='relu'), input_shape=(input_length, input_dim)))\n",
    "\n",
    "# Birleştirme\n",
    "concatenated = Concatenate()([cnn_model.output, bilstm_model.output])\n",
    "dense1 = Dense(units=128, activation='relu')(concatenated)\n",
    "output_layer = Dense(units=1, activation='sigmoid')(dense1)\n",
    "\n",
    "# Modeli oluşturma\n",
    "merged_model = Model(inputs=[cnn_model.input, bilstm_model.input], outputs=output_layer)\n",
    "\n",
    "# Modeli derleme\n",
    "merged_model.compile(optimizer=Adam(learning_rate=0.001), loss='binary_crossentropy', metrics=['accuracy'])\n",
    "\n",
    "# Modeli eğitme\n",
    "merged_model.fit([X_train, X_train], y_train, epochs=50, batch_size=32, validation_data=([X_test, X_test], y_test))\n",
    "\n",
    "# Test verileri üzerinde tahmin yapma\n",
    "y_pred_combined = (merged_model.predict([X_test, X_test]) > 0.5).astype(\"int32\")\n",
    "\n",
    "# Test accuracy hesaplama\n",
    "accuracy_combined = accuracy_score(y_test, y_pred_combined)\n",
    "print(\"Combined Model Test accuracy: {}\".format(accuracy_combined))\n"
   ]
  },
  {
   "cell_type": "markdown",
   "metadata": {},
   "source": [
    "# Deep Learning ENSEMBLE CNN-1D, LSTM-1D, BiLSTM 1-D "
   ]
  },
  {
   "cell_type": "code",
   "execution_count": 184,
   "metadata": {},
   "outputs": [
    {
     "name": "stdout",
     "output_type": "stream",
     "text": [
      "Epoch 1/10\n",
      "119/119 [==============================] - 2s 6ms/step - loss: 70.6862 - accuracy: 0.9242 - val_loss: 24.9731 - val_accuracy: 0.9442\n",
      "Epoch 2/10\n",
      "119/119 [==============================] - 0s 3ms/step - loss: 22.2804 - accuracy: 0.9213 - val_loss: 23.2093 - val_accuracy: 0.9442\n",
      "Epoch 3/10\n",
      "119/119 [==============================] - 1s 5ms/step - loss: 21.6204 - accuracy: 0.9215 - val_loss: 10.1863 - val_accuracy: 0.9442\n",
      "Epoch 4/10\n",
      "119/119 [==============================] - 0s 4ms/step - loss: 18.5833 - accuracy: 0.9221 - val_loss: 45.3597 - val_accuracy: 0.9442\n",
      "Epoch 5/10\n",
      "119/119 [==============================] - 1s 4ms/step - loss: 23.5930 - accuracy: 0.9242 - val_loss: 11.1795 - val_accuracy: 0.9453\n",
      "Epoch 6/10\n",
      "119/119 [==============================] - 1s 5ms/step - loss: 17.3370 - accuracy: 0.9279 - val_loss: 18.9245 - val_accuracy: 0.9442\n",
      "Epoch 7/10\n",
      "119/119 [==============================] - 0s 3ms/step - loss: 12.0032 - accuracy: 0.9239 - val_loss: 9.0059 - val_accuracy: 0.9421\n",
      "Epoch 8/10\n",
      "119/119 [==============================] - 0s 3ms/step - loss: 11.6254 - accuracy: 0.9226 - val_loss: 11.8426 - val_accuracy: 0.9442\n",
      "Epoch 9/10\n",
      "119/119 [==============================] - 1s 5ms/step - loss: 9.3321 - accuracy: 0.9218 - val_loss: 2.2658 - val_accuracy: 0.5284\n",
      "Epoch 10/10\n",
      "119/119 [==============================] - 1s 4ms/step - loss: 8.1270 - accuracy: 0.9218 - val_loss: 30.8716 - val_accuracy: 0.9442\n",
      "Epoch 1/10\n",
      "119/119 [==============================] - 3s 10ms/step - loss: 16.8094 - accuracy: 0.8555 - val_loss: 4.5405 - val_accuracy: 0.9442\n",
      "Epoch 2/10\n",
      "119/119 [==============================] - 1s 7ms/step - loss: 6.1815 - accuracy: 0.9057 - val_loss: 14.6685 - val_accuracy: 0.9442\n",
      "Epoch 3/10\n",
      "119/119 [==============================] - 1s 7ms/step - loss: 2.9195 - accuracy: 0.9429 - val_loss: 0.2544 - val_accuracy: 0.9442\n",
      "Epoch 4/10\n",
      "119/119 [==============================] - 1s 7ms/step - loss: 0.2094 - accuracy: 0.9610 - val_loss: 0.2838 - val_accuracy: 0.9442\n",
      "Epoch 5/10\n",
      "119/119 [==============================] - 1s 8ms/step - loss: 0.1990 - accuracy: 0.9610 - val_loss: 0.2307 - val_accuracy: 0.9442\n",
      "Epoch 6/10\n",
      "119/119 [==============================] - 1s 8ms/step - loss: 0.1902 - accuracy: 0.9610 - val_loss: 0.3724 - val_accuracy: 0.9442\n",
      "Epoch 7/10\n",
      "119/119 [==============================] - 1s 7ms/step - loss: 12.8401 - accuracy: 0.9487 - val_loss: 53.2774 - val_accuracy: 0.9411\n",
      "Epoch 8/10\n",
      "119/119 [==============================] - 1s 7ms/step - loss: 14.4446 - accuracy: 0.9229 - val_loss: 11.8930 - val_accuracy: 0.9442\n",
      "Epoch 9/10\n",
      "119/119 [==============================] - 1s 7ms/step - loss: 6.8079 - accuracy: 0.9268 - val_loss: 14.7039 - val_accuracy: 0.9442\n",
      "Epoch 10/10\n",
      "119/119 [==============================] - 1s 6ms/step - loss: 7.7297 - accuracy: 0.9302 - val_loss: 2.4578 - val_accuracy: 0.1168\n",
      "Epoch 1/50\n",
      "119/119 [==============================] - 5s 13ms/step - loss: 8.3891 - accuracy: 0.9242 - val_loss: 2.1117 - val_accuracy: 0.9442\n",
      "Epoch 2/50\n",
      "119/119 [==============================] - 1s 8ms/step - loss: 4.1466 - accuracy: 0.9221 - val_loss: 3.9172 - val_accuracy: 0.9442\n",
      "Epoch 3/50\n",
      "119/119 [==============================] - 1s 8ms/step - loss: 9.6338 - accuracy: 0.9139 - val_loss: 9.5585 - val_accuracy: 0.9442\n",
      "Epoch 4/50\n",
      "119/119 [==============================] - 1s 8ms/step - loss: 6.5426 - accuracy: 0.9297 - val_loss: 6.0882 - val_accuracy: 0.9442\n",
      "Epoch 5/50\n",
      "119/119 [==============================] - 1s 8ms/step - loss: 4.4064 - accuracy: 0.9310 - val_loss: 2.0337 - val_accuracy: 0.9442\n",
      "Epoch 6/50\n",
      "119/119 [==============================] - 1s 8ms/step - loss: 57.9652 - accuracy: 0.9207 - val_loss: 129.9935 - val_accuracy: 0.9442\n",
      "Epoch 7/50\n",
      "119/119 [==============================] - 1s 8ms/step - loss: 17.7098 - accuracy: 0.9255 - val_loss: 9.8342 - val_accuracy: 0.9442\n",
      "Epoch 8/50\n",
      "119/119 [==============================] - 1s 7ms/step - loss: 7.6946 - accuracy: 0.9226 - val_loss: 5.5443 - val_accuracy: 0.9432\n",
      "Epoch 9/50\n",
      "119/119 [==============================] - 1s 7ms/step - loss: 16.2520 - accuracy: 0.9281 - val_loss: 60.6884 - val_accuracy: 0.9179\n",
      "Epoch 10/50\n",
      "119/119 [==============================] - 1s 8ms/step - loss: 22.8543 - accuracy: 0.9331 - val_loss: 0.4450 - val_accuracy: 0.9411\n",
      "Epoch 11/50\n",
      "119/119 [==============================] - 1s 7ms/step - loss: 2.4617 - accuracy: 0.9394 - val_loss: 2.8840 - val_accuracy: 0.9432\n",
      "Epoch 12/50\n",
      "119/119 [==============================] - 1s 7ms/step - loss: 17.4649 - accuracy: 0.9194 - val_loss: 79.7240 - val_accuracy: 0.9442\n",
      "Epoch 13/50\n",
      "119/119 [==============================] - 1s 7ms/step - loss: 7.0077 - accuracy: 0.9423 - val_loss: 6.3544 - val_accuracy: 0.9442\n",
      "Epoch 14/50\n",
      "119/119 [==============================] - 1s 8ms/step - loss: 2.0358 - accuracy: 0.9279 - val_loss: 1.1052 - val_accuracy: 0.9432\n",
      "Epoch 15/50\n",
      "119/119 [==============================] - 1s 7ms/step - loss: 1.5804 - accuracy: 0.9305 - val_loss: 0.2591 - val_accuracy: 0.9316\n",
      "Epoch 16/50\n",
      "119/119 [==============================] - 1s 7ms/step - loss: 1.7584 - accuracy: 0.9239 - val_loss: 2.9220 - val_accuracy: 0.9442\n",
      "Epoch 17/50\n",
      "119/119 [==============================] - 1s 7ms/step - loss: 1.0882 - accuracy: 0.9281 - val_loss: 2.0305 - val_accuracy: 0.9442\n",
      "Epoch 18/50\n",
      "119/119 [==============================] - 1s 8ms/step - loss: 1.6314 - accuracy: 0.9344 - val_loss: 0.4134 - val_accuracy: 0.9400\n",
      "Epoch 19/50\n",
      "119/119 [==============================] - 1s 7ms/step - loss: 0.7232 - accuracy: 0.9426 - val_loss: 0.9510 - val_accuracy: 0.9442\n",
      "Epoch 20/50\n",
      "119/119 [==============================] - 1s 7ms/step - loss: 0.7134 - accuracy: 0.9421 - val_loss: 0.6225 - val_accuracy: 0.9442\n",
      "Epoch 21/50\n",
      "119/119 [==============================] - 1s 7ms/step - loss: 1.2217 - accuracy: 0.9300 - val_loss: 1.2718 - val_accuracy: 0.9442\n",
      "Epoch 22/50\n",
      "119/119 [==============================] - 1s 9ms/step - loss: 0.5743 - accuracy: 0.9458 - val_loss: 0.2792 - val_accuracy: 0.9432\n",
      "Epoch 23/50\n",
      "119/119 [==============================] - 1s 8ms/step - loss: 0.4271 - accuracy: 0.9447 - val_loss: 1.0861 - val_accuracy: 0.9442\n",
      "Epoch 24/50\n",
      "119/119 [==============================] - 1s 8ms/step - loss: 0.8653 - accuracy: 0.9363 - val_loss: 0.2908 - val_accuracy: 0.9389\n",
      "Epoch 25/50\n",
      "119/119 [==============================] - 1s 8ms/step - loss: 0.7512 - accuracy: 0.9313 - val_loss: 1.4864 - val_accuracy: 0.9442\n",
      "Epoch 26/50\n",
      "119/119 [==============================] - 1s 10ms/step - loss: 0.6052 - accuracy: 0.9476 - val_loss: 0.3947 - val_accuracy: 0.9432\n",
      "Epoch 27/50\n",
      "119/119 [==============================] - 1s 9ms/step - loss: 0.3957 - accuracy: 0.9460 - val_loss: 1.9483 - val_accuracy: 0.9442\n",
      "Epoch 28/50\n",
      "119/119 [==============================] - 1s 9ms/step - loss: 0.4193 - accuracy: 0.9534 - val_loss: 1.0244 - val_accuracy: 0.9442\n",
      "Epoch 29/50\n",
      "119/119 [==============================] - 1s 10ms/step - loss: 0.4217 - accuracy: 0.9481 - val_loss: 0.3537 - val_accuracy: 0.9442\n",
      "Epoch 30/50\n",
      "119/119 [==============================] - 1s 11ms/step - loss: 0.4858 - accuracy: 0.9516 - val_loss: 0.2121 - val_accuracy: 0.9432\n",
      "Epoch 31/50\n",
      "119/119 [==============================] - 1s 9ms/step - loss: 0.3598 - accuracy: 0.9447 - val_loss: 0.4327 - val_accuracy: 0.7821\n",
      "Epoch 32/50\n",
      "119/119 [==============================] - 1s 8ms/step - loss: 0.4789 - accuracy: 0.9489 - val_loss: 2.5803 - val_accuracy: 0.9442\n",
      "Epoch 33/50\n",
      "119/119 [==============================] - 1s 9ms/step - loss: 0.6012 - accuracy: 0.9423 - val_loss: 0.4649 - val_accuracy: 0.9442\n",
      "Epoch 34/50\n",
      "119/119 [==============================] - 1s 11ms/step - loss: 0.4447 - accuracy: 0.9426 - val_loss: 0.2034 - val_accuracy: 0.9421\n",
      "Epoch 35/50\n",
      "119/119 [==============================] - 1s 12ms/step - loss: 0.2385 - accuracy: 0.9547 - val_loss: 0.5622 - val_accuracy: 0.9442\n",
      "Epoch 36/50\n",
      "119/119 [==============================] - 1s 12ms/step - loss: 0.3198 - accuracy: 0.9513 - val_loss: 0.4063 - val_accuracy: 0.9442\n",
      "Epoch 37/50\n",
      "119/119 [==============================] - 1s 10ms/step - loss: 0.6904 - accuracy: 0.9447 - val_loss: 0.5624 - val_accuracy: 0.9432\n",
      "Epoch 38/50\n",
      "119/119 [==============================] - 1s 10ms/step - loss: 0.4481 - accuracy: 0.9447 - val_loss: 0.2241 - val_accuracy: 0.9442\n",
      "Epoch 39/50\n",
      "119/119 [==============================] - 1s 10ms/step - loss: 0.2419 - accuracy: 0.9547 - val_loss: 0.5884 - val_accuracy: 0.9442\n",
      "Epoch 40/50\n",
      "119/119 [==============================] - 1s 11ms/step - loss: 0.3187 - accuracy: 0.9534 - val_loss: 0.8626 - val_accuracy: 0.9442\n",
      "Epoch 41/50\n",
      "119/119 [==============================] - 1s 10ms/step - loss: 0.3320 - accuracy: 0.9497 - val_loss: 0.6169 - val_accuracy: 0.9442\n",
      "Epoch 42/50\n",
      "119/119 [==============================] - 1s 10ms/step - loss: 0.4332 - accuracy: 0.9513 - val_loss: 0.2108 - val_accuracy: 0.9442\n",
      "Epoch 43/50\n",
      "119/119 [==============================] - 1s 9ms/step - loss: 0.4745 - accuracy: 0.9360 - val_loss: 0.5126 - val_accuracy: 0.9442\n",
      "Epoch 44/50\n",
      "119/119 [==============================] - 1s 9ms/step - loss: 0.3920 - accuracy: 0.9444 - val_loss: 0.2793 - val_accuracy: 0.9263\n",
      "Epoch 45/50\n",
      "119/119 [==============================] - 1s 8ms/step - loss: 0.2111 - accuracy: 0.9579 - val_loss: 0.2336 - val_accuracy: 0.9432\n",
      "Epoch 46/50\n",
      "119/119 [==============================] - 1s 8ms/step - loss: 0.2931 - accuracy: 0.9539 - val_loss: 0.2951 - val_accuracy: 0.9442\n",
      "Epoch 47/50\n",
      "119/119 [==============================] - 1s 8ms/step - loss: 0.4261 - accuracy: 0.9444 - val_loss: 0.7538 - val_accuracy: 0.9442\n",
      "Epoch 48/50\n",
      "119/119 [==============================] - 1s 9ms/step - loss: 0.3301 - accuracy: 0.9463 - val_loss: 0.2365 - val_accuracy: 0.9421\n",
      "Epoch 49/50\n",
      "119/119 [==============================] - 1s 10ms/step - loss: 0.4286 - accuracy: 0.9476 - val_loss: 0.6117 - val_accuracy: 0.9442\n",
      "Epoch 50/50\n",
      "119/119 [==============================] - 1s 9ms/step - loss: 0.5183 - accuracy: 0.9542 - val_loss: 1.5769 - val_accuracy: 0.9442\n",
      "30/30 [==============================] - 0s 2ms/step\n",
      "30/30 [==============================] - 0s 3ms/step\n",
      "30/30 [==============================] - 1s 4ms/step\n",
      "Ensemble Test accuracy: 0.9442105263157895\n"
     ]
    }
   ],
   "source": [
    "import numpy as np\n",
    "from tensorflow.keras.models import Sequential\n",
    "from tensorflow.keras.layers import Conv1D, MaxPooling1D, Flatten, Dense, LSTM, Bidirectional\n",
    "from tensorflow.keras.optimizers import Adam\n",
    "from sklearn.model_selection import train_test_split\n",
    "from sklearn.metrics import accuracy_score\n",
    "\n",
    "# Assuming you have X and y defined somewhere before this code\n",
    "# Splitting the data\n",
    "X_train, X_test, y_train, y_test = train_test_split(X, y, test_size=0.2, random_state=42)\n",
    "\n",
    "# Convert the data to float32 arrays\n",
    "X_train = X_train.astype(np.float32)\n",
    "X_test = X_test.astype(np.float32)\n",
    "\n",
    "# Define input_length and input_dim\n",
    "input_length = X.shape[1]\n",
    "input_dim = 1  # Assuming your features are 1-dimensional\n",
    "\n",
    "# CNN-1D Model\n",
    "model_cnn = Sequential([\n",
    "    Conv1D(filters=64, kernel_size=3, activation='relu', input_shape=(input_length, input_dim)),\n",
    "    MaxPooling1D(pool_size=2),\n",
    "    Flatten(),\n",
    "    Dense(units=128, activation='relu'),\n",
    "    Dense(units=1, activation='sigmoid')\n",
    "])\n",
    "\n",
    "model_cnn.compile(optimizer=Adam(learning_rate=0.001), loss='binary_crossentropy', metrics=['accuracy'])\n",
    "model_cnn.fit(X_train, y_train, epochs=10, batch_size=32, validation_data=(X_test, y_test))\n",
    "\n",
    "# LSTM Model\n",
    "model_lstm = Sequential([\n",
    "    LSTM(units=64, activation='relu', input_shape=(input_length, input_dim)),\n",
    "    Dense(units=128, activation='relu'),\n",
    "    Dense(units=1, activation='sigmoid')\n",
    "])\n",
    "\n",
    "model_lstm.compile(optimizer=Adam(learning_rate=0.001), loss='binary_crossentropy', metrics=['accuracy'])\n",
    "model_lstm.fit(X_train, y_train, epochs=10, batch_size=32, validation_data=(X_test, y_test))\n",
    "\n",
    "# BiLSTM Model\n",
    "model_bilstm = Sequential([\n",
    "    Bidirectional(LSTM(units=64, activation='relu'), input_shape=(input_length, input_dim)),\n",
    "    Dense(units=128, activation='relu'),\n",
    "    Dense(units=1, activation='sigmoid')\n",
    "])\n",
    "\n",
    "model_bilstm.compile(optimizer=Adam(learning_rate=0.001), loss='binary_crossentropy', metrics=['accuracy'])\n",
    "model_bilstm.fit(X_train, y_train, epochs=50, batch_size=32, validation_data=(X_test, y_test))\n",
    "\n",
    "# Making predictions with each model\n",
    "y_pred_cnn = (model_cnn.predict(X_test) > 0.5).astype(\"int32\")\n",
    "y_pred_lstm = (model_lstm.predict(X_test) > 0.5).astype(\"int32\")\n",
    "y_pred_bilstm = (model_bilstm.predict(X_test) > 0.5).astype(\"int32\")\n",
    "\n",
    "# Combining predictions: Averaging\n",
    "combined_predictions = (y_pred_cnn + y_pred_lstm + y_pred_bilstm) / 3\n",
    "final_predictions = (combined_predictions > 0.5).astype(\"int32\")\n",
    "\n",
    "# Calculating the accuracy of the ensemble\n",
    "accuracy_ensemble = accuracy_score(y_test, final_predictions)\n",
    "print(\"Ensemble Test accuracy: {}\".format(accuracy_ensemble))\n"
   ]
  },
  {
   "cell_type": "markdown",
   "metadata": {},
   "source": [
    "<a id=\"13\"> </a>\n",
    "\n",
    "# Conclusion\n",
    "\n",
    "1-) Farklı alogirtmalar kullan, sonuçları tune et.( SVM, Random forest, Desicion Tree ) (TAMAMLANDI ! ) <br>\n",
    "2-) Train/Test Spliti değiştir %50 şeklinde ayır ne değişecek ? ( 70-30, 80-20 50-50) (TAMAMLANDI ! Excel Dosyasına raporlandı.)<br>\n",
    "3-) Standardization\n",
    "yerine normalization yap ( TAMAMLANDI Word not alındı.)<br>\n",
    "4-) Outlier'lardan 2.5 yerine 1.5 çıkar ne değişecek ? ( sonuçlarına  bak ne olacak ? )(TAMAMLANDI!) <br>\n",
    "\n",
    "--> Dışarıdan yeni veri geldiğinde outputu al.\n",
    "\n",
    "-- bunları araştır.<br>\n",
    "Ensemble learning ( topluluk öğrenimi) bunu araştır.<br>\n",
    "Feature selection ( özelliklerin bir kısmını versek bir kısmını vermesek en önemlileri versek nasıl olur ) feature selection yöntemlerini öğren araştır.)\n",
    "Bununla alakalı veya daha büyük bir veri seti varsa ona geçebiliriz. araştır.<br>\n",
    "\n",
    "--------------------------------------------------------------------------------------------------------\n",
    "\n",
    "1-) Precision Score araştır. Recall f1 score hazır kütüphanede var syklearn.(TAMAMLANDI ! ) <br> \n",
    "2-) Outlier'ları çıkarmak yerine ortalama değerini koyarak değerini yeniden hesapla.3 halin  accuracy scorenunu yaz.(ilk hali outlier atılmış hali ve ortalama alınmış hali.) (TAMAMLANDI ! ) <br>\n",
    "3-) Ensemble learning uygulaması yap.(topluluk öğrenimi) (TAMAMLANDI ! )<br> \n",
    "4-) Lasso araştır.(TAMAMLANDI ! ) <br>\n",
    "5-) Daha büyük bir veri seti. (TAMAMLANDI ! ) <br>\n",
    "6-) Lasso ile feature selection yapıp sonuçlara bak (TAMAMLANDI ! )<br> \n",
    "7-) Boyut azaltma teknikleri alaştır. (PCA bakabilirsin.)(TAMAMLANDI ! )<br> \n",
    "8-) Literatur araştırması yapılacak, aynı konu ve veri seti yapılan çalışmalarda karşılaştırma tablosu yapılacak.<br> \n",
    "9-) CNN 1-D(bir boyutlu) ile modeli eğit, LSTM-1D ile modeli eğit. derin öğrenme modellerini yap.(TAMAMLANDI!)<br> \n",
    "\n",
    "--------------------------------------------------------------------------------------------------------\n",
    "\n",
    "1-)Hem lstm hem cnn ikisinin birlikte kullandığı hibrit model yapalım.(TAMAMLANDI!) <br>\n",
    "2-)Pca ile boyut azaltarak dene. (TAMAMLANDI!)<br>\n",
    "3-)Bilstm yöntemiyle eğit (TAMAMLANDI!) <br>\n",
    "4-)Sonra cnn ve bilstm hibrit yap (TAMAMLANDI!) <br>\n",
    "5-)En son bu 3 modeli ensemble yap ??<br>\n",
    "6-)Lasso sonrası ensemble yap (TAMAMLANDI!)<br>\n",
    "7-)Projenin tamamını refactor et.<br>\n",
    "--------------------------------------------------------------------------------------------------------\n",
    "1-) PCA Sonrası Ensemble (TAMAMLANDI!) <br> \n",
    "2-) Derin öğrenme modelleri Ensemble(TAMAMLANDI!)<br>\n",
    "3-) Literatür araştırma sonrası karşılaştırma tablosu.<br>\n",
    "4-) Epoc değerlerini arttırırsak ne olacak ona bak.(TAMAMLANDI!)<br>\n",
    "\n"
   ]
  }
 ],
 "metadata": {
  "kernelspec": {
   "display_name": "base",
   "language": "python",
   "name": "python3"
  },
  "language_info": {
   "codemirror_mode": {
    "name": "ipython",
    "version": 3
   },
   "file_extension": ".py",
   "mimetype": "text/x-python",
   "name": "python",
   "nbconvert_exporter": "python",
   "pygments_lexer": "ipython3",
   "version": "3.11.5"
  }
 },
 "nbformat": 4,
 "nbformat_minor": 2
}
